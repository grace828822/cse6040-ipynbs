{
 "cells": [
  {
   "cell_type": "markdown",
   "metadata": {},
   "source": [
    "# CSE 6040, Fall 2015 [03]: Association Rule Discovery\n",
    "\n",
    "The main topic for today is the problem of efficiently discovering association rules.\n",
    "\n",
    "But first..."
   ]
  },
  {
   "cell_type": "markdown",
   "metadata": {},
   "source": [
    "## Email extraction\n",
    "\n",
    "There was a lot of interesting discussion on Piazza about extracting email addresses from an email archive using regular expressions (see post [@9](https://piazza.com/class/idap9v1ktp94u9?cid=9)). As of the time of this writing, the collective student solution was the following:"
   ]
  },
  {
   "cell_type": "code",
   "execution_count": 1,
   "metadata": {
    "collapsed": false
   },
   "outputs": [
    {
     "name": "stdout",
     "output_type": "stream",
     "text": [
      "['dorsey@enron.com', 'dorsey@enron.com', 'jeremy.blachman@enron.com', 'a..bibi@enron.com', 'raymond.bowen@enron.com', 'jeremy.blachman@enron.com', 'a..bibi@enron.com', 'raymond.bowen@enron.com', 'london.brown@enron.com']\n",
      "4859\n"
     ]
    }
   ],
   "source": [
    "# Students solution, as of Tue Aug 25 01:00:03 EDT 2015.\n",
    "# See: https://piazza.com/class/idap9v1ktp94u9?cid=9\n",
    "\n",
    "import re\n",
    "import string\n",
    "\n",
    "def reademails(myfile):\n",
    "    inbox = open (myfile, 'r') # 'r' = read mode; use 'w' for writing\n",
    "    assert inbox               # Makes sure it opened OK\n",
    "    \n",
    "    emails = []\n",
    "\n",
    "    lastline = inbox.readline() # init lastline\n",
    "    \n",
    "    for line in inbox:\n",
    "        if lastline.endswith('=\\n'):\n",
    "            lastline = string.replace(lastline,'=','').replace('\\n', '')\n",
    "        line1 = (lastline + line).lower() # remove newline and make emails lowercase\n",
    "        emails.extend(re.findall(\"[\\w.-]+@[\\w.-]+[.][A-Za-z]{2,4}\", line1)) #gets list of emails in the line\n",
    "        lastline = line\n",
    "        \n",
    "    print emails[0:9]   #sample print\n",
    "    \n",
    "    emails = set(emails) #gets unique items\n",
    "    \n",
    "    inbox.close()\n",
    "    return emails\n",
    "\n",
    "print len(reademails('skilling-j.inbox'))"
   ]
  },
  {
   "cell_type": "markdown",
   "metadata": {},
   "source": [
    "This solution is really great, as it works hard to try to extract email addresses robustly from a file with a lot of funny formatting, while retaining the memory efficiency of line-by-line file parsing. (For instance, messages where each line of the body is trimmed at a fixed column and ends with an `=` character, so the above code considers pairs of lines and concatenates them.)\n",
    "\n",
    "But in a sense, we actually made the problem harder for you than necessary!\n",
    "\n",
    "For instance, the email archive we provided is actually a subset of the full Enron email archive, which is available [here](https://www.cs.cmu.edu/~./enron/). (_Warning:_ The full archive is $\\approx$ 423 MiB _compressed_.) In the full archive, every email is in its own file, which means it is more conceivable to assume you can read one whole message into main memory for subsequent processing.\n",
    "\n",
    "Moreover, we didn't say what the real application might be. For example, suppose what you are mining is who corresponds with whom most frequently. In that case, you don't need to parse the whole message body; you just need to inspect the `From: ...` and `To: ...` headers in each email message.\n",
    "\n",
    "So, for the sake of variety, let's consider a different solution that exploits the above simplifications, i.e., one email per file and from/to headers. This scenario will allow us to introduce a couple other useful Python modules: the [`os` module](https://docs.python.org/2/library/os.html), which has some portable file and directory manipulation utilities, and the [`email` module](https://docs.python.org/2/library/email.parser.html), which helps you parse email messages. We'll just show you some code, below; you should read it and compare it against the online documentation for these modules.\n",
    "\n",
    "> Note: To run this code, you will need to download the Enron email database. For testing purposes, you can use a smaller subset that we have prepared: http://cse6040.gatech.edu/fa15/enron-maildir-subset.zip"
   ]
  },
  {
   "cell_type": "code",
   "execution_count": 10,
   "metadata": {
    "collapsed": false
   },
   "outputs": [
    {
     "name": "stdout",
     "output_type": "stream",
     "text": [
      "15177\n"
     ]
    }
   ],
   "source": [
    "import os\n",
    "from email.parser import Parser\n",
    "import re\n",
    "\n",
    "def getAllFilePaths (root_dirname):\n",
    "    \"\"\"Returns a list of all file paths from a given root directory.\"\"\"\n",
    "    AllPaths = []\n",
    "    for base, Dirs, Files in os.walk (root_dirname):\n",
    "        for filename in Files:\n",
    "            filepath = os.path.join (base, filename)\n",
    "            AllPaths.append (filepath)\n",
    "    return AllPaths\n",
    "\n",
    "# A regex object to recognize an email address:\n",
    "EMAIL_PATTERN = re.compile (r'[\\w.-]+@[\\w.-]+')\n",
    "\n",
    "def getCommunicators (email_msg):\n",
    "    \"\"\"Given an email message object, returns the sender and recipients.\"\"\"\n",
    "    Comms = []\n",
    "    Comms.extend (EMAIL_PATTERN.findall (email_msg['From']))\n",
    "    if email_msg.has_key ('To'):\n",
    "        Comms.extend (EMAIL_PATTERN.findall (email_msg['To']))\n",
    "    return Comms\n",
    "\n",
    "# Main loop\n",
    "EmailFilenames = getAllFilePaths ('./enron-maildir-subset')\n",
    "UniqueAddresses = set () # Stores unique sender/recipient email addresses\n",
    "for email_filename in EmailFilenames:\n",
    "    email_file = open (email_filename)\n",
    "    msg = Parser ().parse (email_file)\n",
    "    email_file.close ()\n",
    "    Addresses = getCommunicators (msg)\n",
    "    UniqueAddresses.update (Addresses)\n",
    "print (len (UniqueAddresses))"
   ]
  },
  {
   "cell_type": "markdown",
   "metadata": {
    "collapsed": true
   },
   "source": [
    "## Association Rule Discovery\n",
    "\n",
    "Suppose you are a retailer (e.g., Publix, Amazon) who sells _items_, and you want to discover whether customers buy certain pairs of items together frequently. The data you have are _baskets_: a basket is the list of items that some customer bought during a given visit. We will refer to this problem as the _pairwise association mining problem_.\n",
    "\n",
    "> The more general form, where you are interested in subsets of items, rather than only pairs, is the _association mining problem_.\n",
    "\n",
    "With your nearest neighbor(s), briefly discuss the following questions.\n",
    "\n",
    "> Q: How might you use the information about co-occurring pairs?\n",
    "\n",
    "> Q: Give another example of a data analysis problem that, abstractly, “looks like” this pairwise association mining problem.\n",
    "\n",
    "> Q: How would you approach the problem of getting this information from the data?"
   ]
  },
  {
   "cell_type": "markdown",
   "metadata": {},
   "source": [
    "(Enter your responses to the above questions here)"
   ]
  },
  {
   "cell_type": "markdown",
   "metadata": {
    "collapsed": true
   },
   "source": [
    "## A Baseline Algorithm to Find Association Rules\n",
    "\n",
    "Let’s consider some specific algorithms for discovering _pairwise association rules_.\n",
    "\n",
    "Let $n$ be the number of items, represented by the integers $\\{0, 1, 2, \\ldots, n-1\\}$, and let $m$ be the number of baskets, numbered from $\\{0, 1, 2, \\ldots, m-1\\}$.\n",
    "\n",
    "Denote the $i$-th basket by $b_i^T \\in \\{0, 1\\}^n$, which is a binary (row) vector of length $n$. Furthermore, let $b_{i,j}$ be the the $j$-th component of $b_i^T$, which has the value of $1$ if the $i$-th transaction included a purchase of item $j$, and $0$ otherwise.\n",
    "\n",
    "Put differently, the matrix\n",
    "\n",
    "$$B \\equiv \\left(\\begin{array}{c} b_0^T \\\\ b_1^T \\\\ \\vdots \\\\ b_{m-1}^T \\end{array}\\right) = \\left(\\begin{array}{ccc} b_{0,0} & \\cdots & b_{0,n-1} \\\\ \\vdots & & \\vdots \\\\ b_{m-1,0} & \\cdots & b_{m-1,n-1} \\end{array}\\right)$$\n",
    "\n",
    "is the matrix of all transactions.\n",
    "\n",
    "A first simple algorithm might be the following. The algorithm maintains an $n \\times n$ table $T \\in \\mathcal{Z}_{*}^{n \\times n}$, which holds a count, $\\{t_{i,j} \\geq 0\\}$, for each possible pair of items $(i, j)$. Initially, $T = 0$. To save some space, you could store just the upper- or lower-triangle. The algorithm would then scan all baskets, and for each basket, increment the counts for all pairs of items in the basket. After reading all baskets, the algorithm could scan the table and pull out the top occurrences. The \"top occurrences\" might be all those that appear more than $s$ times, where $s$ is some threshold.\n",
    "\n",
    "> Q: Computationally, what are the positive or negative aspects of this approach?\n",
    "\n",
    "> Q: How should you store the table, $T$? (What sort of data structure would you try to use?)"
   ]
  },
  {
   "cell_type": "markdown",
   "metadata": {},
   "source": [
    "(Enter your responses to the above questions here.)"
   ]
  },
  {
   "cell_type": "markdown",
   "metadata": {
    "collapsed": true
   },
   "source": [
    "## The A-Priori Algorithm\n",
    "\n",
    "An alternative to the above algorithm is the _a-priori algorithm_. The key idea is to exploit monotonicity, which is the following natural property: if the pair of items, $(i, j)$, appears at least $s$ times, then items $i$ and $j$ must also appear at least $s$ times.\n",
    "\n",
    "> Q: Based on this observation, devise a scheme that can identify frequent pairs by reading the entire data set only twice, using at most $O(n + k_s^2)$ storage, where $n$ is the number of items and $k_s$ is the number of items that appear more than $s$ times."
   ]
  },
  {
   "cell_type": "markdown",
   "metadata": {},
   "source": [
    "(Enter your response here.)"
   ]
  }
 ],
 "metadata": {
  "kernelspec": {
   "display_name": "Python 2",
   "language": "python",
   "name": "python2"
  },
  "language_info": {
   "codemirror_mode": {
    "name": "ipython",
    "version": 2
   },
   "file_extension": ".py",
   "mimetype": "text/x-python",
   "name": "python",
   "nbconvert_exporter": "python",
   "pygments_lexer": "ipython2",
   "version": "2.7.10"
  }
 },
 "nbformat": 4,
 "nbformat_minor": 0
}
