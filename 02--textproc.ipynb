{
 "cells": [
  {
   "cell_type": "markdown",
   "metadata": {},
   "source": [
    "# CSE 6040, Fall 2015 [02]: Processing unstructured text\n",
    "\n",
    "Over the next two classes, we will build toward our first computational data mining problem, called the _association rule mining problem_. The basic task is to identify commonly co-occurring items in a series of transactions.\n",
    "\n",
    "We will apply this problem to a corpus of unstructured text. Consequently, this first class will introduce (or review, for some of you) a few essential useful Python tools for this problem:\n",
    "\n",
    "* [Strings](https://docs.python.org/2/tutorial/introduction.html#strings)\n",
    "* [Sets](https://docs.python.org/2/tutorial/datastructures.html#sets)\n",
    "* [Dictionaries](https://docs.python.org/2/tutorial/datastructures.html#dictionaries)\n",
    "* [Regular expressions](https://docs.python.org/2/library/re.html)\n",
    "* [Files](https://docs.python.org/2/tutorial/inputoutput.html#reading-and-writing-files)"
   ]
  },
  {
   "cell_type": "markdown",
   "metadata": {},
   "source": [
    "## 0: Word count\n",
    "\n",
    "Given a fragment of text, represented by a string (possibly including newlines), how many words does it contain?\n",
    "\n",
    "Consider the following two methods to count words in a string. Look at these with a partner."
   ]
  },
  {
   "cell_type": "code",
   "execution_count": 1,
   "metadata": {
    "collapsed": false,
    "scrolled": true
   },
   "outputs": [
    {
     "name": "stdout",
     "output_type": "stream",
     "text": [
      "I wish you'd stop talking.\n",
      "I wish you'd stop prying and trying to find things out.\n",
      "I wish you were dead. No. That was silly and unkind.\n",
      "But I wish you'd stop talking.\n",
      "\n",
      "Word count: Method 1 says 33 words, and Method 2 says 33.\n"
     ]
    }
   ],
   "source": [
    "quote = \"\"\"I wish you'd stop talking.\n",
    "I wish you'd stop prying and trying to find things out.\n",
    "I wish you were dead. No. That was silly and unkind.\n",
    "But I wish you'd stop talking.\"\"\"\n",
    "print (quote)\n",
    "\n",
    "def countWords1 (s):\n",
    "    \"\"\"Counts the number of words in a given input string.\"\"\"\n",
    "    Lines = s.split ('\\n')\n",
    "    count = 0\n",
    "    for line in Lines:\n",
    "        Words_in_line = line.split ()\n",
    "        count = count + len (Words_in_line)\n",
    "    return count\n",
    "\n",
    "def countWords2 (s):\n",
    "    \"\"\"Counts the number of words in a given input string.\"\"\"\n",
    "    return len (quote.split ())\n",
    "\n",
    "count1 = countWords1 (quote)\n",
    "count2 = countWords2 (quote)\n",
    "print (\"\\nWord count: Method 1 says %d words, and Method 2 says %d.\" % (count1, count2))\n",
    "assert count1 == count2"
   ]
  },
  {
   "cell_type": "markdown",
   "metadata": {},
   "source": [
    "> Q: Which would the two of you predict will be better, and why?"
   ]
  },
  {
   "cell_type": "markdown",
   "metadata": {},
   "source": [
    "(Insert your response to the above question(s) here.)"
   ]
  },
  {
   "cell_type": "markdown",
   "metadata": {},
   "source": [
    "> Q: When might these methods _not_ work as expected? With your partner, come up with one example input and write your own word counter, below, that handles that case."
   ]
  },
  {
   "cell_type": "code",
   "execution_count": 8,
   "metadata": {
    "collapsed": false
   },
   "outputs": [
    {
     "name": "stdout",
     "output_type": "stream",
     "text": [
      "I wish you'd stop talking.\n",
      "I wish you'd stop prying and trying to find things out.\n",
      "I wish you were dead. No. That was silly and unkind.\n",
      "But I wish you'd stop talking.\n"
     ]
    },
    {
     "data": {
      "text/plain": [
       "134"
      ]
     },
     "execution_count": 8,
     "metadata": {},
     "output_type": "execute_result"
    }
   ],
   "source": [
    "quote = \"\"\"I wish you'd stop talking.\n",
    "I wish you'd stop prying and trying to find things out.\n",
    "I wish you were dead. No. That was silly and unkind.\n",
    "But I wish you'd stop talking.\"\"\"\n",
    "print (quote)\n",
    "\n",
    "def yourCountWords (s):\n",
    "    count = 0\n",
    "    for line in s:\n",
    "        words = line.split()\n",
    "        for word in words:\n",
    "            count = count +1\n",
    "    return count\n",
    "\n",
    "yourCountWords(quote)\n",
    "# Write some code to test your implementation here as well."
   ]
  },
  {
   "cell_type": "markdown",
   "metadata": {},
   "source": [
    "## 1: Counting unique strings\n",
    "\n",
    "Suppose you are given a Python list of email addresses. Determine the number of _unique_ addresses."
   ]
  },
  {
   "cell_type": "code",
   "execution_count": 9,
   "metadata": {
    "collapsed": false
   },
   "outputs": [
    {
     "name": "stdout",
     "output_type": "stream",
     "text": [
      "['quigbert@cc.gatech.edu', 'dummy@gatech.edu', 'dummy@vuduc.org', 'dummy@gatech.edu', 'hopeful@gatech.edu', 'overworked@gatech.edu', 'quigbert@cc.gatech.edu']\n",
      "\n",
      "'Emails' has 5 unique addresses.\n"
     ]
    }
   ],
   "source": [
    "Emails = ['quigbert@cc.gatech.edu', 'dummy@gatech.edu', 'dummy@vuduc.org', 'dummy@gatech.edu', 'hopeful@gatech.edu', 'overworked@gatech.edu', 'quigbert@cc.gatech.edu']\n",
    "print (Emails)\n",
    "\n",
    "true_answer = 5\n",
    "print (\"\\n'Emails' has %d unique addresses.\" % true_answer)"
   ]
  },
  {
   "cell_type": "markdown",
   "metadata": {},
   "source": [
    "**Method 1.** Let's use a data structure called a _dictionary_, which stores (key, value) pairs."
   ]
  },
  {
   "cell_type": "code",
   "execution_count": 11,
   "metadata": {
    "collapsed": false
   },
   "outputs": [
    {
     "name": "stdout",
     "output_type": "stream",
     "text": [
      "(Method 1 worked!)\n",
      "{'overworked@gatech.edu': 1, 'dummy@vuduc.org': 1, 'hopeful@gatech.edu': 1, 'dummy@gatech.edu': 1, 'quigbert@cc.gatech.edu': 1}\n"
     ]
    }
   ],
   "source": [
    "Dict = {}\n",
    "for email in Emails:\n",
    "    Dict[email] = 1\n",
    "count = len (Dict)\n",
    "assert count == true_answer\n",
    "print (\"(Method 1 worked!)\")\n",
    "print Dict"
   ]
  },
  {
   "cell_type": "markdown",
   "metadata": {},
   "source": [
    "**Method 2.** Let's use a different data structure, called a _set_. It essentially implements a set in the mathematical sense."
   ]
  },
  {
   "cell_type": "code",
   "execution_count": 12,
   "metadata": {
    "collapsed": false
   },
   "outputs": [
    {
     "name": "stdout",
     "output_type": "stream",
     "text": [
      "Method 2 worked!\n",
      "set(['overworked@gatech.edu', 'dummy@vuduc.org', 'hopeful@gatech.edu', 'dummy@gatech.edu', 'quigbert@cc.gatech.edu'])\n"
     ]
    }
   ],
   "source": [
    "UniqueEmails = set (Emails)\n",
    "count = len (UniqueEmails)\n",
    "assert count == true_answer\n",
    "print (\"Method 2 worked!\")\n",
    "print UniqueEmails"
   ]
  },
  {
   "cell_type": "markdown",
   "metadata": {},
   "source": [
    "> Q: So, which method is better, and why? If you think one method is better than another for this problem, for what kinds of problems would you prefer the other method?"
   ]
  },
  {
   "cell_type": "markdown",
   "metadata": {},
   "source": [
    "(Insert your response to the above question(s) here.)"
   ]
  },
  {
   "cell_type": "markdown",
   "metadata": {},
   "source": [
    "## 2: Regular expressions\n",
    "\n",
    "The preceding exercise hints at a general problem of finding specific patterns in text. A handy tool for this problem is Python's _regular expression library_.\n",
    "\n",
    "A _regular expression_ is specially formatted pattern, written as a string. Matching patterns with regular expressions has 3 steps:\n",
    "\n",
    "1. You come up with a pattern to find\n",
    "2. You compile it into a _pattern object_\n",
    "3. You apply the pattern object to a string, to find instances of the pattern within the string\n",
    "\n",
    "It is easiest to see by example. What follows is just a small sample of what is possible with regular expressions in Python; refer to the [regular expression documentation](https://docs.python.org/2/howto/regex.html) for many more examples and details.\n",
    "\n",
    "**Example 1.** The simplest pattern is text that you wish to match exactly. For instance, suppose you wish to find an instance of the word \"impossible\" in a piece of text. Here is a snippet of Python code to do it.\n",
    "\n",
    "> Run this snippet. Try changing the search string and see what happens."
   ]
  },
  {
   "cell_type": "code",
   "execution_count": 17,
   "metadata": {
    "collapsed": false
   },
   "outputs": [
    {
     "name": "stdout",
     "output_type": "stream",
     "text": [
      "Found pattern at position 16\n"
     ]
    }
   ],
   "source": [
    "import re    # Loads the regular expression library\n",
    "\n",
    "p = re.compile (\"impossible\",re.IGNORECASE) \n",
    "m = p.search (\"This mission is Impossible.\")\n",
    "if m == None:\n",
    "    print (\"Not found.\")\n",
    "else:\n",
    "    print (\"Found pattern at position %d\" % m.start ())"
   ]
  },
  {
   "cell_type": "markdown",
   "metadata": {},
   "source": [
    "The variable `m` in the example contains a _match object_ if the pattern is found. You can perform queries against the match object, such as the one illustrated above."
   ]
  },
  {
   "cell_type": "markdown",
   "metadata": {},
   "source": [
    "Beyond exact text, there is a rich syntax for specifying complex patterns.\n",
    "\n",
    "For instance, you can use _character classes_ to match both \"Impossible\" and \"impossible\" using the pattern, \"`[Ii]mpossible`\". That is, the characters in square brackets represent the set of all characters that may match at the given position. As another example, you could match any digit using the character class, \"`[0123456789]`\", or the more compact _range_ notation, \"`[0-9]`\". Thus, the pattern, \"`cat[xyz][0-9]hole`\" would match \"catx3hole\" but neither \"catX3hole\" nor \"catxzhole\".\n",
    "\n",
    "You can also match the _complement_ of a character class set using a caret, \"`^`\", just after the opening square bracket. \"`^`\", is the except! For instance, \"`cat[a-z][^0-9]hole`\" would match \"catx@hole\" but not \"catx3hole\".\n",
    "\n",
    "There are some common character classes, which have additional shortcuts. For instance, the special _escaped_ `d`, or `\\d`, will match _any_ digit. So, to match a 7-digit phone number, you might use the pattern, \"`\\d\\d\\d-\\d\\d\\d\\d`\".\n",
    "\n",
    "Parentheses actually have a special meaning in a regular expression pattern. Therefore, to match an exact parenthesis, you need to prefix it (or _escape_ it) with a backslash, `\\`."
   ]
  },
  {
   "cell_type": "markdown",
   "metadata": {},
   "source": [
    "**Example 2.** For instance, suppose you wish to match a phone number written in the US standard format, like \"(404) 555-1212\". The pattern is a 3-digit area code, surrounded by parentheses, followed by a space, followed by a 7-digit number separated between the third and fourth digits. This pattern can be encoded as the following regular expression pattern:\n",
    "\n",
    "    \\(\\d\\d\\d\\) \\d\\d\\d-\\d\\d\\d\\d\n",
    "    \n",
    "> Try the following example, which demonstrates the phone number matching pattern."
   ]
  },
  {
   "cell_type": "code",
   "execution_count": 18,
   "metadata": {
    "collapsed": false
   },
   "outputs": [
    {
     "data": {
      "text/plain": [
       "'(404) 555-1212'"
      ]
     },
     "execution_count": 18,
     "metadata": {},
     "output_type": "execute_result"
    }
   ],
   "source": [
    "def findPhone1 (s):\n",
    "    \"\"\"Returns the first instance of a phone number in 's', or 'None'.\"\"\"\n",
    "    phonePattern = re.compile (\"\\(\\d\\d\\d\\) \\d\\d\\d-\\d\\d\\d\\d\")\n",
    "    hasPhone = phonePattern.search (s)\n",
    "    if hasPhone:\n",
    "        a = hasPhone.start ()\n",
    "        b = hasPhone.end ()\n",
    "        phone = s[a:b]\n",
    "    else:\n",
    "        phone = None\n",
    "    return phone\n",
    "    \n",
    "message = \"Hi Betty. Give me a ring at (404) 555-1212 when you get a chance.\"\n",
    "findPhone1 (message)"
   ]
  },
  {
   "cell_type": "markdown",
   "metadata": {},
   "source": [
    "**Example 4.** You can make the phone number pattern more robust by allowing _zero or more_ spaces between the area code and the phone number, using the `*` option:"
   ]
  },
  {
   "cell_type": "code",
   "execution_count": 19,
   "metadata": {
    "collapsed": false
   },
   "outputs": [
    {
     "data": {
      "text/plain": [
       "'(404)555-1212'"
      ]
     },
     "execution_count": 19,
     "metadata": {},
     "output_type": "execute_result"
    }
   ],
   "source": [
    "def findPhone2 (s):\n",
    "    \"\"\"Returns the first instance of a phone number in 's', or 'None'.\"\"\"\n",
    "    phonePattern = re.compile (\"\\(\\d\\d\\d\\) *\\d\\d\\d-\\d\\d\\d\\d\")\n",
    "    hasPhone = phonePattern.search (s)\n",
    "    if hasPhone:\n",
    "        a = hasPhone.start ()\n",
    "        b = hasPhone.end ()\n",
    "        phone = s[a:b]\n",
    "    else:\n",
    "        phone = None\n",
    "    return phone\n",
    "\n",
    "findPhone2 (\"Phone: (404)555-1212\")"
   ]
  },
  {
   "cell_type": "markdown",
   "metadata": {},
   "source": [
    "Beyond \"`*`\", other wildcards include \"`+`\" to match one or more, as well as \"`?`\" to match zero or one instances."
   ]
  },
  {
   "cell_type": "markdown",
   "metadata": {},
   "source": [
    "**Example 5.** It's also possible to match alternatives, using the _or_ symbol, `|`. For instance, suppose you wish to recognize either of the words, \"prefix\" or \"suffix\":"
   ]
  },
  {
   "cell_type": "code",
   "execution_count": 20,
   "metadata": {
    "collapsed": false
   },
   "outputs": [],
   "source": [
    "fixFinder = re.compile (\"(pre|suf)fix\")\n",
    "assert fixFinder.search (\"prefix\")\n",
    "assert fixFinder.search (\"suffix\")\n",
    "assert not fixFinder.search (\"infix\")"
   ]
  },
  {
   "cell_type": "markdown",
   "metadata": {},
   "source": [
    "> Q: Apply these technique to our phone number finder. Define a function that can match phone numbers in any of the following forms:\n",
    "\n",
    "* (404) 555-1212\n",
    "* 404-555-1212\n",
    "* 404-5551212\n",
    "* 404555-1212\n",
    "* 4045551212"
   ]
  },
  {
   "cell_type": "code",
   "execution_count": 27,
   "metadata": {
    "collapsed": false
   },
   "outputs": [
    {
     "name": "stdout",
     "output_type": "stream",
     "text": [
      "(404)555-1212\n",
      "(404) 555-1212\n",
      "404-555-1212\n",
      "4045551212\n"
     ]
    }
   ],
   "source": [
    "def yourPhoneFinder (s):\n",
    "    \"\"\"Returns the first instance of a phone number in 's', or 'None'.\"\"\"\n",
    "    # Fix the pattern:\n",
    "    phonePattern = re.compile (\"(\\(| *)\\d\\d\\d(\\)| * )( *|-)\\d\\d\\d( *|-)\\d\\d\\d\\d\")\n",
    "    phonePattern = re.compile (\"\\D*\\d\\d\\d\\D*\\d\\d\\d\\D*\\d\\d\\d\\d\")\n",
    "    hasPhone = phonePattern.search (s)\n",
    "    if hasPhone:\n",
    "        a = hasPhone.start ()\n",
    "        b = hasPhone.end ()\n",
    "        phone = s[a:b]\n",
    "    else:\n",
    "        phone = None\n",
    "    return phone\n",
    "\n",
    "assert yourPhoneFinder (\"(404)555-1212\")\n",
    "assert yourPhoneFinder (\"(404) 555-1212\")\n",
    "assert yourPhoneFinder (\"404-555-1212\")\n",
    "assert yourPhoneFinder (\"4045551212\")\n",
    "\n",
    "print yourPhoneFinder (\"(404)555-1212\")\n",
    "print yourPhoneFinder (\"(404) 555-1212\")\n",
    "print yourPhoneFinder (\"404-555-1212\")\n",
    "print yourPhoneFinder (\"4045551212\")"
   ]
  },
  {
   "cell_type": "markdown",
   "metadata": {},
   "source": [
    "**Example 6.** Another common use-case is matching a string but extracting just a portion of it. For this purpose, you can use _groups_.\n",
    "\n",
    "Consider the simple form of phone numbers, such as \"(404) 555-1212\". Suppose you wish to match a phone number, but then extract just the digits of the area code from the remainder of the number. For instance, for the above you might produce the list, `['404','555-1212']`.\n",
    "\n",
    "You can identify a group inside the pattern by enclosing the subpattern within parentheses, and then using a special syntax to give it a name. The name allows you to refer to the matched substring later on:"
   ]
  },
  {
   "cell_type": "code",
   "execution_count": 29,
   "metadata": {
    "collapsed": false
   },
   "outputs": [
    {
     "data": {
      "text/plain": [
       "['404', '555-1212']"
      ]
     },
     "execution_count": 29,
     "metadata": {},
     "output_type": "execute_result"
    }
   ],
   "source": [
    "def findPhone3 (s):\n",
    "    \"\"\"Returns a the first instance of a phone number in 's', or 'None'.\"\"\"\n",
    "    phonePattern = re.compile (\"\\((?P<areacode>\\d\\d\\d)\\) (?P<number>\\d\\d\\d-\\d\\d\\d\\d)\")\n",
    "    hasPhone = phonePattern.search (s)\n",
    "    if hasPhone:\n",
    "        areacode = hasPhone.group ('areacode')\n",
    "        number = hasPhone.group ('number')\n",
    "        phone = [areacode, number]\n",
    "    else:\n",
    "        phone = None\n",
    "    return phone\n",
    "\n",
    "findPhone3 (message)"
   ]
  },
  {
   "cell_type": "markdown",
   "metadata": {},
   "source": [
    "In the preceding example, the syntax, `(?P<name>xxx)` defines a group named `name` for the subpattern represented abstractly by `xxx`. The example calls the match object's method, `group(\"name\")`, to extract the matching substring."
   ]
  },
  {
   "cell_type": "markdown",
   "metadata": {},
   "source": [
    "**Example 7.** One pitfall with regular expression patterns is that they get messy quickly. The `re.compile()` function takes a special flag, `re.VERBOSE`, which allows you to write regular expressions in a more structured and hopefully also more readable way. In particular, you can insert arbitrary amounts of whitespace as well as comments."
   ]
  },
  {
   "cell_type": "code",
   "execution_count": 30,
   "metadata": {
    "collapsed": false
   },
   "outputs": [
    {
     "data": {
      "text/plain": [
       "['404', '555-1212']"
      ]
     },
     "execution_count": 30,
     "metadata": {},
     "output_type": "execute_result"
    }
   ],
   "source": [
    "def findPhone4 (s):\n",
    "    \"\"\"Returns a the first instance of a phone number in 's', or 'None'.\"\"\"\n",
    "    phonePattern = re.compile (r\"\"\"\n",
    "          # Area code:\n",
    "          \\(\n",
    "            (?P<areacode>\\d\\d\\d)\n",
    "          \\)\n",
    "          # Optional separator (one or more spaces)\n",
    "          \\s*\n",
    "          # Phone number\n",
    "          (?P<number>\\d\\d\\d-\\d\\d\\d\\d)\n",
    "       \"\"\", re.VERBOSE)\n",
    "    hasPhone = phonePattern.search (s)\n",
    "    if hasPhone:\n",
    "        areacode = hasPhone.group ('areacode')\n",
    "        number = hasPhone.group ('number')\n",
    "        phone = [areacode, number]\n",
    "    else:\n",
    "        phone = None\n",
    "    return phone\n",
    "\n",
    "findPhone4 (message)"
   ]
  },
  {
   "cell_type": "markdown",
   "metadata": {},
   "source": [
    "## 3: File I/O\n",
    "\n",
    "Reading from or writing to a file is accomplished through a _file object_.\n",
    "\n",
    "In this example, the file \"skilling-j.inbox\" is a text file containing a bunch of email messages. You should download it if you haven't done so already: [[download]](https://raw.githubusercontent.com/rvuduc/cse6040-ipynbs/master/skilling-j.inbox). (If you are pulling directly from the class notebooks Github repo, this file is included already.)"
   ]
  },
  {
   "cell_type": "markdown",
   "metadata": {},
   "source": [
    "**Example 1.** You can read the entire file into a string by using `open()` to create a file object, and then reading its contents:"
   ]
  },
  {
   "cell_type": "code",
   "execution_count": 31,
   "metadata": {
    "collapsed": false
   },
   "outputs": [
    {
     "name": "stdout",
     "output_type": "stream",
     "text": [
      "Message-ID: <10617394.1075840149224.JavaMail.evans@thyme>\r\n",
      "Date: Wed, 6 Jun 2001 10:46:14 -0700 (PDT)\r\n",
      "From: dorsey@enron.com\r\n",
      "To: jeremy.blachman@enron.com, a..bibi@enron.com, raymond.bowen@enron.com, \r\n",
      "\tlondon.brown@enron.com, rick.buy@enron.com, richard.causey@enron.com, \r\n",
      "\twade.cline@enron.com, david.cox@enron.com, david.delainey@enron.com, \r\n",
      "\tjames.derrick@enron.com, m..elliott@enron.com, jim.fallon@enron.com, \r\n",
      "\tandrew.fastow@enron.com, mark.frevert@enron.com, \r\n",
      "\tben.glisan@enron.com, kevi\n"
     ]
    }
   ],
   "source": [
    "inbox = open ('skilling-j.inbox', 'r') # 'r' = read mode; use 'w' for writing\n",
    "assert inbox # Makes sure it opened OK\n",
    "\n",
    "all_messages = inbox.read ()\n",
    "inbox.close () # Should close a file when you are done\n",
    "\n",
    "# Print first 500 characters\n",
    "print all_messages[0:500]"
   ]
  },
  {
   "cell_type": "markdown",
   "metadata": {},
   "source": [
    "> Q: Do you anticipate any pitfalls in this approach?"
   ]
  },
  {
   "cell_type": "markdown",
   "metadata": {},
   "source": [
    "(Insert your response to the above question(s) here.)"
   ]
  },
  {
   "cell_type": "markdown",
   "metadata": {},
   "source": [
    "**Example 2.** A more memory-efficient way to read a file is to read chunks at a time. For text files, a particularly convenient way is to read the file one line at a time, using a file object's `readline ()` method, or by looping directly over the object. The following example does so in order to count the number of lines in the file."
   ]
  },
  {
   "cell_type": "code",
   "execution_count": 32,
   "metadata": {
    "collapsed": false
   },
   "outputs": [
    {
     "name": "stdout",
     "output_type": "stream",
     "text": [
      "The file has 78170 lines.\n"
     ]
    }
   ],
   "source": [
    "inbox = open ('skilling-j.inbox', 'r') # 'r' = read mode; use 'w' for writing\n",
    "assert inbox # Makes sure it opened OK\n",
    "\n",
    "count = 0\n",
    "for line in inbox: # reads one line at a time\n",
    "    count = count + 1\n",
    "inbox.close ()\n",
    "\n",
    "print (\"The file has %d lines.\" % count)"
   ]
  },
  {
   "cell_type": "markdown",
   "metadata": {},
   "source": [
    "## 4: Putting it all together: Email counter\n",
    "\n",
    "> Q: Using all of the techniques in this lesson, write a Python program that counts the number of _unique_ email addresses that appear in the \"skilling-j.inbox\" input file."
   ]
  },
  {
   "cell_type": "code",
   "execution_count": 18,
   "metadata": {
    "collapsed": false,
    "scrolled": false
   },
   "outputs": [
    {
     "name": "stdout",
     "output_type": "stream",
     "text": [
      "Have 3900 email addresses.\n",
      "['10617394.1075840149224.JavaMail.evans@thyme', 'dorsey@enron.com', 'jeremy.blachman@enron.com', 'london.brown@enron.com', 'wade.cline@enron.com', 'james.derrick@enron.com', 'andrew.fastow@enron.com', 'ben.glisan@enron.com', 'stanley.horton@enron.com', 'louise.kitchen@enron.com', 'kenneth.lay@enron.com', 'danny.mccarty@enron.com', 'rebecca.mcdonald@enron.com', 'mark.metts@enron.com', 'lou.pai@enron.com', 'matthew.scrimshaw@enron.com', 'jeffrey.sherrick@enron.com', 'jeff.skilling@enron.com', 'greg.whalley@enron.com', 'janet.dietrich@enron.com', 'g.g..garcia@enron.com', 'kay.chapman@enron.com', 'nicki.daw@enron.com', 'cindy.stark@enron.com', 'joannie.williamson@enron.com', 'l..wells@enron.com', 'loretta.brelsford@enron.com', 'dolores.fisher@enron.com', 'dorothy.dalton@enron.com', 'christina.grow@enron.com', 'sherri.sera@enron.com', 'suzanne.danz@enron.com', 'marsha.schiller@enron.com', 'l..paxton@enron.com', 'tammie.schoppe@enron.com', 'jennifer.burns@enron.com', 'kathy.dodgen@enron.com', 'carol.moffett@enron.com', 'leah.rijo@enron.com', 'julie.armstrong@enron.com', 'mrudula.gadade@enron.com', 'rebecca.carter@enron.com', 'vivianna.bolen@enron.com', 'vanessa.bob@enron.com', '4081906.1075840149367.JavaMail.evans@thyme', 'shankman@enron.com', '19349609.1075840149401.JavaMail.evans@thyme', 'tom.mashington@enron.com', 'Enron@ENRON', '32885718.1075840149428.JavaMail.evans@thyme', '1660355.1075840149452.JavaMail.evans@thyme', 'tomskilljr@enron.com', 'markskilling@hotmail.com', 'jskilli@enron.com', '21854031.1075840149478.JavaMail.evans@thyme', 'keep.guessing@enron.com', 'office.chairman@enron.com', 'Jeff.skilling@enron.com', '13889929.1075840149503.JavaMail.evans@thyme', 'ted.hall@enron.com', 'mson@softbank.co.jp', 'kohmae@work.ohmae.co.jp', '9869406.1075840149532.JavaMail.evans@thyme', 'tim.despain@enron.com', 'Enron@EnronXGate', '15564049.1075840149579.JavaMail.evans@thyme', 'ypo_international@enron.com', '28180264.1075840149664.JavaMail.evans@thyme', 'glenn.dubin@enron.com', 'gdubin@houstontech.org', 'amaniar@houstontech.org', 'mmarolo@houstontech.org', 'rakesh@snapstream.com', '4903244.1075840149691.JavaMail.evans@thyme', 'brian.redmond@enron.com', 'billy.lemmons@enron.com', 'jmerrow@hbs.edu', '32695325.1075840149717.JavaMail.evans@thyme', 'amelia.alder@enron.com', '22957502.1075840149743.JavaMail.evans@thyme', 'ebiz@enron.com', 'all.worldwide@enron.com', 'Worldwide@ENRON', '4329028.1075840149767.JavaMail.evans@thyme', 'starwood.inc.@enron.com', '11970043.1075840149794.JavaMail.evans@thyme', 'dottie.kerr@enron.com', 'dottie@kerr-solutions.com', '21700570.1075840149822.JavaMail.evans@thyme', 'henry.emery@enron.com', 'henry.emery@PaineWebber.COM', '18364529.1075840149845.JavaMail.evans@thyme', '18977449.1075840149870.JavaMail.evans@thyme', 'paul.murphy@enron.com', '19123775.1075840149899.JavaMail.evans@thyme', 'steven.kean@enron.com', 'mark.frevert@enron.com', '28937403.1075840149928.JavaMail.evans@thyme', 'ermakfdy@aol.com', 'ErmakFdy@aol.com', '13009745.1075840149952.JavaMail.evans@thyme', 'des883781@aol.com', 'DES883781@aol.com', '14115383.1075840149979.JavaMail.evans@thyme', 'thopson@nmsslonestar.org', 'THOPSON@NMSSLONESTAR.org', 'aalder@enron.com', '7424233.1075840150007.JavaMail.evans@thyme', 'david.rosenberg@enron.com', '23710114.1075840150053.JavaMail.evans@thyme', 'becker@enron.com', 'dalexander@weingarten.com', 'brian.becker@sfx.com', 'bbown@totalsafetyinc.com', 'alex@brennanshouston.com', 'sbunting@mccoyinc.com', 'jcrane@eagleusa.com', 'larry.delpapa@delpapabud.com', 'jdiaz@personix.fiserv.com', 'lesliedoggett@hotmail.com', 'jduncan@chartertitle.com', 'rfleishman@grupotampico.com.mx', 'sfordham@netversant.com', 'barbroy@worldnet.att.net', 'kgenssler@aol.com', 'jgraf@valic.com', 'swwrceo@aol.com', 'larry_heard@transwestern.net', 'pwhobby@hobbycomm.com', 'mholthouse@holthouseinterests.com', 'bhowell@lodestarlogistics.com', 'mkhourie@trammellcrow.com', 'mekuebler@aol.com', 'wvlarkin@travisintl.com', 'tlykos@hearthside.com', 'rpmark5@hotmail.com', 'fmcguyer@mhinc.com', 'waltm@wheatstoneinvestments.com', 'michaelm@morgangroup.com', 'dmurph56@aol.com', 'jim.noteware@kaiseral.com', 'apetrello@nabors.com', 'gary.remy@prodigy.net', 'andrews@boxerproperty.com', 'dsolomon@redstonecompanies.com', 'garys@sss-steel.com', 'taylor@taylorwilson.com', 'wutt@tractebelusa.com', 'craigeward@aol.com', 'kwhalen@mccallgroup.com', 'jspell@weingarten.com', 'faith.clary@sfx.com', 'ggonzales@totalsafetyinc.com', 'khughes@brennanshouston.com', 'cmiller@brockgroup.com', 'jreindl@eagleusa.com', 'carolynt@demontrond.com', 'juliam@dmcmgmt.com', 'dskyler@chartertitle.com', 'garzad@flash.net', 'rogersamy@nuevoenergy.com', 'ceburley@fcinc.cc', 'gedgar@academy.com', 'tconnor@southwestwirerope.com', 'tina_rando@transwestern.net', 'julie_mathis@hines.com', 'vicky@hoganinvestment.com', 'susanb@ceconet.com', 'kjohnson@tqcap.com', 'mcollier@jpkotts.com', 'jan_levine@travisintl.com', 'jvaughn@hearthside.com', 'dstmary@altivia.com', 'dhuff@mhinc.com', 'hopeg@wheatstoneinvestments.com', 'marykloss@compuserve.com', 'donna.boyd@kaiseral.com', 'kmartinez@ermsw.com', 'barbieh@boxerproperty.com', 'mbabineaux@mikesmithdirect.com', 'pball@insync.net', 'dewey@taylorwilson.com', 'brutledge@tractebelusa.com', 'dbcagle@swbell.net', 'dmusslewhite@mccallgroup.com', 'ehannah@wilsonfg.com', '3465932.1075840150078.JavaMail.evans@thyme', 'enron.expertfinder@enron.com', '1433077.1075840150103.JavaMail.evans@thyme', 'carol.coale@enron.com', 'jeff_skilling@enron.com', 'bdonovan@gweiss.com', 'carol_coale@prusec.com', 'wmaze@bofasecurities.com', 'bryson.hull@reuters.com', '27204234.1075840150132.JavaMail.evans@thyme', 'mson@enron.com', 'tedhall@longmeadowranch.com', 'ron_fisher@softbank.com', 'TedHall@LongMeadowRanch.com', '8871406.1075840150161.JavaMail.evans@thyme', 'linda.gardner@enron.com', 'beth@cockspuroffice.com', 'georgejr@ix.netcom.com', 'mnlovett@mail.mdanderson.org', 'robert_duncan@transwestern.net', 'vidal@martinez.net', 'edouglas@ghcf.org', 'Beth@cockspuroffice.com', '19391678.1075840150234.JavaMail.evans@thyme', 'billy.dorsey@enron.com', 'cliff.baxter@enron.com', 'raymond.bowen@enron.com', 'richard.causey@enron.com', 'david.delainey@enron.com', 'steve.elliott@enron.com', 'mark.koenig@enron.com', 'john.lavorato@enron.com', 'mike.mcconnell@enron.com', 'jeffrey.mcmahon@enron.com', 'mark.muller@enron.com', 'g.garcia@enron.com', 'sharron.westbrook@enron.com', 'stephanie.harris@enron.com', 'tori.wells@enron.com', 'kathy.mcmahon@enron.com', 'peggy.mccurley@enron.com', 'samantha.lopez-dias@enron.com', 'connie.blackwood@enron.com', 'kimberly.hillis@enron.com', 'sharon.dick@enron.com', 'kerry.ferrari@enron.com', 'jennifer.adams@enron.com', 'lucy.marshall@enron.com', 'ECT@ENRON', 'Garcia@Enron', '1735332.1075840150285.JavaMail.evans@thyme', 'samuel.pak@enron.com', 'samuel_pak@enron.netMessage-ID', 'skilling@enron.com', 'Jeff.Skilling@enron.com', '20814850.1075840150385.JavaMail.evans@thyme', 'calyx.corolla@enron.com', '30242330.1075840150408.JavaMail.evans@thyme', 'john.thornton@enron.com', '309862.1075840150431.JavaMail.evans@thyme', 'barry.pearce@enron.com', 'Enron@Enron', '6928382.1075840150454.JavaMail.evans@thyme', 'randall.rothenberg@enron.com', 'jskilli@ei.enron.com', '11446479.1075840150477.JavaMail.evans@thyme', 'david.aronoff@enron.com', 'troach@greylock.com', 'troach@Greylock.com', 'kcompton@kpcb.com', 'ginam@austinventures.com', '13423177.1075840150501.JavaMail.evans@thyme', 'kevin.compton@enron.com', 'jward@kpcb.com', 'darnoff@greylock.com', 'sherri.sera@enron.comMessage-ID', 'lou.moore@enron.com', 'administrator@houstontech.org', 'Administrator@houstontech.org', '14260026.1075840150553.JavaMail.evans@thyme', 'connell@enron.com', 'energynews@peach.ease.lsoft.com', 'ENERGYNEWS@PEACH.EASE.LSOFT.COM', 'moconnell@eyeforenergy.com', '22512678.1075840150709.JavaMail.evans@thyme', 'beth.hillis@enron.com', '10809342.1075840150733.JavaMail.evans@thyme', 'melissa@sgpr.com', '8922533.1075840150759.JavaMail.evans@thyme', '6259269.1075840150785.JavaMail.evans@thyme', '6395852.1075840150821.JavaMail.evans@thyme', '20238918.1075840150871.JavaMail.evans@thyme', '14218588.1075840150942.JavaMail.evans@thyme', 'alhamd.alkhayat@enron.com', 'jon.adler@enron.com', 'ENRON@enronXgate', '30702031.1075840150964.JavaMail.evans@thyme', 'bob.neely@enron.com', 'rneely@valuescience.com', 'Rneely@valuescience.com', '8993354.1075840150987.JavaMail.evans@thyme', 'peggy.menchaca@enron.com', '22145060.1075840151012.JavaMail.evans@thyme', '6270414.1075840151036.JavaMail.evans@thyme', '25940858.1075840151059.JavaMail.evans@thyme', '15272198.1075840151083.JavaMail.evans@thyme', '21985739.1075840151108.JavaMail.evans@thyme', 'philippe.bibi@enron.com', '12914825.1075840151131.JavaMail.evans@thyme', '29404790.1075840151154.JavaMail.evans@thyme', 'michael.brown@enron.com', '16639930.1075840151177.JavaMail.evans@thyme', 'john_pinto@enron.com', 'mini.pinto@reckittbenckiser.com', 'Mini.Pinto@reckittbenckiser.com', '24671291.1075840151202.JavaMail.evans@thyme', 'james.hughes@enron.com', '18277846.1075840151225.JavaMail.evans@thyme', '4934480.1075840151248.JavaMail.evans@thyme', 'kevin.hannon@enron.com', 'Skilling@ENRON', '20815744.1075840151271.JavaMail.evans@thyme', 'Sera@ENRON', 'ECT@ECT', '11702064.1075840151294.JavaMail.evans@thyme', 'stanmarek@enron.com', '14065888.1075840151319.JavaMail.evans@thyme', 'Stanley.Horton@enron.com', 'ENRON@eott.com', 'ECT@EOTT.COM', 'EES@EOTT.COM', 'Enron_Communications@EOTT.COM', 'Enron@EOTT.COM', '14413901.1075840151342.JavaMail.evans@thyme', 'robert.duncan@enron.com', 'Transwestern@Transwestern', '10110166.1075840151387.JavaMail.evans@thyme', 'roxanne.troup@enron.com', '1924796.1075840151410.JavaMail.evans@thyme', 'phytrpilot@enron.com', 'sharon.farrell@enron.com', 'SHARON.FARRELL@enron.com', '3584443.1075840151434.JavaMail.evans@thyme', 'ganesh.mani@enron.com', 'Joannie.Williamson@enron.com', '13535442.1075840151466.JavaMail.evans@thyme', 'leslie.ward@enron.com', 'angela.schwarz@enron.com', 'wanda.curry@enron.com', 'michelle.maynard@enron.com', 'cheryl.lipshutz@enron.com', 'catherine.simoes@enron.com', 'EES@EES', '24681110.1075840151489.JavaMail.evans@thyme', 'rod.hayslett@enron.com', '15530730.1075840151525.JavaMail.evans@thyme', 'morris@enron.com', 'larimore@enron.com', 'Jordan.Larimore@lehman.com', 'dcmorris@lehman.com', '5060581.1075840151552.JavaMail.evans@thyme', '26268136.1075840151579.JavaMail.evans@thyme', 'trent@enron.com', '12915102.1075840151603.JavaMail.evans@thyme', '504059.1075840151631.JavaMail.evans@thyme', 'compaq.2001@enron.com', '16007217.1075840151656.JavaMail.evans@thyme', '27419889.1075840151683.JavaMail.evans@thyme', 'priya.jaisinghani@enron.com', 'rosalee.fleming@enron.com', 'laura.valencia@enron.com', 'elizabeth.ivers@enron.com', '9519730.1075840151709.JavaMail.evans@thyme', 'enron.announcement@enron.com', 'houston.report@enron.com', 'Report@ENRON', '10578812.1075840151740.JavaMail.evans@thyme', 'enron.action@enron.com', 'all.houston@enron.com', 'Houston@ENRON', 'dsquareb@msn.com', 'Hoopitup@Texas.Net', 'EIA@enron.com', '26712630.1075840151763.JavaMail.evans@thyme', 'evite@enron.com', '885589.1075840151791.JavaMail.evans@thyme', 'dan.donaldson@enron.com', '19489882.1075840151815.JavaMail.evans@thyme', '8092509.1075840151839.JavaMail.evans@thyme', 'david.kobierowski@enron.com', 'dkobierowski@forrester.com', 'DKobierowski@Forrester.com', '14694596.1075840151863.JavaMail.evans@thyme', 'general.announcement@enron.com', '11462920.1075840151886.JavaMail.evans@thyme', '21303468.1075840151909.JavaMail.evans@thyme', 'greg.piper@enron.com', '21599766.1075840151932.JavaMail.evans@thyme', '1870936.1075840151958.JavaMail.evans@thyme', '4334864.1075840151981.JavaMail.evans@thyme', 'compaq.classic.2001@compaq.com', 'Compaq.Classic.2001@COMPAQ.com', '9394500.1075840152013.JavaMail.evans@thyme', '19765316.1075840152039.JavaMail.evans@thyme', 'david_k_smith@reliantenergy.com', 'pat.bertotti@txh.nmss.org', 'David_K_Smith@reliantenergy.com', '6791730.1075840152064.JavaMail.evans@thyme', 'roy.steinhagen@enron.com', 'rnstnhgn@earthlink.net', 'galtney@galtney.com', 'keith@gammaconst.com', 'tsimmons@spencerstuart.com', 'jcoskey@swbell.net', '29985819.1075840152091.JavaMail.evans@thyme', '17660140.1075840152114.JavaMail.evans@thyme', 'rob.picciotto@enron.com', '25031794.1075840152137.JavaMail.evans@thyme', 'steve.iyer@enron.com', 'steve_iyer@enron.netMessage-ID', 'sun.help@enron.com', '18079065.1075840152188.JavaMail.evans@thyme', 's.madness@enron.com', '19474866.1075840152212.JavaMail.evans@thyme', '24144599.1075840152237.JavaMail.evans@thyme', 'all.downtown@enron.com', 'Downtown@ENRON', '24537021.1075840152262.JavaMail.evans@thyme', 'craig_estes@enron.com', 'askypo@ypo.org', '9753363.1075840152285.JavaMail.evans@thyme', 'j..oxer@enron.com', '11378525.1075840152310.JavaMail.evans@thyme', 'gene.humphrey@enron.com', '12164684.1075840152346.JavaMail.evans@thyme', 'lafuze@enron.com', 'derrick@enron.com', 'rob.walls@enron.com', '4702512.1075840152556.JavaMail.evans@thyme', 'otis.aust@enron.com', 'otis@dicarta.com', '14439476.1075840152579.JavaMail.evans@thyme', 'kevin.scott@enron.com', 'kevinscott@onlinemailbox.net', '18628899.1075840152602.JavaMail.evans@thyme', 'musslewhite.diane@enron.com', 'houston_members@ypo.org', 'Houston_Members@ypo.org', '33059805.1075840152629.JavaMail.evans@thyme', 'm..jones@enron.com', '8316010.1075840152655.JavaMail.evans@thyme', 'mark.duffey@enron.com', '12987399.1075840152682.JavaMail.evans@thyme', 'sean.long@enron.com', 'elizabeth.tilney@enron.com', '7642812.1075840152709.JavaMail.evans@thyme', '6391141.1075840152741.JavaMail.evans@thyme', 'agapefndg@enron.com', 'Agapefndg@aol.com', '8182872.1075840152772.JavaMail.evans@thyme', 'christopher.bartlett@enron.com', 'mwozny@hbs.edu', '23482138.1075840152797.JavaMail.evans@thyme', '30621423.1075840152821.JavaMail.evans@thyme', 'dennis.j.hoffman@ca.pwcglobal.com', '29947460.1075840152846.JavaMail.evans@thyme', '10483080.1075840152871.JavaMail.evans@thyme', '28365520.1075840152899.JavaMail.evans@thyme', 'lisa.connolly@enron.com', 'rcampos@eldoradocorp.com', 'eximenez@smith-graham.com', '31484690.1075840152927.JavaMail.evans@thyme', 'marc.shapiro@enron.com', '9795325.1075840152950.JavaMail.evans@thyme', 'shalesh.ganjoo@enron.com', '11985797.1075840152978.JavaMail.evans@thyme', 'dan.leff@enron.com', '18050470.1075840153004.JavaMail.evans@thyme', '8642324.1075840153029.JavaMail.evans@thyme', 'Williamson@ENRON', '27966505.1075840153054.JavaMail.evans@thyme', 'stephanie.strong@enron.com', '2578640.1075840153077.JavaMail.evans@thyme', '20439454.1075840153110.JavaMail.evans@thyme', 'adarsh.vakharia@enron.com', 'rick.buy@enron.com', 'sheryl.hudson@enron.com', 'hope.vargas@enron.com', 'tammy.shepperd@enron.com', 'suzanne.nicholie@enron.com', 'lea.savala@enron.com', 'ron.baker@enron.com', 'marnie.lamb@enron.com', 'richard.lydecker@enron.com', 'michael.kopper@enron.com', 'patricia.shannon@enron.com', 'david.gorte@enron.com', '29187880.1075840153134.JavaMail.evans@thyme', '28473474.1075840153157.JavaMail.evans@thyme', '374859.1075840153181.JavaMail.evans@thyme', 'DeSpain@ECT', '25584310.1075840153239.JavaMail.evans@thyme', 'outlook.team@enron.com', 'rebecca.ford@enron.com', 'carol.howes@enron.com', 'denise.almoina@enron.com', 'eduardo.robles@enron.com', 'felicia.legier@enron.com', 'frances.reese@enron.com', 'john.guidry@enron.com', 'keith.sparks@enron.com', 'isabel.romero@enron.com', 'michael.smith@enron.com', 'steve.jernigan@enron.com', 'timothy.rebhorn@enron.com', 'veronica.perez@enron.com', 'yao.apasu@enron.com', 'alan.mcgaughy@enron.com', 'james.posway@enron.com', 'michael.mitcham@enron.com', 'jana.morse@enron.com', 'martha.stevens@enron.com', 'trang.le@enron.com', 'mark.begley@enron.com', 'ted.willimon@enron.com', 'cora.pendergrass@enron.com', 'darren.espey@enron.com', 'hillary.mack@enron.com', 'jason.wolfe@enron.com', 'kevin.brady@enron.com', 'margie.straight@enron.com', 'shelly.mendel@enron.com', 'suzanne.christiansen@enron.com', 'ted.evans@enron.com', 'sally.keepers@enron.com', 'bob.klide@enron.com', 'perry.gittelson@enron.com', 'sandra.sharp@enron.com', '29010136.1075840153299.JavaMail.evans@thyme', '27461382.1075840153358.JavaMail.evans@thyme', '2243995.1075840153442.JavaMail.evans@thyme', 'Outlook.2000@enron.com', '33197371.1075840153518.JavaMail.evans@thyme', 'augusto.failde@enron.com', '5132228.1075840153544.JavaMail.evans@thyme', 'paul@ati.utexas.edu', 'john.a.russo1@jsc.nasa.gov', '22477088.1075840153569.JavaMail.evans@thyme', '16628775.1075840153594.JavaMail.evans@thyme', 'Eric_Salo@macerich.com', 'aschwarz@enron.com', 'Arthur_Coppola@macerich.com', '4972921.1075840153621.JavaMail.evans@thyme', 'doctoridea@enron.com', 'scott.tholan@enron.com', 'Scott.Tholan@enron.com', 'doctoridea@msn.com', '29349181.1075840153645.JavaMail.evans@thyme', 'b-krumm@tamu.edu', 'billy@enron.com', '21544350.1075840153671.JavaMail.evans@thyme', '20279420.1075840153732.JavaMail.evans@thyme', 'jeff_hines@enron.com', '23860455.1075840153757.JavaMail.evans@thyme', 'jason.ward@enron.com', '13660781.1075840153799.JavaMail.evans@thyme', '17331033.1075840153848.JavaMail.evans@thyme', 'ios@usa.net', '30208834.1075840153917.JavaMail.evans@thyme', 'lance.schuler-legal@enron.com', 'lance.schuler-legal@enron.comMessage-ID', 'karen.denne@enron.com', 'mark.palmer@enron.com', '5964454.1075840153967.JavaMail.evans@thyme', 'xafira.mendonsa@enron.com', '17493979.1075840153990.JavaMail.evans@thyme', 'ken.skilling@enron.com', '17385661.1075840154015.JavaMail.evans@thyme', 'brian@enron.com', '8820686.1075840154047.JavaMail.evans@thyme', 'larry.taylor@enron.com', 'bcabanas@benchmarkmanagement.com', 'ecockrel@cockrell.com', 'ivo.nelson@healthlink.com', 'jim@groundzero.net', 'kkurtzman@ashford.com', 'llittle@capstarpartners.com', 'mlicata@lrmlaw.com', 'mwallace@texaschildrenshospital.org', 'mquass@earthlink.net', 'mjhin@sleh.com', 'plank@speedshore.com', 'arissal@parkwayinvestments.com', 'pstone999@hotmail.com', 'rayc@pointecom.net', 'rmosbacher@compuserve.com', 'rodc@insource.com', 'shicks@capstarpartners.com', 'wgolinkin@norwoodaustin.com', 'Taylor@BeAnOrange.comMessage-ID', 'terrie.james@enron.com', 'terrie_james@enron.netMessage-ID', 'larry.ciscon@enron.com', 'Communications@Enron', 'larry_ciscon@enron.net', 'gail.whipple@enron.com', 'gwhipple@us.ibm.com', '15590814.1075840154146.JavaMail.evans@thyme', 'gordon@enron.com', '8252845.1075840154169.JavaMail.evans@thyme', '25099574.1075840154211.JavaMail.evans@thyme', 'ken.rice@enron.com', 'cindy.olson@enron.com', 'david.oxley@enron.com', 'teresa.bosien@enron.com', 'maureen.mcvicker@enron.com', 'karen.owens@enron.com', 'lauren.urquhart@enron.com', 'liz.taylor@enron.com', '2221573.1075840154236.JavaMail.evans@thyme', '25449832.1075840154261.JavaMail.evans@thyme', 'rick.guttroff@enron.com', '16985333.1075840154290.JavaMail.evans@thyme', 'john.godbold@enron.com', '24940415.1075840154313.JavaMail.evans@thyme', 'veronica.piatigorsky@enron.com', 'veronicapiatigorsky@economist.com', '11600272.1075840154339.JavaMail.evans@thyme', 'karen.moore@enron.com', '14534017.1075840154364.JavaMail.evans@thyme', 'mauboussin@enron.com', '30520395.1075840154387.JavaMail.evans@thyme', 'ronnie.morgan@enron.com', 'MichaelM@morgangroup.com', '9680171.1075840154411.JavaMail.evans@thyme', 'Sherri.Sera@enron.com', 'michael.mauboussin@csfb.com', '22750625.1075840154434.JavaMail.evans@thyme', 'steven.bailey@enron.com', '17009528.1075840154459.JavaMail.evans@thyme', 'melissa.mcpherson@enron.com', 'ernie.mail@enron.com', 'Mail@ENRON', '28943101.1075840154486.JavaMail.evans@thyme', 'cgonzalez@eldoradocorp.com', '8100393.1075840154511.JavaMail.evans@thyme', 'jay.fitzgerald@enron.com', '12974590.1075840154534.JavaMail.evans@thyme', 'abre@brecoholdings.com', '27241660.1075840154557.JavaMail.evans@thyme', 'drayton.mclane@enron.com', 'jeffskilling@enron.com', '368061.1075840154579.JavaMail.evans@thyme', '11986792.1075840154647.JavaMail.evans@thyme', 'bridget.maronge@enron.com', 'inez.dauterive@enron.com', 'jana.paxton@enron.com', '1208762.1075840154673.JavaMail.evans@thyme', '15231583.1075840154697.JavaMail.evans@thyme', 'michelle.sheehan@enron.com', 'ken_rice@enron.com', 'joannie.willamson@enron.com', 'Assistantmsheehan@adventis.com', '10461487.1075840154721.JavaMail.evans@thyme', 'ann_rubin@enron.com', 'awano@21stenergy.com', 'yoshinori.hashitani@jp.sony.com', 'tdecone@worldnet.att.net', 'ann_rubin@sonyusa.com', '1003117.1075840154746.JavaMail.evans@thyme', 'bernadette.santillan@enron.com', 'bernadette.santillan@redherring.com', 'Bernadette@redherring.com', 'bernadette@redherring.com', '15062562.1075840154770.JavaMail.evans@thyme', 'michael.dennison@enron.com', 'mdennison@sdlintl.com', '21858824.1075840154811.JavaMail.evans@thyme', 'vivian.de@enron.com', 'dweekley@dwhomes.com', 'abreco@ix.netcom.com', 'adeleon@lionforce.com', 'bfaith@greystar.com', 'doubleoranch@aol.com', 'tdfriedkin@fcine.com', 'dmurphy56@aol.com', 'george@demontrond.com', 'jackd@dmcmgmt.com', 'jim.flores@oceanenergy.com', 'jdiaz@personix.fiserve.com', 'mduffey@carriageservices.com', 'mawallace@texaschildrenshospital.org', 'msmith@mikesmithdirect.com', 'phawk@teamindustrialservices.com', 'smarnoy@ophouston.com', 'blake@hoganinvestment.com', 'bruceh@ceconet.com', 'craigl_77@yahoo.com', '27346733.1075840154837.JavaMail.evans@thyme', 'bruce.smith@enron.com', 'brucesmith@pagenetips.com', 'alert@msn.com', '21495569.1075840154864.JavaMail.evans@thyme', 'stewart.seeligson@enron.com', 'david.cox@enron.com', '29025781.1075840154888.JavaMail.evans@thyme', 'Fitzgerald@ECT', '21983521.1075840154911.JavaMail.evans@thyme', 'andy@netconversions.com', '9198159.1075840154934.JavaMail.evans@thyme', 'andy.rodriquez@enron.com', '8194362.1075840154957.JavaMail.evans@thyme', 'john.manfredonia@enron.com', 'manfred@bellatlantic.net', 'Kenneth.Lay@enron.com', 'Jeffrey.Skilling@enron.com', '15265612.1075840154984.JavaMail.evans@thyme', 'kelly.kimberly@enron.com', 'michael.terraso@enron.com', '11966799.1075840155009.JavaMail.evans@thyme', 'partha.ghosh@enron.com', 'Jeff.Skilling@Enron.com', '730993.1075840155033.JavaMail.evans@thyme', 'milken.institute@enron.com', 'friendsofthemilkeninstitute@milkeninstitute.org', 'FriendsoftheMilkenInstitute@milkeninstitute.org', 'info@milkeninstitute.org', 'diomedes.christodoulou@enron.com', '25707951.1075840155080.JavaMail.evans@thyme', 'kunapuli.angirasa@enron.com', '26673841.1075840155105.JavaMail.evans@thyme', 'weeklecd@enron.com', 'christopher.d.weekley@vanderbilt.edu', '20048819.1075840155131.JavaMail.evans@thyme', '6899410.1075840155154.JavaMail.evans@thyme', 'shyam.giridharadas@enron.com', 'sgiridha@prismintl.com', '27825828.1075840155182.JavaMail.evans@thyme', 'georgette.semaan@enron.com', 'Georgette@hawkespeers.com', '20578407.1075840155211.JavaMail.evans@thyme', 'kim.clark@enron.com', 'croozin@wireweb.net', 'pdifonzo@nbutexas.com', 'kathleen.devine@usaa.com', 'jldavis@txi.com', 'dennis.heitkamp@chase.com', 'cteeter@capitalwest.com', 'seguinmotorco@email.msn.com', 'sales@gvtc.com', 'bhammond@tabcc.org', 'ctkrier@co.bexar.tx.us', 'edmund.kuempel@house.state.tx.us', 'dl2329@txmail.sbc.com', 'info@perrymangroup.com', 'elicia.brammer@cpa.state.tx.us', 'jeff.wentworth@senate.state.tx.us', 'judith.zaffirini@senate.state.tx.us', '15758874.1075840155235.JavaMail.evans@thyme', '14276270.1075840155265.JavaMail.evans@thyme', '27090918.1075840155289.JavaMail.evans@thyme', 'sap.security@enron.com', 'SAP_security@enron.com', '16975694.1075840155315.JavaMail.evans@thyme', '30714629.1075840155386.JavaMail.evans@thyme', '19395833.1075840155416.JavaMail.evans@thyme', '4469532.1075840155443.JavaMail.evans@thyme', 'tonya@tonya.cc', 'camps@kidventurecamp.com', '24612108.1075840155473.JavaMail.evans@thyme', 'connections@newpower.com.', '30219498.1075840155498.JavaMail.evans@thyme', 'parthasg@enron.com', 'bkirby@adventis.com', 'Ken.Rice@enron.com', '19229299.1075840155522.JavaMail.evans@thyme', '24097528.1075840155545.JavaMail.evans@thyme', 'steven.january@enron.com', '5159307.1075840155568.JavaMail.evans@thyme', 'gail.glidewell@enron.com', 'pmurphy@swbanktx.com', '7823915.1075840155607.JavaMail.evans@thyme', 'gregory.adams@enron.com', 'sarah.davis@enron.com', 'jeff.donahue@enron.com', 'stan.horton@enron.com', 'elyse.kalmans@enron.com', 'vasant.shanbhogue@enron.com', 'mitchell.taylor@enron.com', 'eric.thode@enron.com', '30279879.1075840155639.JavaMail.evans@thyme', '27424271.1075840155662.JavaMail.evans@thyme', 'bmoore@enron.com', 'tmullins@tmanage.comMessage-ID', 'wilson.kriegel@enron.com', '3907586.1075840155709.JavaMail.evans@thyme', 'erica.harris@enron.com', '8778710.1075840155733.JavaMail.evans@thyme', 'EHarris@insightpartners.com', '4947049.1075840155757.JavaMail.evans@thyme', 'will.publisher@enron.com', 'lippinicott_will@strategy-business.com', '24835125.1075840155805.JavaMail.evans@thyme', 'misha.weidman@enron.com', 'misha.w@mindspring.comMessage-ID', 'mmmmisha@enron.com', 'customerservice@shutterfly.com.', 'customerservice@shutterfly.com', '32602739.1075840155851.JavaMail.evans@thyme', 'steve.spar@enron.com', 'sspar@esxengineering.com', '10375036.1075840155875.JavaMail.evans@thyme', '24416429.1075840155899.JavaMail.evans@thyme', 'gil.marmol@enron.com', '29788960.1075840155922.JavaMail.evans@thyme', 'david.gibbons@enron.com', 'dgibbons@cera.com', 'info@cera.com', 'gmarmol@gmarmol.com', '15775005.1075840155970.JavaMail.evans@thyme', 'fernando.parra@enron.com', '16949279.1075840156023.JavaMail.evans@thyme', 'simone.rose@enron.com', 'sunil.abraham@enron.com', 'tim.belden@enron.com', 'william.bradford@enron.com', 'john.cummings@enron.com', 'daniel.diamond@enron.com', 'jim.fallon@enron.com', 'david.forster@enron.com', 'bruce.garner@enron.com', 'amita.gosalia@enron.com', 'jeff.harbert@enron.com', 'rahil.jafry@enron.com', 'richard.lewis@enron.com', 'george.mcclellan@enron.com', 'dawn.mcdonald@enron.com', 'torrey.moorer@enron.com', 'john.nowlan@enron.com', 'meredith.philipp@enron.com', 'savita.puthigai@enron.com', 'suresh.raghavan@enron.com', 'paula.rieker@enron.com', 'justin.rostant@enron.com', 'stephanie.segura@enron.com', 'jeffrey.shankman@enron.com', 'bob.shults@enron.com', 'tina.spiller@enron.com', 'mark.taylor@enron.com', 'andy.zipper@enron.com', '22967703.1075840156050.JavaMail.evans@thyme', 'perfmgmt@enron.com', 'pep.enquiries@enron.com', '8011378.1075840156076.JavaMail.evans@thyme', 'gerbert@enron.com', '26848924.1075840156101.JavaMail.evans@thyme', '9875896.1075840156150.JavaMail.evans@thyme', 'bruce.lundstrom@enron.com', 'mohan.gurunath@enron.com', 'sandeep.katwala@enron.com', 'jimmy.mogal@enron.com', 'brenda.johnston@enron.com', 'sherri.reinartz@enron.com', 'samantha.mulligan@enron.com', 'jane.wilson@enron.com', 'wendi.hoelscher@enron.com', 'jeffrey.sommers@enron.com', 'mukesh.tyagi@enron.com', 'johan.zaayman@enron.com', 'ashok.mehta@enron.com', 'peter.berger@enron.com', 'Lay@ENRON', '23979233.1075840156178.JavaMail.evans@thyme', '30255079.1075840156202.JavaMail.evans@thyme', '13259915.1075840156227.JavaMail.evans@thyme', 'j..hosea@enron.com', '24420676.1075840156252.JavaMail.evans@thyme', '502892.1075840156275.JavaMail.evans@thyme', 'michael.morgan@enron.com', 'RonnieM@morgangroup.com', '29946829.1075840156301.JavaMail.evans@thyme', 'amosconi@enron.com', '33443850.1075840156324.JavaMail.evans@thyme', 'marc_graubart@enron.com', 'marc_graubart@enron.net', '20501244.1075840156347.JavaMail.evans@thyme', '27501868.1075840156369.JavaMail.evans@thyme', '11596466.1075840156393.JavaMail.evans@thyme', 'seidmanconsult@enron.com', 'Seidmanconsult@aol.com', '1e.15b5336b.2832c3ce@aol.com', '17678065.1075840156419.JavaMail.evans@thyme', 'whalen.kevin@enron.com', '24305806.1075840156469.JavaMail.evans@thyme', 'sean.zurbrick@enron.com', 'judy.gray@enron.com', 'tim.weithman@enron.com', '16030403.1075840156549.JavaMail.evans@thyme', 'kathy.nethercutt@enron.com', 'pfrison@houstontech.org', 'ghancock@houstontech.org', 'lmoore@houstontech.org', 'knethercutt@houstontech.org', '14454858.1075840156572.JavaMail.evans@thyme', '8718717.1075840156600.JavaMail.evans@thyme', '3278971.1075840156627.JavaMail.evans@thyme', '19868466.1075840156679.JavaMail.evans@thyme', 'shwab@enron.com', '29162475.1075840156716.JavaMail.evans@thyme', '4145085.1075840156740.JavaMail.evans@thyme', 'henry.safety@enron.com', '7456188.1075840156843.JavaMail.evans@thyme', '23911352.1075840156866.JavaMail.evans@thyme', 'leigh.edwards@enron.com', '30223234.1075840156889.JavaMail.evans@thyme', '14915851.1075840156914.JavaMail.evans@thyme', 'edith.turnipseed@enron.com', 'april.hrach@enron.com', 'david.parquet@enron.com', '5556643.1075840156937.JavaMail.evans@thyme', 'mbkuntz@enron.com', 'judyaspen@aol.com', '8523091.1075840156960.JavaMail.evans@thyme', '3736840.1075840156997.JavaMail.evans@thyme', 'dcruse@spencerstuart.com', 'DCruse@SpencerStuart.com', '24729212.1075840157079.JavaMail.evans@thyme', 'tore_myrholt@mckinsey.com', 'Tore_Myrholt@mckinsey.com', '18686494.1075840157123.JavaMail.evans@thyme', 'gbarton@bartona.com', 'GBarton@Bartona.com', 'gbarton@bartona.comMessage-ID', 'rice@enron.com', 'paul.racicot@enron.com', 'Skilling@Enron', '31085410.1075840157175.JavaMail.evans@thyme', 'amit_990in@yahoo.co.in', 'neil.mcgregor@enron.com', '9981974.1075840157204.JavaMail.evans@thyme', 'dubin@houstontech.org', 'info@tie-houston.org', '28434154.1075840157235.JavaMail.evans@thyme', 'forster@enron.com', '5623615.1075840157417.JavaMail.evans@thyme', 'akretz@glasgowmedicalcenter.com', 'udgegyro@yahoo.com', 'ayne.b.thompson@chase.com', 'mu-betas@yahoogroups.com', 'JRichichi@Christianacare.org', 'RHess@Christianacare.org', 'BDahllof@Christianacare.org', 'LMacDonald@Christianacare.org', 'BBolton@Christianacare.org', 'jimrosa@ix.netcom.com', 'smu-betas-unsubscribe@egroups.com', '26831805.1075840157443.JavaMail.evans@thyme', 'no.address@enron.com', 'Relations@ENRON', '24147539.1075840157471.JavaMail.evans@thyme', 'lipshutz@enron.com', '6843626.1075840157498.JavaMail.evans@thyme', 'lemmons.jr.@enron.com', '29789811.1075840157524.JavaMail.evans@thyme', 'kishkill@enron.com', '11683292.1075840157548.JavaMail.evans@thyme', 'rkarakay@danonetr.danone.com', 'rkarakay@DANONETR.danone.com', '553984.1075840157684.JavaMail.evans@thyme', 'alder@enron.com', 'russell.servat@enron.com', 'Russell.Servat@Enron.com', 'amelia.alder@enron.comMessage-ID', 'hannon@enron.com', 'john.sherriff@enron.com', 'suzanne.brown@enron.com', 'Owens@ees', '6690098.1075840157790.JavaMail.evans@thyme', 'denne@enron.com', 'ochambe@cisco.com', 'kdenne@enron.com', '33140442.1075840157816.JavaMail.evans@thyme', 'zipper@enron.com', '21404265.1075840157841.JavaMail.evans@thyme', 'maktay@superonline.com', '4423115.1075840157869.JavaMail.evans@thyme', 'peters@enron.com', '16239564.1075840157895.JavaMail.evans@thyme', 'postoffice@bluemountain.com', '6616830.1075840157921.JavaMail.evans@thyme', '9684455.1075840157951.JavaMail.evans@thyme', 'lydecker.jr.@enron.com', '27649252.1075840157979.JavaMail.evans@thyme', 'wilson@enron.com', 'a..price@enron.com', 'fernley.dyson@enron.com', 'georganne.hodges@enron.com', 'a..shankman@enron.com', 'kevin.presto@enron.com', 'ted.murphy@enron.com', 'wes.colwell@enron.com', 'anita.luong@enron.com', 'beth.apollo@enron.com', '5651650.1075840158005.JavaMail.evans@thyme', 'clay@dfj.com', '28250063.1075840158030.JavaMail.evans@thyme', 'humphrey@enron.com', '3609917.1075840158056.JavaMail.evans@thyme', 'starwoodmbrs@spg.0mm.com', '5475121.1075840158083.JavaMail.evans@thyme', 'newsletter@esxengineering.com', 'newsletter@esxEngineering.com', 'newsletter@esxen', '14118225.1075840158157.JavaMail.evans@thyme', 'hickey@enron.com', 'bradford.brooks@enron.com', 'kevin.garland@enron.com', '21633719.1075840158183.JavaMail.evans@thyme', 'meyer@enron.com', 'john.arnold@enron.com', '2100492.1075840158209.JavaMail.evans@thyme', 'Haedicke@ENRON', '3707909.1075840158235.JavaMail.evans@thyme', 'jaisinghani@enron.com', 'yorleni.mendez@enron.com', 'lisa.gillette@enron.com', '8254508.1075840158263.JavaMail.evans@thyme', 'gillette@enron.com', '33524778.1075840158320.JavaMail.evans@thyme', 'kean@enron.com', '4925903.1075840158429.JavaMail.evans@thyme', 'rwsiii@ibpcorp.com', '10876681.1075840158455.JavaMail.evans@thyme', 'traci.warner@enron.com', 'meredith.campbell@enron.com', 'Mbkuntz@aol.com', '33397577.1075840158486.JavaMail.evans@thyme', 'Action@ENRON', '14550221.1075840158516.JavaMail.evans@thyme', 'Wild@Work', 'mpharms@ect.enron.com', 'lkeys@houstongrandopera.org.', '877437.1075840158539.JavaMail.evans@thyme', 'jimyang@vergenet.com', '16704037.1075840158569.JavaMail.evans@thyme', 'cberthelsen@sfchronicle.com', 'la.rose@enron.com', 'r..brackett@enron.com', 'michael.bridges@enron.com', 'lydia.cannon@enron.com', 'bryan.deluca@enron.com', 'jennifer.denny@enron.com', 'marc.eichmann@enron.com', 'paul.goddard@enron.com', 'mark.haedicke@enron.com', 'greg.hermans@enron.com', 'joseph.hirl@enron.com', 'l..nowlan@enron.com', 'tara.sweitzer@enron.com', 'sheri.thomas@enron.com', '12943240.1075840158644.JavaMail.evans@thyme', '14000809.1075840158754.JavaMail.evans@thyme', '27931868.1075840158790.JavaMail.evans@thyme', '12433497.1075840158900.JavaMail.evans@thyme', '26342940.1075840158939.JavaMail.evans@thyme', '2492457.1075840159002.JavaMail.evans@thyme', 'kaminski@enron.com', 'david.port@enron.com', '14809964.1075840159030.JavaMail.evans@thyme', 'eSource@ENRON', '4293214.1075840159060.JavaMail.evans@thyme', '14033637.1075840159085.JavaMail.evans@thyme', '9246720.1075840159109.JavaMail.evans@thyme', 'palmer@enron.com', '19062963.1075840159134.JavaMail.evans@thyme', 'ethink@enron.com', '13517260.1075840159170.JavaMail.evans@thyme', 'danz@enron.com', 'a..bibi@enron.com', 'mercedes.estrada@enron.com', 'sue.ford@enron.com', 'linda.hawkins@enron.com', 'kelly.johnson@enron.com', 'cathy.phillips@enron.com', 'John.Sherriff@ENRON.com', '21089537.1075840159198.JavaMail.evans@thyme', 'vance.meyer@enron.com', '16399589.1075840159223.JavaMail.evans@thyme', 'ret.prichard@cal.nmss.org', 'service@sbsubscriber.com', 'skilli@ei.enron.com', 'r-3-728402-1640008-2-359-us2-982d4478@xmr3.com', 'R-3-728402-1640008-2-359-US2-982D4478@xmr3.com', '26192386.1075840159303.JavaMail.evans@thyme', 'craigl@hypercon.com', 'david_Weekley@DWHOMES', '14839086.1075840159326.JavaMail.evans@thyme', 'jpm1@pdq.net', '23993549.1075840159352.JavaMail.evans@thyme', 'slc1856@sunflower.com', '2428110.1075840159377.JavaMail.evans@thyme', 'hughes@enron.com', '7063355.1075840159401.JavaMail.evans@thyme', 'rwebb@bdagov.bm', '31786283.1075840159426.JavaMail.evans@thyme', 'don.currin@us.andersen.com', '11950696.1075840159451.JavaMail.evans@thyme', 'eckels@enron.com', '32087476.1075840159480.JavaMail.evans@thyme', 'skilli@enron.com', '7392722.1075840159511.JavaMail.evans@thyme', 'bruno@eyeforenergy.com', 'nergynews@peach.ease.lsoft.com', 'bruno@EYEFORENERGY.COM', 'NERGYNEWS@PEACH.EASE.LSOFT.COM', '30982214.1075840159673.JavaMail.evans@thyme', 'christopher.james@hakluyt.co.uk', 'eith.craig@hakluyt.co.uk', '20409082.1075840159703.JavaMail.evans@thyme', 'tomskilljr@aol.com', 'arkskilling@hotmail.com', 'TOMSKILLJR@aol.com', '22050297.1075840159731.JavaMail.evans@thyme', 'patrick@enron.com', 'Christie.Patrick@enron.com', '24204560.1075840159759.JavaMail.evans@thyme', '25662811.1075840159787.JavaMail.evans@thyme', '6207304.1075840159812.JavaMail.evans@thyme', '5440318.1075840159836.JavaMail.evans@thyme', '33154789.1075840159861.JavaMail.evans@thyme', 'Charles.Delacey@enron.com', '27645654.1075840159887.JavaMail.evans@thyme', 'daily@restructuringtoday.com', 'aily@restructuringtoday.com', '12301008.1075840159914.JavaMail.evans@thyme', 'blachman@enron.com', '14197029.1075840159938.JavaMail.evans@thyme', 'cliftonh@summitia.com', 'CliftonH@SummitIA.com', 'jeff.skilling@enron.comMessage-ID', 'dministrator@houstontech.org', '32812850.1075840159988.JavaMail.evans@thyme', 'dmin@houstontech.org', '18480286.1075840160035.JavaMail.evans@thyme', '18357747.1075840160063.JavaMail.evans@thyme', 'geoffmoore@chasmgroup.com', '5663550.1075840160092.JavaMail.evans@thyme', '15126-1029@m2.innovyx.com', 'jeff.skilling@enron.com.', 'butler@enron.com', '18511087.1075840160144.JavaMail.evans@thyme', '32707634.1075840160172.JavaMail.evans@thyme', 'Investinme@ENRON', '28515363.1075840160200.JavaMail.evans@thyme', 'traylor@enron.com', '33323834.1075840160227.JavaMail.evans@thyme', 'fallon@enron.com', '16655625.1075840160258.JavaMail.evans@thyme', 'lockhart@enron.com', 'william.cronin@enron.com', 'kathleen.magruder@enron.com', 'tony.wyatt@enron.com', 'Henderson@ENRON', '20018811.1075840160282.JavaMail.evans@thyme', 'strong@enron.com', '5880100.1075840160306.JavaMail.evans@thyme', 'henry.emery@ubspainewebber.com', 'ocky.emery@ubspainewebber.com', 'oby.pullig@ubspainewebber.com', '9040869.1075840160330.JavaMail.evans@thyme', 'svarga@kudlow.com', 'varga@kudlow.com', '15425661.1075840160354.JavaMail.evans@thyme', '17547117.1075840160377.JavaMail.evans@thyme', '4500586.1075840160402.JavaMail.evans@thyme', 'eldorlaw@aol.com', 'Eldorlaw@aol.com', '9669450.1075840160427.JavaMail.evans@thyme', 'holmes@enron.com', 'Mara@ENRON', 'pany@Exchange', 'S@EES', 'T@ECT', 'ES@EES', 'y@enron.com', 'MENT@ENRON_DEVELOPMENT', 'Company@Exchange', 'CT@ECT', 'ENRON_DEVELOPMENT@ENRON_DEVELOPMENT', 'psmith3@enron.com', '10348594.1075840160500.JavaMail.evans@thyme', 'mcgaughy@enron.com', '16199433.1075840160525.JavaMail.evans@thyme', 'jontra@ivp-ny.com', 'tra@ivp-ny.com', '3216400.1075840160591.JavaMail.evans@thyme', 'msheehan@adventis.com', 'MSheehan@adventis.com', '1848812.1075840160615.JavaMail.evans@thyme', 'khuber@hcmwealth.com', 'khuber@hcmwealth.comMessage-ID', '22340491.1075840160764.JavaMail.evans@thyme', '2554876.1075840160787.JavaMail.evans@thyme', 'kathy@loudcloud.com', 'eff_skilling@enron.com', 'June22Luncheon@loudcloud.com', '23686363.1075840160815.JavaMail.evans@thyme', 'celemi@excelcomm.com', '6923979.1075840160839.JavaMail.evans@thyme', 'gerhard.schulmeyer@sc.siemens.com', 'Gerhard.Schulmeyer@sc.siemens.com', '4549132.1075840160864.JavaMail.evans@thyme', '20281220.1075840160888.JavaMail.evans@thyme', 'pep.enquiries@enron.comMessage-ID', '25925980.1075840160944.JavaMail.evans@thyme', '100251.1075840160968.JavaMail.evans@thyme', 'eric@jensenmotorsport.com', 'ick.brown@eds.com', '7210350.1075840161020.JavaMail.evans@thyme', 'tallen@mclarty.com', 'tom.briggs@enron.com', 'h..thorn@enron.com', 'keene@mac-dc-exch.kissingermclartyassociates.com', 'artin.allday@elpaso.com', 'keene@MAC-DC-EXCH.KissingerMcLartyAssociates.com', 'jelyons@alumni.rice.edu', 'katieh@rice.edu.', '19312997.1075840161049.JavaMail.evans@thyme', 'david.leboe@enron.com', '21535750.1075840161076.JavaMail.evans@thyme', 'dmusslewhite@sterlingmccalltoyota.com', 'DMusslewhite@sterlingmccalltoyota.com', 'breco@ix.netcom.com', '33258683.1075840161101.JavaMail.evans@thyme', 'fran@zembu.com', '28973204.1075840161136.JavaMail.evans@thyme', 'delainey@enron.com', 'david.duran@enron.com', 'joe.gold@enron.com', 'marty.sunde@enron.com', 'exec.jones@enron.com', 'kalen.pieper@enron.com', 'elspeth.inglis@enron.com', '10730286.1075840161167.JavaMail.evans@thyme', 'petroleumworldnews1@hotmail.com', 'uscriberspetroleumworld@hotmail.com', 'editor@petroleumworld.com', 'editor@petroleumworld.c', '22406408.1075840161291.JavaMail.evans@thyme', '3116185.1075840161426.JavaMail.evans@thyme', 'List@ENRON', '28821055.1075840161458.JavaMail.evans@thyme', '3692309.1075840161578.JavaMail.evans@thyme', 'abel@enron.com', 'cassandra.schultz@enron.com', 'shona.wilson@enron.com', 'araceli.romero@enron.com', '14492623.1075840161629.JavaMail.evans@thyme', 'jernigan@enron.com', 'a..hughes@enron.com', '5907955.1075840161684.JavaMail.evans@thyme', 'hudler@enron.com', 'jennifer.medcalf@enron.com', 'fastow@enron.com', '7438069.1075840161738.JavaMail.evans@thyme', '21372056.1075840161762.JavaMail.evans@thyme', 'brian.skruch@reddotsolutions.com', 'Brian.Skruch@reddotsolutions.com', '11944056.1075840161856.JavaMail.evans@thyme', 'george.kogut@dowjones.com', 'George.Kogut@dowjones.com', '21153343.1075840161891.JavaMail.evans@thyme', 'keane@enron.com', '15033128.1075840162038.JavaMail.evans@thyme', 'piper@enron.com', 'greg.piper@enron.comMessage-ID', 'Announcement@ENRON', '16199287.1075840162094.JavaMail.evans@thyme', '772032.1075840162123.JavaMail.evans@thyme', '23533966.1075840162147.JavaMail.evans@thyme', 'jon@jonfriedberg.com', 'Jon@JonFriedberg.com', '29289104.1075840162170.JavaMail.evans@thyme', 'heath@idealab.com', '626-278-1746heaths@mail.com', '18467372.1075840162197.JavaMail.evans@thyme', '2640579.1075840162221.JavaMail.evans@thyme', '21266875.1075840162253.JavaMail.evans@thyme', 'david.morris@lehman.com', 'ordan.larimore@lehman.com', 'David.Morris@lehman.com', 'ordan.Larimore@lehman.com', '10571757.1075840162294.JavaMail.evans@thyme', '8817773.1075840162327.JavaMail.evans@thyme', '23940481.1075840162356.JavaMail.evans@thyme', '16471030.1075840162388.JavaMail.evans@thyme', '4540490.1075840162416.JavaMail.evans@thyme', '9240774.1075840162450.JavaMail.evans@thyme', '19778444.1075840162477.JavaMail.evans@thyme', 'fwb@umich.edu', '26117676.1075840162504.JavaMail.evans@thyme', 'robrogowski@yahoo.com', 'effrey_skilling@enron.com', 'effrey@enron.com', 'effrey_Skilling@enron.com', 'ROBROGOWSKI@YAHOO.COM', '701837.1075840162530.JavaMail.evans@thyme', 'connolly@enron.com', 'tblaw@aol.com', 'ximenez@smith-graham.com', '18179336.1075840162558.JavaMail.evans@thyme', 'Way.@ENRON', '27011377.1075840162584.JavaMail.evans@thyme', 'olson@enron.com', 'laura.schwartz@enron.com', '22316052.1075840162608.JavaMail.evans@thyme', 'schwartz@enron.com', '28014118.1075840162633.JavaMail.evans@thyme', 'souza@enron.com', 'brett.wiggs@enron.com', '31048679.1075840162662.JavaMail.evans@thyme', '30181678.1075840162688.JavaMail.evans@thyme', 'cindy.bailey@veritas.com', 'Cindy.Bailey@veritas.com', 'cbailey@veritas.com', '21126968.1075840162714.JavaMail.evans@thyme', 'generalinfo@marketing.vignette.com', 'cribe_me@marketing.vignette.com', 'oberg@enron.com', 'james.keeble@enron.com', 'laura.odenthal@enron.com', 'steve.woods@enron.com', 'eugenio.perez@enron.com', 'charla.reese@enron.com', 'rositza.smilenova@enron.com', 'om.ginsback@enron.com', '22588100.1075840162789.JavaMail.evans@thyme', '3363995.1075840162819.JavaMail.evans@thyme', '33013371.1075840162843.JavaMail.evans@thyme', 'rmakfdy@aol.com', 'rmakFdy@aol.com', '33196424.1075840162869.JavaMail.evans@thyme', 'Center@ENRON', 'Advise@ENRON', 'isc.hotline@enron.com', '22758614.1075840162895.JavaMail.evans@thyme', 'r-9-728387-1667935-2-6778-us2-6ff3b621@xmr3.com', 'R-9-728387-1667935-2-6778-US2-6FF3B621@xmr3.com', '17059247.1075840162918.JavaMail.evans@thyme', '11492092.1075845319353.JavaMail.evans@thyme', 'ken.brooks@enron.com', '12377424.1075845319955.JavaMail.evans@thyme', 'thomas.white@enron.com', 'karen.heathman@enron.com', 'judy.smith@enron.com', 'beverly.aden@enron.com', 'kathy.campos@enron.com', '31640441.1075845323417.JavaMail.evans@thyme', 'richard.shapiro@enron.com', 'rob.milnthorp@enron.com', 'drew.lynch@enron.com', 'marla.barnard@enron.com', 'andrea.yowman@enron.com', 'ECT@EES', 'Chapman@EES', '12279966.1075845325640.JavaMail.evans@thyme', 'payables.ibuyit@enron.com', '1390617.1075852662600.JavaMail.evans@thyme', 'stephanie.e.taylor@enron.com.', '18218934.1075852662659.JavaMail.evans@thyme', '21438708.1075852662683.JavaMail.evans@thyme', 'kstewart@ctcua.org', 'smu-betas@yahoogroups.com', 'hosman@eskridge.net', 'jdent@mmcable.com', 'camdenway@aol.com', '12881798.1075852662714.JavaMail.evans@thyme', 'petroleumworldnews11@hotmail.com', 'petroleumworldreaders@hotmail.com', 'japarra@mem.com.ve', '11187761.1075852662853.JavaMail.evans@thyme', 'eia@enron.com', '27232737.1075852662877.JavaMail.evans@thyme', 'chairman.office@enron.com', '18170572.1075852662901.JavaMail.evans@thyme', 'fatimapr@softcom.ca', 'coraliegraham@softcom.ca', 'coraliegraham@softcom.ca.', '13920740.1075852662928.JavaMail.evans@thyme', 'AT@T', '24382374.1075852662965.JavaMail.evans@thyme', 'kenneth.thibodeaux@enron.com', 'chris.abel@enron.com', 'david.baumbach@enron.com', 'bjorn.hagelmann@enron.com', 'frank.hayden@enron.com', 'mike.jordan@enron.com', 'william.kelly@enron.com', 'david.patton@enron.com', 'john.swinney@enron.com', 'ddelain2@enron.com', '27845090.1075852662988.JavaMail.evans@thyme', '8780237.1075852663013.JavaMail.evans@thyme', 'jansson@mindspring.com', 'craig_shackleton@amat.com', '30620529.1075852663041.JavaMail.evans@thyme', '14921476.1075852663066.JavaMail.evans@thyme', 'Security@ENRON', '32992669.1075852663103.JavaMail.evans@thyme', '20804856.1075852663127.JavaMail.evans@thyme', '30033514.1075852663163.JavaMail.evans@thyme', 'Derrick@ENRON', '13963112.1075852663189.JavaMail.evans@thyme', 'Benefits@ENRON', 'Group@ENRON', '31892859.1075852663226.JavaMail.evans@thyme', 'Wellness@ENRON', 'wellness@enron.com.', 'williamhjordan@mindspring.com', 'WilliamHJordan@mindspring.com', '32755553.1075852663284.JavaMail.evans@thyme', 'shackleton@austin.rr.com', '28578902.1075852663307.JavaMail.evans@thyme', '27472004.1075852663330.JavaMail.evans@thyme', '12994738.1075852663355.JavaMail.evans@thyme', 'Cleaveland.@ENRON', '30329503.1075852663393.JavaMail.evans@thyme', '22595615.1075852663418.JavaMail.evans@thyme', 'bruno@firstconf.com', 'energynews@fc.ease.lsoft.com', 'bruno@FIRSTCONF.COM', 'ENERGYNEWS@FC.EASE.LSOFT.COM', 'mquoirin@eyeforenergy.com', 'energynews-subscribe-request@peach.ease.lsoft.com', 'energynews-signoff-request@peach.ease.lsoft.com', '26663622.1075852663470.JavaMail.evans@thyme', 'bpaddock@ghcf.org', 'morris.barry@enron.com', 'pipkin.daina@enron.com', 'white.william@enron.com', 'bmorris@ghcf.org', '713-960-1990bpaddock@ghcf.org', '16069458.1075852663498.JavaMail.evans@thyme', '33318035.1075852663539.JavaMail.evans@thyme', 'bensons3@airmail.net', 'elvisthompson@aol.com', '19866157.1075852663562.JavaMail.evans@thyme', '23912696.1075852663585.JavaMail.evans@thyme', '19253734.1075852663610.JavaMail.evans@thyme', 'Chairman@ENRON', 'America@ENRON', '32124439.1075852663645.JavaMail.evans@thyme', '24646411.1075852663668.JavaMail.evans@thyme', '2773395.1075852663691.JavaMail.evans@thyme', 'mark.golden@dowjones.com', 'Mark.Golden@dowjones.com', '5345839.1075852663716.JavaMail.evans@thyme', 'Board@ENRON', '22311367.1075852663754.JavaMail.evans@thyme', '16374046.1075852663787.JavaMail.evans@thyme', 'fredinvt@juno.com', 'FredinVt@juno.com', 'pastorhess@hotmail.com', 'boethia@hotmail.com', 'karengoofy@hotmail.com', 'RhondaKayeM@aol.com', 'caseybraves@hotmail.com', 'Ken_Pam@excite.com', 'dsewell_2000@yahoo.com', 'Campbell_GSC@hotmail.com', 'JSCHappyFace@hotmail.com', 'rainbowstamping@hotmail.com', 'circe_rowan@yahoo.com', 'LoveMonkee75@hotmail.com', 'csleggrich@hotmail.com', 'Runky_Rae89@hotmail.com', 'tylerkhukill@hotmail.com', 'stevens8063@earthlink.net', '18698357.1075852663817.JavaMail.evans@thyme', 'chuck.paul@wiseshops.com', 'Chuck.Paul@A-Closer-Look.com', 'jamie@shbc-tulsa.org', '26035292.1075852663842.JavaMail.evans@thyme', 'randall@gfsmiami.com', '25364557.1075852663871.JavaMail.evans@thyme', '26611084.1075852663895.JavaMail.evans@thyme', 'hema@izhuta.com', 'Hema@Izhuta.com', '5469857.1075852663919.JavaMail.evans@thyme', 'harvardclub@kerr-solutions.com', '26311574.1075852663946.JavaMail.evans@thyme', '4776913.1075852663971.JavaMail.evans@thyme', '23381261.1075852663996.JavaMail.evans@thyme', '12913788.1075852664022.JavaMail.evans@thyme', '11976456.1075852664151.JavaMail.evans@thyme', '28825292.1075852664185.JavaMail.evans@thyme', '7799693.1075852664210.JavaMail.evans@thyme', '25839161.1075852664244.JavaMail.evans@thyme', '17333578.1075852664267.JavaMail.evans@thyme', '5871947.1075852664291.JavaMail.evans@thyme', '6232702.1075852664315.JavaMail.evans@thyme', 'john.zilker@enron.com', 'bowne@customersat.com.', '29641866.1075852664338.JavaMail.evans@thyme', '8197280.1075852664364.JavaMail.evans@thyme', 'pwm1950@aol.com', '30749017.1075852664387.JavaMail.evans@thyme', 'handshohl@eudoramail.com', 'chohl@c21executive.com', 'jstorthz@swbell.net', 'jglass@northelginteleport.com', '26925141.1075852664411.JavaMail.evans@thyme', '_corolla@response.etracks.com', '15784499.1075852664452.JavaMail.evans@thyme', '8746454.1075852664496.JavaMail.evans@thyme', '33242387.1075852664521.JavaMail.evans@thyme', 'justinloweth@yahoo.com', '23511021.1075852664544.JavaMail.evans@thyme', 'vmcarthur@plainsresources.com', '12744676.1075852664568.JavaMail.evans@thyme', 'plink@enron.com', 'mvaughan@forrester.com', '20864885.1075852664639.JavaMail.evans@thyme', '32315836.1075852664674.JavaMail.evans@thyme', '20229006.1075852664697.JavaMail.evans@thyme', '15413157.1075852664732.JavaMail.evans@thyme', '8718456.1075852664759.JavaMail.evans@thyme', '32442574.1075852664792.JavaMail.evans@thyme', 'john@pgsenergy.com', '2826724.1075852664815.JavaMail.evans@thyme', 'hbrunette@earthlink.net', '29230585.1075852664840.JavaMail.evans@thyme', 'joeparks@parksbros.com', '8016279.1075852664864.JavaMail.evans@thyme', '8567240.1075852664888.JavaMail.evans@thyme', 'mark.paul@rssmb.com', 'dfullert@nmh.org', '7536873.1075852664911.JavaMail.evans@thyme', '4249022.1075852664934.JavaMail.evans@thyme', '9484379.1075852664958.JavaMail.evans@thyme', '20421946.1075852664981.JavaMail.evans@thyme', '3368219.1075852665006.JavaMail.evans@thyme', 'sharp@smogobx.com', '3331025.1075852665029.JavaMail.evans@thyme', 'miller@advlaser.com', '15758018.1075852665056.JavaMail.evans@thyme', '33433668.1075852665084.JavaMail.evans@thyme', '17153458.1075852665107.JavaMail.evans@thyme', 'maislin.steve@enron.com', 'billw@wedgegroup.com', '32055770.1075852665131.JavaMail.evans@thyme', 'dmallory@ftenergy.com', 'electricatlas01@listserv.ftenergy.com', 'DMallory@FTENERGY.COM', 'ELECTRICATLAS01@LISTSERV.FTENERGY.COM', 'custserv@ftenergy.com', '11381155.1075852665186.JavaMail.evans@thyme', '22809774.1075852665211.JavaMail.evans@thyme', '4487246.1075852665247.JavaMail.evans@thyme', '20350872.1075852665272.JavaMail.evans@thyme', '16785214.1075852665309.JavaMail.evans@thyme', '16985944.1075852665342.JavaMail.evans@thyme', '1661888.1075852665366.JavaMail.evans@thyme', 'info@icansp.com', 'info@iCanSP.com', '14071558.1075852665431.JavaMail.evans@thyme', 'cassi.wallace@enron.com', '9039730.1075852665458.JavaMail.evans@thyme', '29837970.1075852665595.JavaMail.evans@thyme', 'Technology@ENRON', 'firstname.lastname@enron.com', 'Enron.Messaging.Administration@enron.com.', 'firstname.lastname@enron.com.', 'robert.alan.smith@enron.com.', '15787075.1075852665634.JavaMail.evans@thyme', '18487904.1075852665658.JavaMail.evans@thyme', '12172069.1075852665683.JavaMail.evans@thyme', 'mweisblatt@yahoo.com', 'crawford@dfpllc.com', 'Lwomack@commercesecurities.com', 'scott@cristventures.com', '28150245.1075852665706.JavaMail.evans@thyme', 'news@real-net.net', '3683300.1075852665733.JavaMail.evans@thyme', 'deanrodgers@kaseco.com', 'kase@kaseco.com', '30859712.1075852665756.JavaMail.evans@thyme', '8326765.1075852665779.JavaMail.evans@thyme', 'support@evite.citysearch.com', '25957980.1075852665803.JavaMail.evans@thyme', 'georgette@hawkespeers.com', '1047825.1075852665833.JavaMail.evans@thyme', 'nancyperez@canch', '28276616.1075852665968.JavaMail.evans@thyme', '13680673.1075852666004.JavaMail.evans@thyme', '16117597.1075852666028.JavaMail.evans@thyme', '3533085.1075852666064.JavaMail.evans@thyme', '22780969.1075852666087.JavaMail.evans@thyme', 'lgaertner@evansgrp.com', 'billymont@aol.com', '23684656.1075852666110.JavaMail.evans@thyme', '11802780.1075852666133.JavaMail.evans@thyme', 'michael.wilson@mpingo.com', '29084929.1075852666161.JavaMail.evans@thyme', 'Chairman-@ENRON', '9437867.1075852666195.JavaMail.evans@thyme', 'jennifersmith@kaseco.com', '10441971.1075852666220.JavaMail.evans@thyme', 'administration.enron@enron.com', '8528369.1075852666245.JavaMail.evans@thyme', '25321403.1075852666278.JavaMail.evans@thyme', '5973281.1075852666304.JavaMail.evans@thyme', 'r-3-728387-3217638-2-3294-us2-9cb39b5d@xmr3.com', 'R-3-728387-3217638-2-3294-US2-9CB39B5D@xmr3.com', '31635580.1075852666328.JavaMail.evans@thyme', 'officeofthechairman2@enron.com', 'OfficeoftheChairman2@ENRON.com', 'Courtney.votaw@enron.com', '29218530.1075852666351.JavaMail.evans@thyme', '01@ftenergy.com', 'plattsnews@list1.resdata.com', '01@FTENERGY.COM', 'PLATTSNEWS@LIST1.RESDATA.COM', '6724769.1075852666376.JavaMail.evans@thyme', '11882204.1075852666414.JavaMail.evans@thyme', '21778151.1075852666442.JavaMail.evans@thyme', 'info@votenet.com', 'michael.mack@votenet.com', '13649750.1075852666545.JavaMail.evans@thyme', 'bob.ambrocik@enron.com', 'aaron.adams@enron.com', 'aaron.armstrong@enron.com', 'c..aucoin@enron.com', 'briant.baker@enron.com', 'andres.balmaceda@enron.com', 'andreas.barschkis@enron.com', 'bryce.baxter@enron.com', 'angeles.beltri@enron.com', 'amy.bundscho@enron.com', 'aliza.burgess@enron.com', 'adam.caldwell@enron.com', 'brenda.cassel@enron.com', 'aneela.charania@enron.com', 'angela.chen@enron.com', 'r..conner@enron.com', 'brooklyn.couch@enron.com', 'bryan.critchfield@enron.com', 'andrea.dahlke@enron.com', 'ajit.dhansinghani@enron.com', 'bradley.diebner@enron.com', 'alan.engberg@enron.com', 'ahmad.farooqi@enron.com', 'brian.fogherty@enron.com', 'bill.fortney@enron.com', 'bryant.frihart@enron.com', 'brenda.giddings@enron.com', 'alisha.guerrero@enron.com', 'bruce.harris@enron.com', 'brian.hendon@enron.com', 'anthony.hill@enron.com', 'bryan.hull@enron.com', 'brent.johnston@enron.com', 'bill.kefalas@enron.com', 'akhil.khanijo@enron.com', 'bob.kinsella@enron.com', 'amanda.krcha@enron.com', 'beverly.lakes@enron.com', 'andrea.langfeldt@enron.com', 'brian.larkin@enron.com', 'ben.lockman@enron.com', 'buddy.majorwitz@enron.com', 'arvel.martin@enron.com', 'angela.mcculloch@enron.com', 'adriana.mendez@enron.com', 'anthony.mends@enron.com', 'andrew.miles@enron.com', 'andrew.moth@enron.com', 'brandon.oliveira@enron.com', 'ann.osire@enron.com', 'k..patton@enron.com', 'biliana.pehlivanova@enron.com', 'bo.petersen@enron.com', 'binh.pham@enron.com', 'andrew.potter@enron.com', 'battista.psenda@enron.com', 'anand.ramakotti@enron.com', 'anna.santucci@enron.com', 'amanda.schultz@enron.com', 'anteneh.shimelis@enron.com', 'alicia.solis@enron.com', 'alex.tartakovski@enron.com', 'alexandru.tudor@enron.com', 'alex.wong@enron.com', 'alan.wright@enron.com', 'cyndie.balfour-flanagan@enron.com', 'chelsea.bardal@enron.com', 'chris.behney@enron.com', 'craig.breslau@enron.com', 'chad.bruce@enron.com', 'carol.carter@enron.com', 'carol.chew@enron.com', 'celeste.cisneros@enron.com', 'christopher.cocks@enron.com', 'christopher.connolly@enron.com', 'christopher.daniel@enron.com', 'cathy.de@enron.com', 'claire.dunnett@enron.com', 'carol.essig@enron.com', 'chris.figueroa@enron.com', 'carole.frank@enron.com', 'christopher.funk@enron.com', 'chris.gaskill@enron.com', 'chris.germany@enron.com', 'chris.glaas@enron.com', 'chad.gramlich@enron.com', 'cybele.henriquez@enron.com', 'charlie.hoang@enron.com', 'cindy.hudler@enron.com', 'cindy.irvin@enron.com', 'charlie.jiang@enron.com', 'carol.kowdrysh@enron.com', 'chad.landry@enron.com', 'brant.reves@enron.com', 'brad.richter@enron.com', 'bernice.rodriguez@enron.com', 'bruce.rudy@enron.com', 'barbara.sargent@enron.com', 'brad.snyder@enron.com', 'brian.steinbrueck@enron.com', 'brent.tiner@enron.com', 'beth.vaughan@enron.com', 'brandon.wax@enron.com', 'brian.wesneske@enron.com', 'britt.whitman@enron.com', 'xtrain01@enron.com', 'xtrain04@enron.com', 'xtrain07@enron.com', 'xtrain10@enron.com', 'darrell.aguilar@enron.com', 'derek.anderson@enron.com', 'derek.bailey@enron.com', 'david.berberian@enron.com', 'daniel.castagnola@enron.com', 'danny.clark@enron.com', 'dustin.collins@enron.com', 'daniele.crelin@enron.com', 'derek.davies@enron.com', 'darren.delage@enron.com', 'christian.lebroc@enron.com', 'cam.lehouillier@enron.com', 'chris.luttrell@enron.com', 'carey.mansfield@enron.com', 'courtney.mcmillian@enron.com', 'carl.mitchell@enron.com', 'cassy.moses@enron.com', 't..muzzy@enron.com', 'hare@enron.com', 'chetan.paipanandiker@enron.com', 'christine.pham@enron.com', 'chris.potter@enron.com', 'curtis.reister@enron.com', 'clayton.rondeau@enron.com', 'clayton.seigle@enron.com', 'carrie.slagle@enron.com', 'chris.sonneborn@enron.com', 'carrie.southard@enron.com', 'cathy.sprowls@enron.com', 'craig.story@enron.com', 'chonawee.supatgiat@enron.com', 'carlos.torres@enron.com', '24.training@enron.com', '26.training@enron.com', '29.training@enron.com', 'chris.unger@enron.com', 'claire.viejou@enron.com', 'chris.walker@enron.com', 'christopher.watts@enron.com', 'chuck.wilkinson@enron.com', 'christa.winfrey@enron.com', 'christian.yoder@enron.com', 'dan.dietrich@enron.com', 'david.easterby@enron.com', 'daniel.falcone@enron.com', 'damon.fraylon@enron.com', 'denise.furey@enron.com', 'darryn.graham@enron.com', 'dortha.gray@enron.com', 'donnie.hall@enron.com', 'david.hardy@enron.com', 'daniel.henson@enron.com', 'daniel.hyslop@enron.com', 'daniel.kang@enron.com', 'darryl.kendrick@enron.com', 'dayem.khandker@enron.com', 'deepak.krishnamurthy@enron.com', 'daniel.lisk@enron.com', 'david.loosley@enron.com', 'david.maxwell@enron.com', 'deirdre.mccaffrey@enron.com', 'damon.mccauley@enron.com', 'darren.mcnair@enron.com', 'dan.metts@enron.com', 'douglas.miller@enron.com', 'dishni.muthucumarana@enron.com', 'doug.nelson@enron.com', 'debbie.nicholls@enron.com', 'david.oliver@enron.com', 'debra.perlingiere@enron.com', 'daniel.presley@enron.com', 'dutch.quigley@enron.com', 'david.ricafrente@enron.com', 'emily.adamo@enron.com', 'evan.betzer@enron.com', 'erika.breen@enron.com', 'elena.chilkina@enron.com', 'eloy.escobar@enron.com', 'erica.garcia@enron.com', 'l..hernandez@enron.com', 'elizabeth.howley@enron.com', 'erin.kanouff@enron.com', 'enrique.lenci@enron.com', 'errol.mclaughlin@enron.com', 'evelyn.metoyer@enron.com', 'elizabeth.navarro@enron.com', 'elaine.nguyen@enron.com', 'edward.ray@enron.com', 'edward.sacks@enron.com', 'diane.salcido@enron.com', 'darla.saucier@enron.com', 'elaine.schield@enron.com', 'diana.scholtes@enron.com', 'donna.scott@enron.com', 'digna.showers@enron.com', 'dana.smith@enron.com', 'danielle.stephens@enron.com', 'donald.sutton@enron.com', 'g..taylor@enron.com', 'darrell.teague@enron.com', 'denae.umbower@enron.com', 'j..vitrella@enron.com', 'david.wile@enron.com', 'derek.wilson@enron.com', 't..adams@enron.com', 'guillermo.arana@enron.com', 'gaurav.babbar@enron.com', 'greg.brazaitis@enron.com', 'francis.bui@enron.com', 'greg.carlson@enron.com', 'frank.cernosek@enron.com', 'george.chapa@enron.com', 'guy.dayvault@enron.com', 'graham.dunbar@enron.com', 'gerald.emesih@enron.com', 'gallin.fortunov@enron.com', 'fraisy.george@enron.com', 'gerald.gilbert@enron.com', 'francis.gonzales@enron.com', 'george.grant@enron.com', 'gloria.guo@enron.com', 'gary.hickerson@enron.com', 'frank.hoogendoorn@enron.com', 'george.huan@enron.com', 'gary.justice@enron.com', 'gail.kettenbrink@enron.com', 'gurmeet.kudhail@enron.com', 'georgi.landau@enron.com', 'gregory.lind@enron.com', 'fred.mitro@enron.com', 'frank.prejean@enron.com', 'faheem.qavi@enron.com', 'eddie.shaw@enron.com', 'erik.simpson@enron.com', 'eva.tow@enron.com', 'ellen.wallumrod@enron.com', 'elizabeth.webb@enron.com', 'erin.willis@enron.com', 'heather.alon@enron.com', 'hicham.benjelloun@enron.com', 'hai.chen@enron.com', 'humberto.cubillos-uejbe@enron.com', 'heather.dunton@enron.com', 'israel.estrada@enron.com', 'iain.greig@enron.com', 'hollis.hendrickson@enron.com', 'hans.jathanna@enron.com', 'heather.kroll@enron.com', 'hilda.lindley@enron.com', 'huan-chiew.loh@enron.com', 'garland.lynn@enron.com', 'ivan.maltz@enron.com', 'gary.mccumber@enron.com', 'genaro.mendoza@enron.com', 'gabriel.monroy@enron.com', 'gerald.nemec@enron.com', 'hakeem.ogunbunmi@enron.com', 'giri.padavala@enron.com', 'govind.pentakota@enron.com', 'george.rivas@enron.com', 'gurdip.saluja@enron.com', 'gregory.schockling@enron.com', 's..shively@enron.com', 'george.simpson@enron.com', 'gloria.solis@enron.com', 'gregory.steagall@enron.com', 'gopalakrishnan.subramaniam@enron.com', 'gary.taylor@enron.com', 'garrett.tripp@enron.com', 'gina.woloszyn@enron.com', 'hong.yu@enron.com', 'john.allison@enron.com', 'john.alvar@enron.com', 'james.armstrong@enron.com', 'j.bagwell@enron.com', 'james.batist@enron.com', 'joel.bennett@enron.com', 'jim.brysch@enron.com', 'a..casas@enron.com', 'john.chismar@enron.com', 'joon.choe@enron.com', 'julie.cobb@enron.com', 'john.coyle@enron.com', 'jennifer.cutaia@enron.com', 'justin.day@enron.com', 'jad.doan@enron.com', 'javier.espinoza@enron.com', 'juana.fayett@enron.com', 'jason.fischer@enron.com', 'jennifer.fraser@enron.com', 'jeff.gamblin@enron.com', 'john.grass@enron.com', 'jaime.gualy@enron.com', 'jason.harding@enron.com', 'jonathan.heinlen@enron.com', 'jon.henderlong@enron.com', 'judy.hernandez@enron.com', 'jim.homco@enron.com', 'jeff.huff@enron.com', 'julia.hunter@enron.com', 'karima.husain@enron.com', 'john.jacobsen@enron.com', 'jaimie.jessop@enron.com', 'jay.jordan@enron.com', 'jason.kaniss@enron.com', 'jason.kilgo@enron.com', 'john.kinser@enron.com', 'john.kratzer@enron.com', 'jennifer.lee@enron.com', 'johnson.leo@enron.com', 'jozef.lieskovsky@enron.com', 'ingrid.martin@enron.com', 'john.massey@enron.com', 'jason.mcnair@enron.com', 'jana.mills@enron.com', 'thomas.moore@enron.com', 'john.munoz@enron.com', 'jennifer.nguyen@enron.com', 'joseph.nieten@enron.com', 'jeffery.parker@enron.com', 'jessie.patterson@enron.com', 'ingrid.petri@enron.com', 'ina.rangel@enron.com', 'jay.reitmeyer@enron.com', 'jeff.richter@enron.com', 'jim.robertson@enron.com', 'jeff.royed@enron.com', 'julie.sarnowski@enron.com', 'sanjay.bhagat@enron.com', 'mike.croucher@enron.com', 'jon.goebel@enron.com', 'lee.morehead@enron.com', 'jason.rockwell@enron.com', 'john.wang@enron.com', 'paige.cox@enron.com', 'Alton.Honore@ENRON.com', '33261183.1075852666576.JavaMail.evans@thyme', '3882103.1075852666617.JavaMail.evans@thyme', '16690919.1075852666640.JavaMail.evans@thyme', '9224768.1075852666682.JavaMail.evans@thyme', 'redick.bill@enron.com', 'johnson.dave@enron.com', 'gramke.jim@enron.com', 'pavlovsky.kathryn@enron.com', 'boling.paul@enron.com', 'berzins.peter@enron.com', 'pursifull.tracy@enron.com', 'simone.la@enron.com', 'pete.link@enron.com', 'ahmed.malik@enron.com', 'martin.martinez@enron.com', 'lewis.may@enron.com', 'teresa.mcomber@enron.com', 'michael.moore@enron.com', 'pam.newsome@enron.com', 'michael.payne@enron.com', 'gary.phillips@enron.com', 'tracy.pursifull@enron.com', 'tom.rainbow@enron.com', 'james.regan@enron.com', 'james.richardson@enron.com', 'rose.rivera@enron.com', 'reagan.rorschach@enron.com', 'carlos.ruiz@enron.com', 'mark.santikos@enron.com', 'anna.sepulveda@enron.com', 'mike.sheedy@enron.com', 'felicia.solis@enron.com', 'n..stewart@enron.com', 'craig.teel@enron.com', 'stephen.thatcher@enron.com', 'george.thomas@enron.com', 'matt.thorn@enron.com', 'jessica.uhl@enron.com', 'darren.vanek@enron.com', 'zionette.vincent@enron.com', 'jason.wade@enron.com', 'debra.weir@enron.com', 'jane.wilhite@enron.com', '.williams@enron.com', 'jody.wynn@enron.com', 'mark.adleman@enron.com', 'john.allario@enron.com', 'hector.alviar@enron.com', 'mechelle.atwood@enron.com', 'rafael.avila@enron.com', 'stephanie.baker@enron.com', 'peter.bennett@enron.com', 'adrial.boals@enron.com', 'elliot.bonner@enron.com', 'bill.bowes@enron.com', 'mark.brand@enron.com', 'marian.bryant@enron.com', 'rubena.buerger@enron.com', 'david.calzoncit@enron.com', 'joseph.capasso@enron.com', 'tim.carter@enron.com', 'alejandra.chavez@enron.com', 'chris.clark@enron.com', 'brad.coleman@enron.com', 'corey.cornett@enron.com', 'karen.cutler@enron.com', 'd..danielson@enron.com', 'charles.delacey@enron.com', 'troy.denetsosie@enron.com', 'stuart.donaldson@enron.com', 'david.draper@enron.com', 'kenneth.farrar@enron.com', 'brendan.fitzsimmons@enron.com', 'shawn.franks@enron.com', 'edward.fundora@enron.com', 'sarita.garza@enron.com', 'stinson.gibner@enron.com', 'scott.goodell@enron.com', 'james.gramke@enron.com', 'francesc.guillen@enron.com', 'james.hachen@enron.com', 'ed.hearn@enron.com', 'tosha.henderson@enron.com', 'david.hernandez@enron.com', 'kelly.heuertz@enron.com', 'brian.hoskins@enron.com', 'joseph.hrgovcic@enron.com', 'jordan.hunter@enron.com', 'adam.johnson@enron.com', 'dan.junek@enron.com', 'steve.klimesh@enron.com', 'thomas.meers@enron.com', 'kellie.metcalf@enron.com', 'h..sikes@enron.com', 'brooks.wimberly@enron.com', 'drrampacek@ev1.net', 'flywithbill@hotmail.com', '5022681.1075852666729.JavaMail.evans@thyme', '26803651.1075852666755.JavaMail.evans@thyme', 'hmundy@eyeforenergy.com.', 'srobinson@eyeforenergy.com.', '7034164.1075852666818.JavaMail.evans@thyme', 'gresham.brebach@seurat.com', 'Gresham.Brebach@seurat.com', '14595517.1075852666948.JavaMail.evans@thyme', 'richard.burchfield@enron.com', 'randy.matson@enron.com', 'wilford.stevens@enron.com', 'malcolm.wells@enron.com', 'bob.ambrocik@enron.comMessage-ID', 'Architecture@ENRON', '16606352.1075852667006.JavaMail.evans@thyme', 'Review@ENRON', '30761430.1075852667044.JavaMail.evans@thyme', 'adentiii@houston.rr.com', 'CHohl@Homelog.com', '680438.1075852667068.JavaMail.evans@thyme', '27619055.1075852667095.JavaMail.evans@thyme', 'loretta.brooks@enron.com', 'sally.beck@enron.com', 'c..gossett@enron.com', 'todd.hall@enron.com', 'michael.kass@enron.com', '1456605.1075852667121.JavaMail.evans@thyme', 'Kean@ENRON', 'CorporateSecurity@enron.com', '19985358.1075852667219.JavaMail.evans@thyme', '14054570.1075852667245.JavaMail.evans@thyme', '25515453.1075852667346.JavaMail.evans@thyme', '8458892.1075852667397.JavaMail.evans@thyme', '32029472.1075852667439.JavaMail.evans@thyme', '5600123.1075852667466.JavaMail.evans@thyme', '1086595.1075852667510.JavaMail.evans@thyme', '8795629.1075852667533.JavaMail.evans@thyme', 'update@barescapital.com', '20878155.1075852667561.JavaMail.evans@thyme', 'elena.m.trebits@accenture.com', 'michael.j.arabia@accenture.com', 'tracey.m.countryman@accenture.com', 'james.a.dugger@accenture.com', 'erin.gelzer@accenture.com', 'meredith.r.leiser@accenture.com', 'joseph.g.nilsestuen@accenture.com', 'laura.sassaman@accenture.com', 'amelia.p.schaffner@accenture.com', 'aberry@ucla.edu', 'jescamp@na.cokecce.com', 'treychildress@hotmail.com', 'dirring_stephanie@bah.com', 'scott.j.fata@accenture.com', 'charles.a.garrard@us.pwcglobal.com', 'rgodfrey@hntb.com', 'mherder@us.ibm.com', 'mkeyserling@n2bb.com', 'Akline@manh.com', 'bmcdonald@sengent.com', 'ryanmcgraw@hotmail.com', 'jkm35@hotmail.com', 'carisa_powell@yahoo.com', 'suzanne_robinson@stockamp.com', 'travis_spaulding@HP-USA-om1.om.hp.com', 'ntahiliani@hotmail.com', 'tichelaara@mccalltech.com', 'vwampler@yahoo.com', 'kycarolina@hotmail.com', 'marianne.e.danko@accenture.com', 'kib.mckibbens@accenture.com', '20461601.1075852667592.JavaMail.evans@thyme', 'xico@cemex.com.ve', '32322424.1075852667715.JavaMail.evans@thyme', '30284186.1075852667740.JavaMail.evans@thyme', 'participateinfo@postfuture.com', 'ParticipateInfo@postfuture.com', '16239R@lyris.postfuture.com', 'leave-participate.com-0110b-10816239R@lyris.postfuture.com', '32704469.1075852667793.JavaMail.evans@thyme', '8862247.1075852667818.JavaMail.evans@thyme', '33230100.1075852667852.JavaMail.evans@thyme', 'activetrader@schwab.com', '18335519.1075852667905.JavaMail.evans@thyme', '1165276.1075852667947.JavaMail.evans@thyme', '22565399.1075852667971.JavaMail.evans@thyme', '24485936.1075852667996.JavaMail.evans@thyme', 'news@ibcuk.co.uk', 'cust.serv@informa.com.', 'database@ibcuk.co.uk', '23588252.1075852668020.JavaMail.evans@thyme', '2140619.1075852668045.JavaMail.evans@thyme', '7047939.1075852668078.JavaMail.evans@thyme', 'gpereira7@hotmail.com', '7577685.1075852668102.JavaMail.evans@thyme', '19092130.1075852668125.JavaMail.evans@thyme', '410024.1075852668152.JavaMail.evans@thyme', 'events.inquiry@redherring.com', 'heidi.skupien@redherring.com', 'suzanne.minatti@redherring.com', 'redherring@leetravel.com', 'emailheidi.skupien@redherring.com', 'JEFF.SKILLING@ENRON.COM', 'abuse@netmarketing.com.', '12620326.1075852668211.JavaMail.evans@thyme', 'drew.alexander@enron.com', 'claire.farley@enron.com', 'stephen.lack@enron.com', 'keith.williams@enron.com', 'david.weekley@enron.com', 'mark.wallace@enron.com', 'art.teichgraeber@enron.com', 'kevin.stolle@enron.com', 'gary.stein@enron.com', 'mike.smith@enron.com', 'andrew.segal@enron.com', 'gary.remy@enron.com', 'tony.petrello@enron.com', 'jim.noteware@enron.com', 'bill.monteleone@enron.com', 'scott.mclean@enron.com', 'kevin.mcginnis@enron.com', 'rebecca.mark-jusbasche@enron.com', 'jack.lynch@enron.com', 'leo.linbeck@enron.com', 'lee.lahourcade@enron.com', 'mark.kuebler@enron.com', 'neil.kelley@enron.com', 'michael.holthouse@enron.com', 'paul.hobby@enron.com', 'jeff.hildebrand@enron.com', 'philip.hawk@enron.com', 'paul.gregory@enron.com', 'john.graf@enron.com', 'klaus.genssler@enron.com', 'dan.friedkin@enron.com', 'scott.fordham@enron.com', 'robert.fleishman@enron.com', 'larry.del@enron.com', 'alex.brennan-martin@enron.com', 'brian.becker@enron.com', 'alfredo.brener@enron.com', 'stan.bunting@enron.com', 'jay.coskey@enron.com', 'george.demontrond@enron.com', 'leslie.doggett@enron.com', 'johnny.duncan@enron.com', 'simpson@enron.com', 'pam.rutledge@alsformal.com', 'musslewhite@enron.com', 'dettloff@enron.com', 'bfrobins@texaschildrenshospital.org', 'conniev@cooperrig.com', 'ltaylor@familyeats.com', 'limbocker@enron.com', 'carmenz@sss-steel.com', 'sherri_sera@hotmail.com', 'missas@senterracorp.com', 'ryan@enron.com', 'ylreid@speedshore.com', 'boyd@enron.com', 'cbadgett@tex-trude.com', 'glidewell@enron.com', 'katherine.d.brown@chase.com', 'lade@enron.com', 'apuckett@ophouston.com', 'wilson-smith@enron.com', 'zlas02@sleh.com', 'noack@enron.com', 'foshee@enron.com', 'tmclean@bayhouston.com', 'braun@enron.com', 'lbernard@lodestarlogistics.com', 'pcarmody@holthouseinterests.com', 'rschrimpf@americaninfosource.com', 'jcole@hobbycomm.com', 'wallen@enron.com', 'asmith@teamindustrialservices.com', 'jaw@gregorycook.com', 'henry@enron.com', 'truett@enron.com', 'del.valle@enron.com', 'eramsey@nps.cc', 'skyler@enron.com', 'bhogle@personix.fiserv.com', 'cheryl.sluder@delpapabud.com', 'lconstanzo@lionforce.com', 'reindl@enron.com', 'kebrak@pointecom.net', 'miller@enron.com', 'maebelle.zycha@turnworksinc.com', 'athomas@brecoholdings.com', 'whatley@enron.com', 'layers77327@yahoo.com', 'horn@enron.com', 'malinda@nestgroup.com', 'Jan_Levine@travisintl.com', 'janet.simpson@trade-ranger.com', '12254508.1075852668316.JavaMail.evans@thyme', 'clement.charbonnet@enron.com', 'bob.mcauliffe@enron.com', 'acg@kerr-solutions.com', '19459111.1075852668368.JavaMail.evans@thyme', '40enron@enron.com', '27792598.1075852668391.JavaMail.evans@thyme', '32504252.1075852668415.JavaMail.evans@thyme', 'Special@ENRON', '32814072.1075852668439.JavaMail.evans@thyme', '30411264.1075852668509.JavaMail.evans@thyme', 'energy_news@ftenergy.com', 'powermart1@list1.resdata.com', 'Energy_News@FTENERGY.COM', 'POWERMART1@LIST1.RESDATA.COM', 'conferences@ftenergy.com', '21007375.1075852668632.JavaMail.evans@thyme', '16610529.1075852668684.JavaMail.evans@thyme', 'fparra@swbanktx.com', '302549.1075852668710.JavaMail.evans@thyme', '18231267.1075852668735.JavaMail.evans@thyme', '27391009.1075852668766.JavaMail.evans@thyme', '27440071.1075852668905.JavaMail.evans@thyme', 'ELM@ENRON', '13161942.1075852668929.JavaMail.evans@thyme', 'Infrastructure@ENRON', '21943815.1075852668952.JavaMail.evans@thyme', '12947006.1075852668974.JavaMail.evans@thyme', '33401258.1075852669006.JavaMail.evans@thyme', 'gailg@morgangroup.com', 'GailG@morgangroup.com', 'Jeff_Hines@hines.com', '9309763.1075852669030.JavaMail.evans@thyme', 'sql2@netscape.net', 'Shop@Netscape', '4871973.1075852669054.JavaMail.evans@thyme', '10444835.1075852669084.JavaMail.evans@thyme', 'japarra@m', 'editor@petroleumw', '23112073.1075852669208.JavaMail.evans@thyme', 'CEO@ENRON', '18520966.1075852669231.JavaMail.evans@thyme', 'dalak@hotmail.com', '30964474.1075852669259.JavaMail.evans@thyme', '24244628.1075852669283.JavaMail.evans@thyme', '28010178.1075852669305.JavaMail.evans@thyme', 'salmanqureshi@hotmail.com', '31943215.1075852669329.JavaMail.evans@thyme', 'webseminars@blazesoft.com', '32265327.1075852669353.JavaMail.evans@thyme', 'confadmin@ziffenergy.com', '10190295.1075852669452.JavaMail.evans@thyme', 'jeffrey.jackson@enron.com', 'john.jahnke@enron.com', 'jamey.johnston@enron.com', 'jared.kaiser@enron.com', 'junaid.khanani@enron.com', 'jona.kimbrough@enron.com', 'jay.knoblauh@enron.com', 'jenny.latham@enron.com', 'jonathan.lennard@enron.com', 'jeff.lewis@enron.com', 'jeff.lyons@enron.com', 'jabari.martin@enron.com', 'jonathan.mckay@enron.com', 'john.mcpherson@enron.com', 'jeffrey.molinaro@enron.com', 'jim.newgard@enron.com', 'h..nguyen@enron.com', 'ina.norman@enron.com', 'john.paliatsos@enron.com', 'joe.parks@enron.com', 'julie.pechersky@enron.com', 'james.post@enron.com', 'jeanette.reese@enron.com', 'y..resendez@enron.com', 'jennifer.riley@enron.com', 'isaac.rodriguez@enron.com', 'jane.saladino@enron.com', 'john.scarborough@enron.com', 'imran.syed@enron.com', '24895266.1075852669518.JavaMail.evans@thyme', 'mccann@nc.rr.com', 'mccann@nc.rr.comMessage-ID', '5178885.1075852669564.JavaMail.evans@thyme', 'cwallen@hilcorp.com', '1329404.1075852669588.JavaMail.evans@thyme', '42G@lyris.postfuture.com', 'leave-participate.com-0109-10010942G@lyris.postfuture.com', '29611514.1075852669638.JavaMail.evans@thyme', 'enronmessaging@yahoo.com', '1396624.1075852669662.JavaMail.evans@thyme', '18527104.1075852669684.JavaMail.evans@thyme', '33477251.1075852669708.JavaMail.evans@thyme', '11443881.1075852669733.JavaMail.evans@thyme', '3308296.1075852669757.JavaMail.evans@thyme', '2852567.1075852669803.JavaMail.evans@thyme', '27378876.1075852669848.JavaMail.evans@thyme', '24846806.1075852669875.JavaMail.evans@thyme', '15375789.1075852669906.JavaMail.evans@thyme', '18213940.1075852669937.JavaMail.evans@thyme', 'tgh8976@restructuringtoday.com', '4607374.1075852670052.JavaMail.evans@thyme', '26066532.1075852670076.JavaMail.evans@thyme', '13550628.1075852670101.JavaMail.evans@thyme', '11478331.1075852670125.JavaMail.evans@thyme', 'jr..harry@enron.com', 'blackman.clark@enron.com', '11895920.1075852670150.JavaMail.evans@thyme', '17431918.1075852670173.JavaMail.evans@thyme', 'Union@ENRON', 'joy.wagman@enron.comMessage-ID', '6395921.1075852670222.JavaMail.evans@thyme', 'narrinator@aol.com', 'Narrinator@aol.com', '21401227.1075852670247.JavaMail.evans@thyme', 'golfnbud@aol.com', 'noidandjen@aol.com', 'buxelbow@nexet.net', '8301aed8@k', 'Sp2lips@netrax.net', 'Johnwho@netrax.net', '20468111.1075852670270.JavaMail.evans@thyme', '7521154.1075852670296.JavaMail.evans@thyme', 'r-5-728387-3078726-2-6417-us2-1e1994b7@xmr3.com', 'R-5-728387-3078726-2-6417-US2-1E1994B7@xmr3.com', '8506274.1075852670319.JavaMail.evans@thyme', '23077631.1075852670343.JavaMail.evans@thyme', 'platts1@ftenergy.com', 'Platts1@FTENERGY.COM', 'es@ftenergy.com', '33305095.1075852670500.JavaMail.evans@thyme', '3703866.1075852670525.JavaMail.evans@thyme', '7419499.1075852670549.JavaMail.evans@thyme', '11262519.1075852670580.JavaMail.evans@thyme', 'chuck.paul@a-closer-look.com', 'ksubach@afce.com', 'kevin_cary@shoneys.com', 'kellykelly@geocities.com', 'kgilbert@firstcityfunding.com', 'ozkaren@yahoo.com', 'jspatt@world.com', 'jclarkson@bargo.com', 'hilife@mindspring.com', 'baxter2@mindspring.com', '75677.1107@compuserve.com', 'jgastin@houlihans.com', 'jptigerly@mindspring.com', 'mbbje@cruzio.com', 'jennifere@austinkelley.com', 'jkurthdo@yahoo.com', 'jgoldstein@crww.com', 'jthompsoniii@benefitconceptsllc.com', 'jowen9653@aol.com', 'mgchristoph@hotmail.com', 'go.hartwig@fuji-euro.de', 'grmccror@collins.rockwell.com', 'wgander@twa.com', 'fwcarson@ix.netcom.com', 'Chuck.Paul@A-Closer-Look.comhttp', '8607584.1075852670617.JavaMail.evans@thyme', '14521396.1075852670641.JavaMail.evans@thyme', '19726102.1075852670690.JavaMail.evans@thyme', 'bodyshop@enron.com', 'alan.quaintance@enron.com', 'daniel.quezada@enron.com', 'kay.quigley@enron.com', 'becky.quintana@enron.com', 'veronica.quintana@enron.com', 'jennifer.rahn@enron.com', 'angie.ramirez@enron.com', 'garibaldis.ramirez@enron.com', 'pilar.ramirez@enron.com', 'adolfo.ramos@enron.com', 'valerie.ramsower@enron.com', 'c..randle@enron.com', 'richard.rathvon@enron.com', 'charlotte.ratliff@enron.com', 'michael.ratner@enron.com', 'maureen.raymond@enron.com', 'daniel.reck@enron.com', 'jennifer.reed@enron.com', 'mark.reese@enron.com', 'clare.regalado@enron.com', 'jennifer.reimer@enron.com', 'vaibhav.rekhi@enron.com', 'ramakrishna.reminisetti@enron.com', 'elizabeth.resendiz@enron.com', 'jewel.revis@enron.com', 'sonnia.reyes@enron.com', 'crystal.reyna@enron.com', 'lily.reynosa@enron.com', 'bernard.rhoden@enron.com', 'jennifer.richard@enron.com', 'robert.richard@enron.com', 'cindy.richardson@enron.com', 'dorothy.ricketts@enron.com', 'chris.riegler@enron.com', 'andrea.ring@enron.com', 'jason.rios@enron.com', 'jonathan.risch@enron.com', 'ricky.rivera@enron.com', 'yolanda.rivera@enron.com', 'chaun.roberts@enron.com', 'a..roberts@enron.com', 'terry.robertson@enron.com', 'larry.robinson@enron.com', 'rhonda.robinson@enron.com', 'kyle.roblee@enron.com', 'raymond.rodon@enron.com', 'erica.rodriguez@enron.com', 'mark-anthony.rodriguez@enron.com', 'oscar.rodriguez@enron.com', 'nalin.rohatgi@enron.com', 'david.roland@enron.com', 'mylinda.rosen@enron.com', 'robbi.rossi@enron.com', 'baron.rozell@enron.com', 'donna.ruff@enron.com', 'kevin.ruscitti@enron.com', 'mark.russ@enron.com', 'david.ryan@enron.com', 'danielle.saadia@enron.com', 'rajib.saha@enron.com', 'neil.sainsbury-carter@enron.com', 'alex.saldana@enron.com', 'johnny.salinas@enron.com', 'tina.salinas@enron.com', 'carlos.salvatierra@enron.com', 'zachary.sampson@enron.com', 'brent.samuel@enron.com', 'monique.sanchez@enron.com', 'rebecca.sanchez@enron.com', 'robert.saucedo@enron.com', 'james.saunders@enron.com', 'patrick.scales@enron.com', 'janelle.scheuer@enron.com', 'mark.schmidt@enron.com', 'richard.schneider@enron.com', 'chris.schomer@enron.com', 'l..schrab@enron.com', 'andy.schroeder@enron.com', 'ethan.schultz@enron.com', 'emily.schwarzbach@enron.com', 'richard.schweiger@enron.com', 'eric.scott@enron.com', 'susan.lindberg@enron.com', 'lisa.scully@enron.com', 'michael.seely@enron.com', 'april.self@enron.com', 'eddie.sera@enron.com', 'jill.setera@enron.com', 'braden.sewell@enron.com', 'anthony.sexton@enron.com', 'sara.shackleton@enron.com', 'vivek.shah@enron.com', 'kylie.sharp@enron.com', 'steven.sheldon@enron.com', 'scott.shishido@enron.com', 'paul.shoemaker@enron.com', 'joseph.short@enron.com', 'ken.shulklapper@enron.com', 'john.sides@enron.com', 'shirley.sidler@enron.com', 'rick.sierra@enron.com', 'philip.siewert@enron.com', 'michael.simmons@enron.com', 'keith.simper@enron.com', 'yvette.simpson@enron.com', 'ronnie.sims@enron.com', 'vikram.singh@enron.com', 'michael.skelton@enron.com', 'karen.skinner@enron.com', 'patricia.slaughter@enron.com', 'mary.sloan@enron.com', 'gary.smith@enron.com', 'keith.smith@enron.com', 'marcus.smith@enron.com', 'mickey.smith@enron.com', 's..smith@enron.com', 'j.smith@enron.com', 'christopher.spann@enron.com', 'juli.salvagio@enron.com', 'marcie.sandford@enron.com', 'jeanie.slone@enron.com', 'shauywn.smith@enron.com', 'walter.spiegelhauer@enron.com', 'steve.swain@enron.com', 'Jennifer.Rahn@ENRON.com', '18820125.1075852670743.JavaMail.evans@thyme', 'kimberly.shoaf@enron.com', 'mark.smith@enron.com', 'melissa.solis@enron.com', 'jeff.spencer@enron.com', 'rebecca.sutherland@enron.com', 'troy.teneyck@enron.com', 'Neil.Sainsbury-Carter@ENRON.com', '25778383.1075852670771.JavaMail.evans@thyme', '2463338.1075852670796.JavaMail.evans@thyme', 'vegec@24x7recruiting.com', 'VegeC@24x7Recruiting.com', 'VegeC@24x7recruiting.com', '28719997.1075852670820.JavaMail.evans@thyme', 'mweisblatt@yahoo.com.', '16487584.1075852670849.JavaMail.evans@thyme', '14335728.1075852670873.JavaMail.evans@thyme', 'mkm@enron.com', 'MKM@enron.com', 'Notification@ENRON', '19759110.1075852670897.JavaMail.evans@thyme', 'Operations@ENRON', '3161813.1075852670920.JavaMail.evans@thyme', '23937339.1075852670944.JavaMail.evans@thyme', '30784380.1075852670968.JavaMail.evans@thyme', '17291044.1075852670991.JavaMail.evans@thyme', '29199462.1075852671017.JavaMail.evans@thyme', '21797678.1075852671042.JavaMail.evans@thyme', '6288891.1075852671067.JavaMail.evans@thyme', 'lmoore@houstontech.org.', '945517.1075852671091.JavaMail.evans@thyme', '20067344.1075852671114.JavaMail.evans@thyme', '16260247.1075852671141.JavaMail.evans@thyme', 'lavorato@enron.com', '18691429.1075852671166.JavaMail.evans@thyme', 'thepetelink@yahoo.com', '10257591.1075852671189.JavaMail.evans@thyme', 'vege@izhuta.com', 'Vege@Izhuta.com', 'vege@Izhuta.com', '30221135.1075852671216.JavaMail.evans@thyme', '13193966.1075852671242.JavaMail.evans@thyme', '23304211.1075852671265.JavaMail.evans@thyme', 'jpclark@wtn.net', 'neil@wtn.net', 'JPClark@wtn.net', '26544155.1075852671291.JavaMail.evans@thyme', 'Staff@ENRON', '3824748.1075852671339.JavaMail.evans@thyme', '25816829.1075852671369.JavaMail.evans@thyme', '11092366.1075852671397.JavaMail.evans@thyme', '973095.1075852671425.JavaMail.evans@thyme', '13800601.1075852671448.JavaMail.evans@thyme', '18478160.1075852671472.JavaMail.evans@thyme', 'ypoforumsurvey@ypoforumdiagnosticsurvey.com', 'gary@cioclub.com', 'Gary@CIOClub.com', '30238911.1075852671520.JavaMail.evans@thyme', '27436507.1075852671576.JavaMail.evans@thyme', '20380899.1075852671604.JavaMail.evans@thyme', '18140401.1075852671628.JavaMail.evans@thyme', '10163202.1075852671655.JavaMail.evans@thyme', '20880890.1075852671679.JavaMail.evans@thyme', '32869587.1075852671703.JavaMail.evans@thyme', '32549131.1075852671727.JavaMail.evans@thyme', '15342439.1075852671750.JavaMail.evans@thyme', '28120581.1075852671773.JavaMail.evans@thyme', '8440346.1075852671796.JavaMail.evans@thyme', '22315163.1075852671820.JavaMail.evans@thyme', '13061402.1075852671847.JavaMail.evans@thyme', 'webinar@ventaso.com', '9905391.1075852671888.JavaMail.evans@thyme', '16376027.1075852671912.JavaMail.evans@thyme', '18447258.1075852671935.JavaMail.evans@thyme', 'gasconference@ziffenergy.comMessage-ID', 's..bradford@enron.com', 'angela.connelly@enron.com', 'j..kean@enron.com', 'kevin.mcgowan@enron.com', 'ross.mesquita@enron.com', 'jennifer.oliver@enron.com', '.palmer@enron.com', 'mark.pickering@enron.com', 'paul.quilkey@enron.com', 'jennifer.rosado@enron.com', 'kal.shah@enron.com', '.taylor@enron.com', 'Jeff.Harbert@ENRON.com', '11947643.1075852671994.JavaMail.evans@thyme', '14322784.1075852672018.JavaMail.evans@thyme', 'michele@mobular.com', '3548762.1075852672042.JavaMail.evans@thyme', '17826751.1075852672065.JavaMail.evans@thyme', '6692685.1075852672089.JavaMail.evans@thyme', '9516539.1075852672149.JavaMail.evans@thyme', '24063892.1075852672174.JavaMail.evans@thyme', 'Services@ENRON', '10264661.1075852672201.JavaMail.evans@thyme', '1963119.1075852672251.JavaMail.evans@thyme', 'marc.graubart@enron.com', '10145684.1075852672286.JavaMail.evans@thyme', '28451529.1075852672321.JavaMail.evans@thyme', '643208.1075852672451.JavaMail.evans@thyme', 'jack.roth@apbenergy.com', 'jack.roth@APBenergy.com', '5877635.1075852672481.JavaMail.evans@thyme', '1168935.1075852672505.JavaMail.evans@thyme', '16950985.1075852672528.JavaMail.evans@thyme', '18084963.1075852672552.JavaMail.evans@thyme', '17933741.1075852672575.JavaMail.evans@thyme', '26482418.1075852672598.JavaMail.evans@thyme', '24015848.1075852672621.JavaMail.evans@thyme', '8107338.1075852672654.JavaMail.evans@thyme', 'salisha.ramos@enron.com', 'lindsay.renaud@enron.com', 'amy.wilson@enron.com', '29045888.1075852672679.JavaMail.evans@thyme', '24373086.1075852672715.JavaMail.evans@thyme', '5958615.1075852672740.JavaMail.evans@thyme', 'webtrading@schwab.com', '20017788.1075852672770.JavaMail.evans@thyme', '22242021.1075852672794.JavaMail.evans@thyme', '25284095.1075852672817.JavaMail.evans@thyme', '16458014.1075852672840.JavaMail.evans@thyme', 'pbrandt@lrci.com', '20673156.1075852672864.JavaMail.evans@thyme', '15708895.1075852672914.JavaMail.evans@thyme', 'WSGARRAWAY@prodigy.net', 'REllis9747@aol.com', 'ron.ellis@abnamro.com', '13135815.1075852672940.JavaMail.evans@thyme', '19042032.1075852672965.JavaMail.evans@thyme', 'blevinemd@home.com', '20010831023419.CCYV29231.femail36.sdc1.sfba.home.com@cn318631a', '5a3f0b41@newcas1.de.home.com', '30828432.1075852672989.JavaMail.evans@thyme', '19481281.1075852673014.JavaMail.evans@thyme', 'Lay-@ENRON', '31313439.1075852673041.JavaMail.evans@thyme', '17272210.1075852673066.JavaMail.evans@thyme', '14658654.1075852673112.JavaMail.evans@thyme', 'ngilluly@houstontech.org', 'mdburkesa@aol.com', 'ariel@pdq.net', 'kbrooks@eyesoftexaspartners.com', 'emersonb@starlightcapital.com', '11374167.1075852673135.JavaMail.evans@thyme', '6040722.1075852673163.JavaMail.evans@thyme', '24270506.1075852673192.JavaMail.evans@thyme', 'pwareing@aol.com', 'PWareing@aol.com', 'MSandlin@tmh.tmc.edu', '5147D82D2EEACF119E650001FA3702F70BF96CF7@exch1.tmh.tmc.edu', 'KCollie70@AOL.com', 'seburgher@msn.com', 'donnadawson@bigplanet.com', '26727806.1075852673217.JavaMail.evans@thyme', 'net-athome@sigma-consultants.fr', 'Net@Home2001', 'Net@Home', 'Karine.Valin@sigma-consultants.fr', '21055255.1075852673244.JavaMail.evans@thyme', '10631077.1075852673267.JavaMail.evans@thyme', 'ipayit@enron.com', 'iPayit@Enron.com', '32728384.1075852673297.JavaMail.evans@thyme', '8157397.1075852673420.JavaMail.evans@thyme', 'Management@ENRON', '31529065.1075852673445.JavaMail.evans@thyme', '17413436.1075852673469.JavaMail.evans@thyme', 'Controls@ENRON', 'CorporateSecurity@enron.com.', '5863609.1075852673492.JavaMail.evans@thyme', '318128.1075852673523.JavaMail.evans@thyme', '11629175.1075852673547.JavaMail.evans@thyme', '30544428.1075852673573.JavaMail.evans@thyme', '10946992.1075852673610.JavaMail.evans@thyme', 'charles.cheek@enron.com', 'alan.butler@enron.com', 'joyce.dorsey@enron.com', 'esmeralda.hinojosa@enron.com', 'mary.joyce@enron.com', 'michelle.lawless@enron.com', 'stephanie.mcginnis@enron.com', 'nikki.slade@enron.com', 'e.sullo@enron.com', 'christina.valdez@enron.com', 'stacy.walker@enron.com', 'teresa.wright@enron.com', 'Steve.Elliott@ENRON.com', 'Samantha.Lopez-Dias@ENRON.com', '7148438.1075852673647.JavaMail.evans@thyme', '18380559.1075852673701.JavaMail.evans@thyme', 'johns@scudderpublishing.com', '19958466.1075852673724.JavaMail.evans@thyme', '31845925.1075852673748.JavaMail.evans@thyme', '7722669.1075852673771.JavaMail.evans@thyme', 'hreynolds@imiresort.com', '6365734.1075852673795.JavaMail.evans@thyme', '17369262.1075852673818.JavaMail.evans@thyme', 'asmesch@flash.net', '1632634.1075852673844.JavaMail.evans@thyme', '25713696.1075852673868.JavaMail.evans@thyme', '22564922.1075852673892.JavaMail.evans@thyme', '16464533.1075852673934.JavaMail.evans@thyme', '3329572.1075852673981.JavaMail.evans@thyme', '24889515.1075852674005.JavaMail.evans@thyme', '15456629.1075852674060.JavaMail.evans@thyme', '1154856.1075852674086.JavaMail.evans@thyme', '15211508.1075852674112.JavaMail.evans@thyme', 'r-6-728387-2981197-2-3244-us2-ff34a999@xmr3.com', 'R-6-728387-2981197-2-3244-US2-FF34A999@xmr3.com', 'YPO@COMDEX', '8606595.1075852674136.JavaMail.evans@thyme', '31453180.1075852674162.JavaMail.evans@thyme', '17078192.1075852674186.JavaMail.evans@thyme', '8563062.1075852674210.JavaMail.evans@thyme', 'noreen.meehan@terrapinn.com', 'mark.dye@terrapinn.com', '32642405.1075852674264.JavaMail.evans@thyme', '5950758.1075852674287.JavaMail.evans@thyme', '22187907.1075852674318.JavaMail.evans@thyme', '21756346.1075852674350.JavaMail.evans@thyme', '16272917.1075852674377.JavaMail.evans@thyme', '30309789.1075852674400.JavaMail.evans@thyme', '26806211.1075852674444.JavaMail.evans@thyme', 'ftenergy1@ftenergy.com', 'powermart1@list2.resdata.com', 'ftenergy1@FTENERGY.COM', 'POWERMART1@LIST2.RESDATA.COM', 'ces@ftenergy.com', '30196534.1075852674492.JavaMail.evans@thyme', '2376830.1075852674517.JavaMail.evans@thyme', '21308620.1075852674567.JavaMail.evans@thyme', '7535850.1075852674591.JavaMail.evans@thyme', 'david_grizzle@yahoo.com', '10679123.1075852674652.JavaMail.evans@thyme', 'rra@mem.com.ve', '1366727.1075852674784.JavaMail.evans@thyme', '19364180.1075852674807.JavaMail.evans@thyme', '9344534.1075852674830.JavaMail.evans@thyme', 'info@wecoaerospace.com', '18841251.1075852674854.JavaMail.evans@thyme', '11733021.1075852674878.JavaMail.evans@thyme', '31047121.1075852674902.JavaMail.evans@thyme', '4001099.1075852674926.JavaMail.evans@thyme', 'mbx_chairmansaward@enron.com', '3401801.1075852674950.JavaMail.evans@thyme', 'online.service@schwab.com', '30881191.1075852675008.JavaMail.evans@thyme', 'kenneth_b._mehlman@who.eop.gov', 'Kenneth_B._Mehlman@who.eop.gov', 'victoria.suberinsky@ios.doi.gov', '232394.1075852675033.JavaMail.evans@thyme', 'dandonaldson@att.net', '13532110.1075852675056.JavaMail.evans@thyme', 'jk@jhavergroup.com', '2239870.1075852675087.JavaMail.evans@thyme', '30982875.1075852675110.JavaMail.evans@thyme', 'dlong@houstontech.org', 'adminstrator@houstontech.org', 'Adminstrator@houstontech.org', '31513520.1075852675136.JavaMail.evans@thyme', '24579349.1075852675162.JavaMail.evans@thyme', 'season@wizard.net', '16522239.1075852675218.JavaMail.evans@thyme', 'rcossick@houstontech.org', 'lee_ahlstrom@mckinsey.com', 'msimmons@simmonsco-intl.com', 'neale.chris@enron.com', 'Lee_Ahlstrom@mckinsey.com', 'robert.cossick@dynegy.com', '26361696.1075852675241.JavaMail.evans@thyme', '8308952.1075852675268.JavaMail.evans@thyme', '28565827.1075852675292.JavaMail.evans@thyme', 'email.service@schwab.com', '9049172.1075852675316.JavaMail.evans@thyme', 'lbentsen@swbell.net', 'MDBurkeSA@aol.com', 'mburke@entrix.comMessage-ID', '13929096.1075852675363.JavaMail.evans@thyme', 'Announcements@ENRON', '30608665.1075852675388.JavaMail.evans@thyme', '16845093.1075852675413.JavaMail.evans@thyme', 'jtoland@forrester.com', '16750104.1075852675437.JavaMail.evans@thyme', '30884030.1075852675460.JavaMail.evans@thyme', '26643051.1075852675519.JavaMail.evans@thyme', '5867789.1075852675544.JavaMail.evans@thyme', '3468827.1075852675567.JavaMail.evans@thyme', '16527819.1075852675590.JavaMail.evans@thyme', 'tracy.hopkins@bikebarntexas.com', 'bikebarn@bikebarntexas.com', '13996933.1075852675637.JavaMail.evans@thyme', 'newpower@newpower.dartmail3.net', 'NewPower@newpower.dartmail3.net', 'unsub_newpower@newpower.dartmail3.net', '29890497.1075852675663.JavaMail.evans@thyme', 'kweido@questia.com', 'KWeido@questia.com', 'ccdickerson@earthlink.net', '26197597.1075852675688.JavaMail.evans@thyme', 'larryd@delpapabud.com', 'dougs@senterracorp.com', 'jan_levin@travisintl.com', 'dpipkin@swbanktx.com', 'gloria@gammaconst.com', 'dougss@senterracorp.com', 'robin@hoganinvestment.com', '1764420.1075852675713.JavaMail.evans@thyme', 'morgan.michael@enron.com', '26058991.1075852675736.JavaMail.evans@thyme', 'aworobel@ftenergy.com', 'geaus@list2.resdata.com', 'AWorobel@FTENERGY.COM', 'GEAUS@LIST2.RESDATA.COM', '21028082.1075852675804.JavaMail.evans@thyme', '23699665.1075852675829.JavaMail.evans@thyme', '29176706.1075852675853.JavaMail.evans@thyme', '8438701.1075852675878.JavaMail.evans@thyme', '28226544.1075852675902.JavaMail.evans@thyme', '10974541.1075852675926.JavaMail.evans@thyme', 'doctoridea@email.msn.com', '408473.1075852675949.JavaMail.evans@thyme', '20106050.1075852675973.JavaMail.evans@thyme', 'prince_consultants@yahoo.com', '29261458.1075852675998.JavaMail.evans@thyme', '23580735.1075852676022.JavaMail.evans@thyme', '10020391.1075852676045.JavaMail.evans@thyme', 'Blake@hoganinvestment.com', '3025285.1075852676069.JavaMail.evans@thyme', '11012356.1075852676092.JavaMail.evans@thyme', '31976473.1075852676117.JavaMail.evans@thyme', 'ann.brown@enron.com', 'ddalton34@aol.com', 'dorothy.dalton@enron.comMessage-ID', 'carl.kaestner@rhargrove.com', 'Carl.Kaestner@RHargrove.com', '32146555.1075852676164.JavaMail.evans@thyme', 'sam@samumaria.com', '27243918.1075852676188.JavaMail.evans@thyme', 'acarty@mail.smu.edu', 'clavis@bellsouth.net', 'tmcgee17@aol.com', '4759370.1075852676211.JavaMail.evans@thyme', '30532251.1075852676234.JavaMail.evans@thyme', '7618684.1075852676261.JavaMail.evans@thyme', '17238472.1075852676316.JavaMail.evans@thyme', '18036302.1075852676343.JavaMail.evans@thyme', 'jgrumbles76@hotmail.com.', '5392843.1075852676367.JavaMail.evans@thyme', 'info@surveywriter.com', '7003066.1075852676390.JavaMail.evans@thyme', '25137555.1075852676413.JavaMail.evans@thyme', '3040597.1075852676437.JavaMail.evans@thyme', '33478015.1075852676461.JavaMail.evans@thyme', '24288105.1075852676490.JavaMail.evans@thyme', '20529038.1075852676514.JavaMail.evans@thyme', '24874628.1075852676541.JavaMail.evans@thyme', 'alerts@schwab.com', '13217307.1075852676684.JavaMail.evans@thyme', '25234192.1075852676743.JavaMail.evans@thyme', 'hal.mckinney@enron.com', 'm..taylor@enron.com', '16609335.1075852676768.JavaMail.evans@thyme', '13777868.1075852676791.JavaMail.evans@thyme', 'cust.serv@informa.com', 'database@ibcuk.co.ukMessage-ID', 'bill_meehan@mckinsey.com', 'Bill_Meehan@mckinsey.com', '7830955.1075852676838.JavaMail.evans@thyme', 'States@ENRON', '14384482.1075852676861.JavaMail.evans@thyme', 'ready2go@enron.com', 'Ready2Go@enron.com', '1160648.1075852676921.JavaMail.evans@thyme', 'charles.ellison@votenet.com', '11894881.1075852676948.JavaMail.evans@thyme', '33527029.1075852676971.JavaMail.evans@thyme', 'bryanusc@hotmail.com', '9202715.1075852676996.JavaMail.evans@thyme', 'nc7@columbia.edu', '17662129.1075852677024.JavaMail.evans@thyme', 'Excite@Home', '24912000.1075852677049.JavaMail.evans@thyme', 'EESBusinessCenter@enron.com', '3791152.1075852677075.JavaMail.evans@thyme', '31594989.1075852677098.JavaMail.evans@thyme', '1541179.1075852677149.JavaMail.evans@thyme', '32144674.1075852677172.JavaMail.evans@thyme', '29194887.1075852677204.JavaMail.evans@thyme', 'himendra.kumar@dowjones.com', '12021345.1075852677228.JavaMail.evans@thyme', '11510437.1075852677252.JavaMail.evans@thyme', '14615582.1075852677276.JavaMail.evans@thyme', 'art@heimbachresearch.com', 'jskilli@ENRON.COM', 'abuse@zoomerang.com.Message-ID', '3000673.1075852677454.JavaMail.evans@thyme', '7716.1075852677480.JavaMail.evans@thyme', '29032383.1075852677503.JavaMail.evans@thyme', 'joy.wagman@enron.com', '2257824.1075852677558.JavaMail.evans@thyme', 'hubert.brown@enron.com', 'susan.skarness@enron.com', 'ddalton34@aol.com.', 'lilu@himalayacapital.com', 'lilu@HimalayaCapital.com', '11872982.1075852677604.JavaMail.evans@thyme', '1014330.1075852677634.JavaMail.evans@thyme', '32021461.1075852677689.JavaMail.evans@thyme', 'brice@restructuringtoday.com', 'season@restructuringtoday.com', 'season@restructuringtoday.com.', '5162005.1075852677715.JavaMail.evans@thyme', '19615819.1075852677738.JavaMail.evans@thyme', 'sreinar@enron.com', '10788291.1075852677763.JavaMail.evans@thyme', '24223693.1075852677787.JavaMail.evans@thyme', '11689711.1075852677811.JavaMail.evans@thyme', 'Becker@ENRON', '7782699.1075852677846.JavaMail.evans@thyme', 'e..haedicke@enron.com', 'tim.jones@enron.com', '8659873.1075852677878.JavaMail.evans@thyme', '20923973.1075852677904.JavaMail.evans@thyme', '18782508.1075852677928.JavaMail.evans@thyme', 'gailg@morgangroup.com.', '21397167.1075852677984.JavaMail.evans@thyme', '19339768.1075852678010.JavaMail.evans@thyme', '1699981.1075852678035.JavaMail.evans@thyme', '16769552.1075852678059.JavaMail.evans@thyme', 'tkahn@cmhouston.org', '22197519.1075852678082.JavaMail.evans@thyme', '15534383.1075852678107.JavaMail.evans@thyme', '32907373.1075852678131.JavaMail.evans@thyme', '30070569.1075852678156.JavaMail.evans@thyme', '32765671.1075852678180.JavaMail.evans@thyme', '30858917.1075852678203.JavaMail.evans@thyme', 'jgrumbles76@hotmail.com', '28533550.1075852678228.JavaMail.evans@thyme', '3437656.1075852678252.JavaMail.evans@thyme', 'azaremba@fzci.net', '29511673.1075852678321.JavaMail.evans@thyme', '1088961.1075852678345.JavaMail.evans@thyme', 'milesa@livetechsolutions.com', 'MilesA@LiveTechSolutions.com', '15010236.1075852678368.JavaMail.evans@thyme', '14823621.1075852678392.JavaMail.evans@thyme', '32500347.1075852678425.JavaMail.evans@thyme', '736906.1075852678449.JavaMail.evans@thyme', 'michael.gerosimo@lehman.com', 'gerosimo@enron.com', 'gmanning@lehman.com', '3605031.1075852678472.JavaMail.evans@thyme', 'kelly@amscsearch.com', 'Kelly@amscsearch.com', '24022566.1075852678496.JavaMail.evans@thyme', '20357670.1075852678521.JavaMail.evans@thyme', 'Online.Service@schwab.com', '30377742.1075852678545.JavaMail.evans@thyme', '28036343.1075852678568.JavaMail.evans@thyme', '1929494.1075852678592.JavaMail.evans@thyme', '15438804.1075852678615.JavaMail.evans@thyme', 'mitesh.master@enron.com', '3566534.1075852678638.JavaMail.evans@thyme', 'energy.vertical@juno.com', '14531393.1075852678664.JavaMail.evans@thyme', 'SMU-BETAS@yahoogroups.com', '19967219.1075852678688.JavaMail.evans@thyme', '11178083.1075852678711.JavaMail.evans@thyme', '32336772.1075852678736.JavaMail.evans@thyme', '3000293.1075852678761.JavaMail.evans@thyme', '27183892.1075852678790.JavaMail.evans@thyme', 'mawallac@texaschildrenshospital.org', 'bob@enron.com', 'charles@enron.com', 'david@enron.com', 'dennis@enron.com', 'don@enron.com', 'emily@enron.com', 'frank@enron.com', 'harry@enron.com', 'jack@enron.com', 'jeffrey@enron.com', 'jim@enron.com', 'joel@enron.com', 'john@enron.com', 'larry@enron.com', 'leo@enron.com', 'mike@enron.com', 'paul@enron.com', 'peter@enron.com', 'philip@enron.com', 'rob@enron.com', 'robin@enron.com', 'scott@enron.com', 'stan@enron.com', 'ted@enron.com', 'tony@enron.com', 'walter@enron.com', 'mawallac@TexasChildrensHospital.org', 'challeninv@aol.com', '2531146.1075852678819.JavaMail.evans@thyme', '27513901.1075852678843.JavaMail.evans@thyme', 'HUTCHATHOH@AOL.COM', 'JOWEN9653@AOL.COM', '12511919.1075852678866.JavaMail.evans@thyme', 'ccassidy@businesscouncil.com', '2212618.1075852678889.JavaMail.evans@thyme', '9164551.1075852678912.JavaMail.evans@thyme', 'wylie_goodman@mckinsey.com', 'Wylie_Goodman@mckinsey.com', '13777140.1075852678935.JavaMail.evans@thyme', '26826781.1075852678958.JavaMail.evans@thyme', '6818560.1075852678981.JavaMail.evans@thyme', 'laura.goldberg@chron.com', 'Laura.Goldberg@chron.com', '11166349.1075852679006.JavaMail.evans@thyme', 'slc1856@yahoo.com', '2890342.1075852679029.JavaMail.evans@thyme', 'marvin.newell@zilliant.com', 'skillingj@enron.com', 'Marvin.Newell@zilliant.com', '24718589.1075852679053.JavaMail.evans@thyme', 'mario_muth@bellsouth.net', '7905287.1075852679076.JavaMail.evans@thyme', '22178139.1075852679099.JavaMail.evans@thyme', 'johnt@austinventures.com', '25358781.1075852679122.JavaMail.evans@thyme', 'donnancy@rmi.net', '30191896.1075852679147.JavaMail.evans@thyme', '25076654.1075852679174.JavaMail.evans@thyme', 'stein.alan@enron.com', 'brener.alfredo@enron.com', 'larkin.bill@enron.com', 'hogan.blake@enron.com', 'lieberman.craig@enron.com', 'weekley.david@enron.com', 'schnitzer.doug@enron.com', 'pulaski.eric@enron.com', 'demontrond.george@enron.com', 'clements.glenn@enron.com', 'blanton.jack@enron.com', 'hildebrand.jeff@enron.com', 'kotts.john@enron.com', 'williams.keith@enron.com', 'delpapa.larry@enron.com', 'duffey.mark@enron.com', 'khourie.matt@enron.com', 'morgan.mike@enron.com', 'waring.peter@enron.com', 'fleishman.robert@enron.com', 'brock.todd@enron.com', 'astein3183@aol.com', '19670134.1075852679198.JavaMail.evans@thyme', '17682954.1075852679221.JavaMail.evans@thyme', '5819023.1075852679248.JavaMail.evans@thyme', '22717101.1075852679272.JavaMail.evans@thyme', '14598523.1075852679319.JavaMail.evans@thyme', '7380420.1075852679343.JavaMail.evans@thyme', 'Gavin.Harris@ca.com', '25552506.1075852679366.JavaMail.evans@thyme', '31358835.1075852679389.JavaMail.evans@thyme', 'david_weekley@dwhomes.com', 'David_Weekley@DWHOMES.com', '8486120.1075852679412.JavaMail.evans@thyme', '19888946.1075852679436.JavaMail.evans@thyme', '4271084.1075852679459.JavaMail.evans@thyme', 'craigd9561@aol.com', '11180611.1075852679485.JavaMail.evans@thyme', '7721519.1075852679509.JavaMail.evans@thyme', '20586601.1075852679532.JavaMail.evans@thyme', '19265057.1075852679582.JavaMail.evans@thyme', '21113487.1075852679624.JavaMail.evans@thyme', 'craigd9561@aol.comwrites', '16272742.1075852679648.JavaMail.evans@thyme', 'ed@nationalfinancepeople.com', 'Ed@nationalfinancepeople.com', '27370403.1075852679672.JavaMail.evans@thyme', '16657248.1075852679695.JavaMail.evans@thyme', '13742403.1075852679719.JavaMail.evans@thyme', 'Cgonzalez@eldoradocorp.com', '13418700.1075852679742.JavaMail.evans@thyme', 'williamk@kroadv.com', '8760098.1075852679765.JavaMail.evans@thyme', '27678172.1075852679788.JavaMail.evans@thyme', 'jawallace12050@aol.com', 'JAWallace12050@aol.com', '21951194.1075852679811.JavaMail.evans@thyme', 'gregory.rye@enron.com', '2741041.1075852679835.JavaMail.evans@thyme', '31997242.1075852679858.JavaMail.evans@thyme', 'ccoburn@kc.rr.com', '776697.1075852679883.JavaMail.evans@thyme', 'smu-betas-subscribe@yahoogroups.com', 'smu-betas-unsubscribe@yahoogroups.com', 'smu-betas-owner@yahoogroups.com', '1286617.1075852679906.JavaMail.evans@thyme', 'jim.hackett@oceanenergy.com', 'Jim.Hackett@OceanEnergy.com', '15134265.1075852679929.JavaMail.evans@thyme', '19005029.1075852679952.JavaMail.evans@thyme', 'myousry1@san.rr.com', '12886182.1075852679975.JavaMail.evans@thyme', 'jody.underwood@enron.com', '17756846.1075852680001.JavaMail.evans@thyme', 'jmckay@eventamerica.com', 'ebarton@eventamerica.com', '6206833.1075852680025.JavaMail.evans@thyme', 'richard.rusk@enron.com', '31082329.1075852680049.JavaMail.evans@thyme', 'froby@holmesmurphy.com', '25317925.1075852680072.JavaMail.evans@thyme', 'lance@shadowpack.com', '14614531.1075852680099.JavaMail.evans@thyme', '7990107.1075852680123.JavaMail.evans@thyme', 'mdobbs@kpmg.com', '4907041.1075852680147.JavaMail.evans@thyme', '29406842.1075852680170.JavaMail.evans@thyme', '17569523.1075852680195.JavaMail.evans@thyme', '11973436.1075852680219.JavaMail.evans@thyme', '11623109.1075852680246.JavaMail.evans@thyme', '29253835.1075852680270.JavaMail.evans@thyme', '29682378.1075852680293.JavaMail.evans@thyme', 'jflores@plainsresources.com', '17998026.1075852680316.JavaMail.evans@thyme', 'greenaviation@aol.com', 'GreenAviation@aol.com', 'Aviation@AOL.comMessage-ID', '6446943.1075852680362.JavaMail.evans@thyme', 'les_silverman@mckinsey.com', 'Les_Silverman@mckinsey.com', '6511699.1075852680386.JavaMail.evans@thyme', '21124230.1075852680409.JavaMail.evans@thyme', '29046891.1075852680432.JavaMail.evans@thyme', '7680277.1075852680456.JavaMail.evans@thyme', '32074066.1075852680479.JavaMail.evans@thyme', '16881372.1075852680502.JavaMail.evans@thyme', 'gclement@stewart.com', 'GCLEMENT@stewart.com', 'gclements@stewart.comMessage-ID', 'rzoellick@ustr.gov', 'RZOELLICK@ustr.gov', 'N@ustr.gov', '22558796.1075852680548.JavaMail.evans@thyme', 'max@knowledgecube.com', 'max@KnowledgeCube.com', '14157380.1075852680572.JavaMail.evans@thyme', '8617650.1075852680595.JavaMail.evans@thyme', 'aszabo@stonebond.com', '15917206.1075852680618.JavaMail.evans@thyme', 'ltaylor@heidrick.com', 'ltaylor@h-s.com', '24554714.1075852680643.JavaMail.evans@thyme', 'tskilling@tribune.com', 'TSkilling@tribune.com', '5131827.1075852680666.JavaMail.evans@thyme', 'mduffey@brecoholdings.com', 'MDuffey@brecoholdings.com', '15733279.1075852680689.JavaMail.evans@thyme', 'norman_stout@inter-tel.com', 'Norman_Stout@inter-tel.com', '20306357.1075852680712.JavaMail.evans@thyme', 'jqa@mediaone.net', '6829354.1075852680735.JavaMail.evans@thyme', 'daronoff@greylock.com', '24806321.1075852680760.JavaMail.evans@thyme', 'david.haug@enron.com', '6020166.1075852680784.JavaMail.evans@thyme', '14323569.1075852680807.JavaMail.evans@thyme', 'roger.gahunia@enron.com', '16731227.1075852680830.JavaMail.evans@thyme', 'mary.clark@enron.com', 'mary.clark@enron.comMessage-ID', 'rex.shelby@enron.com', '2530713.1075852680878.JavaMail.evans@thyme', '20231218.1075852680902.JavaMail.evans@thyme', 'sarah.palmer@enron.com', '19023466.1075852680925.JavaMail.evans@thyme', 'wes.carberry@enron.com', 'wcarberry@sensecorp.com', '20775094.1075852680949.JavaMail.evans@thyme', 'timmy.ng@enron.com', '33140585.1075852680973.JavaMail.evans@thyme', 'rachel.peckenpaugh@enron.com', '23808979.1075852680998.JavaMail.evans@thyme', '20915992.1075852681026.JavaMail.evans@thyme', '18854640.1075852681049.JavaMail.evans@thyme', '1894313.1075852681073.JavaMail.evans@thyme', 'bprzyby@evokesoft.com', 'BPrzyby@evokesoft.com', '28125735.1075852681096.JavaMail.evans@thyme', 'david.pruner@enron.com', '27960275.1075852681121.JavaMail.evans@thyme', 'acarty@post.cis.smu.edu', '32077466.1075852681146.JavaMail.evans@thyme', '6916570.1075852681170.JavaMail.evans@thyme', 'aechristie@aol.com', 'cjones@cityofnapa.org', 'gzophy@yahoo.com', 'mmmmisha@ix.netcom.com', 'robdbogey@aol.com', 'AEChristie@aol.com', '14252989.1075852681195.JavaMail.evans@thyme', 'estefanik@home.com', '4899600.1075852681229.JavaMail.evans@thyme', 'lawrence.ciscon@enron.com', 'steven.reynolds@enron.com', 'bernie.barcio@enron.com', 'tom.cassidy@enron.com', 'linda.faircloth@enron.com', 'mark.esposito@enron.com', 'marc.gerona@enron.com', 'everett.plante@enron.com', 'daryl.dunbar@enron.com', 'john.lee@enron.com', 'vinodh.gunasekera@enron.com', 'biren.kumar@enron.com', 'ford.cooper@enron.com', 'michael.finger@enron.com', 'john.nixon@enron.com', 'marc.poulson@enron.com', 'diane.hetzel@enron.com', 'mark.gandy@enron.com', 'fabricio.soares@enron.com', 'paula.corey@enron.com', 'daryl.flaming@enron.com', 'andy.walker@enron.com', 'bill.donges@enron.com', 'chengdi.bao@enron.com', 'chris.newcombe@enron.com', 'dan.cummings@enron.com', 'donna.rabalais@enron.com', 'jane.lu@enron.com', 'kim.woodson@enron.com', 'lorena.garcia@enron.com', 'patricia.chow@enron.com', 'rebecca.pickett@enron.com', 'rick.dipersio@enron.com', 'stan.yarosh@enron.com', 'susan.durrance@enron.com', 'timothy.hubbard@enron.com', 'dpr@dsg.com', 'lciscon@tierastudios.com', '5008988.1075852681253.JavaMail.evans@thyme', 'ron.johns@inknowvator.com', '31556403.1075852681277.JavaMail.evans@thyme', 'bob_beauchamp@bmc.com', 'Bob_Beauchamp@bmc.com', 'Inc.bob_beauchamp@bmc.com', '7122729.1075852681302.JavaMail.evans@thyme', 'christie.patrick@enron.com', 'tscott@radstrat.com', 'richard.a.daveni@Dartmouth.EDU', 'enron.messaging.administration@enron.com', '23062646.1075852681329.JavaMail.evans@thyme', 'kenny.kurtzman@katzenbach.com', 'Kenny.Kurtzman@katzenbach.com', 'douglas_allen@agfg.com', 'sandy.wright@katzenbach.com', '26648783.1075852681353.JavaMail.evans@thyme', '1546682.1075852681376.JavaMail.evans@thyme', 'dennis.vegas@enron.com', '23958745.1075852681400.JavaMail.evans@thyme', 'FISHERD@Darden.virginia.udu', '21444452.1075852681423.JavaMail.evans@thyme', '8766576.1075852681447.JavaMail.evans@thyme', '2338553.1075852681474.JavaMail.evans@thyme', 'deleon.armando@enron.com', 'monteleone.bill@enron.com', 'hotze.bruce@enron.com', 'solomon.david@enron.com', 'foshee.doug@enron.com', 'alexander.drew@enron.com', 'lummis.fred@enron.com', '11834598.1075852681497.JavaMail.evans@thyme', 'george.ho@enron.com', '26973628.1075852681524.JavaMail.evans@thyme', 'leslyek@yahoo.com', '25398615.1075852681548.JavaMail.evans@thyme', 'timothy.versacci@enron.com', '28606687.1075852681572.JavaMail.evans@thyme', 'dave.neubauer@enron.com', '24694552.1075852681596.JavaMail.evans@thyme', 'patrick.mendenhall@ubspainewebber.com', 'michael.trahan@ubspainewebber.com', 'david.shine@ubspainewebber.com', 'robert.rathjen@ubspainewebber.com', '6575440.1075852681619.JavaMail.evans@thyme', '18685534.1075852681645.JavaMail.evans@thyme', 'denise.soo@enron.com', '11851238.1075852681669.JavaMail.evans@thyme', '4648806.1075852681691.JavaMail.evans@thyme', 'dgarvin@hsb.edu', '17777387.1075852681715.JavaMail.evans@thyme', 'WHOLESALE@ENRON', '15891424.1075852681739.JavaMail.evans@thyme', 'David.Cook@nerc.net', 'david.cook@nerc.net', '27447407.1075852681762.JavaMail.evans@thyme', 'cindy.kunze@haack.com', 'bill.haack@haack.com', '2252971.1075852681795.JavaMail.evans@thyme', 'kean.steve@enron.com', 'skean@enron.com', '16289833.1075852681949.JavaMail.evans@thyme', '12619760.1075852681973.JavaMail.evans@thyme', 'ursula.brenner@enron.com', '2757503.1075852682000.JavaMail.evans@thyme', 'brunerr@darden.virginia.edu', 'halloran@enron.com', 'melinda.mccarty@enron.com', 'BRUNERR@Darden.virginia.edu', 'FISHERD@Darden.virginia.edu', '6687865.1075852682025.JavaMail.evans@thyme', 'Kenneth.Carey@pentagon.af.mil', '29160641.1075852682071.JavaMail.evans@thyme', 'spencer.aaron@enron.com', 'suter.albert@enron.com', 'liggins.alfred@enron.com', 'adams.andrew@enron.com', 'grove.andrew@enron.com', 'linsky.barry@enron.com', 'jr..bertram@enron.com', 'morgan.bill@enron.com', 'nordstrom.blake@enron.com', 'johnson.bobby@enron.com', 'young.brinton@enron.com', 'darden.calvin@enron.com', 'jr..charles@enron.com', 'gaut.charles@enron.com', 'pigott.charles@enron.com', 'amenson.christopher@enron.com', 'abruzzo.cloyd@enron.com', 'akerson.daniel@enron.com', 'courtney.david@enron.com', 'dillon.david@enron.com', 'ferraro.david@enron.com', 'goodnight.david@enron.com', 'lesar.david@enron.com', 'murdock.david@enron.com', 'rickey.david@enron.com', 'kozlowski.dennis@enron.com', 'crews.donald@enron.com', 'grenesko.donald@enron.com', 'mcgrath.dr.@enron.com', 'zitzner.duane@enron.com', 'fritsky.edward@enron.com', 'meyer.edward@enron.com', 'steiner.eric@enron.com', 'jewels.frances@enron.com', 'england.garry@enron.com', 'lasezkay.george@enron.com', 'jones.greg@enron.com', 'brady.gregory@enron.com', 'jr..harrison@enron.com', 'kamil.harvey@enron.com', 'perry.harvey@enron.com', 'curd.howard@enron.com', 'defranco.james@enron.com', 'duffy.james@enron.com', 'kahan.james@enron.com', 'mcdonald.james@enron.com', 'millar.james@enron.com', 'heller.jeffrey@enron.com', 'baker.jerry@enron.com', 'davis.joe@enron.com', 'bryan.john@enron.com', 'lasseter.john@enron.com', 'roe.john@enron.com', 'spiller.jonathan@enron.com', 'martin.joseph@enron.com', 'boger.joshua@enron.com', 'burns.kenneth@enron.com', 'grande.kenneth@enron.com', 'williams.kenneth@enron.com', 'bedard.kipp@enron.com', 'hirsch.laurence@enron.com', 'smith.lawrence@enron.com', 'dreimann.leonard@enron.com', 'goldston.mark@enron.com', 'swartz.mark@enron.com', 'brauns.martin@enron.com', 'slark.martin@enron.com', 'jefferies.michael@enron.com', 'kourey.michael@enron.com', 'mellinger.michael@enron.com', 'tzannes.michael@enron.com', 'connolly.patrick@enron.com', 'allaire.paul@enron.com', 'otellini.paul@enron.com', 'dawson.peter@enron.com', 'secchia.peter@enron.com', 'ungermann.ralph@enron.com', 'mullins.randy@enron.com', 'andersen.ray@enron.com', 'sakai.reagan@enron.com', 'collingwood.richard@enron.com', 'ferry.richard@enron.com', 'hayne.richard@enron.com', 'mandelbaum.richard@enron.com', 'mosteller.richard@enron.com', 'rompala.richard@enron.com', 'youngman.richard@enron.com', 'bittman.robert@enron.com', 'coleman.robert@enron.com', 'koski.robert@enron.com', 'matheny.robert@enron.com', 'schiff.robert@enron.com', 'wayman.robert@enron.com', 'barkin.ronald@enron.com', 'blechman.ross@enron.com', 'iii.samuel@enron.com', 'stouffer.scott@enron.com', 'gray.stephen@enron.com', 'mcmillan.steve@enron.com', 'anderson.steven@enron.com', 'heller.steven@enron.com', 'perricone.steven@enron.com', 'glenn.t.@enron.com', 'mendoza.thomas@enron.com', 'harmon.timothy@enron.com', 'sullivan.tom@enron.com', 'shear.victor@enron.com', 'helmerich.walter@enron.com', 'wilson.walter@enron.com', 'hicks.wayland@enron.com', 'bares.william@enron.com', 'furman.william@enron.com', 'cormick.william@enron.com', 'rastetter.william@enron.com', 'jr..william@enron.com', 'aaron.spencer@pizzeriauno.com', '6875742.1075852682097.JavaMail.evans@thyme', 'jcthomas3399@hotmail.com', 'tanzaniasun@yahoo.com', '32693037.1075852682180.JavaMail.evans@thyme', 'Tanzaniasun@yahoo.com', '18049640.1075852682253.JavaMail.evans@thyme', 'jpavone@infrastructureworld.com', '28235654.1075852682276.JavaMail.evans@thyme', 'robert.rosa@enron.com', '29864644.1075852682299.JavaMail.evans@thyme', 'gillian@consensus-research.com', 'sherri.sera@entron.com', 'ann@consensus-research.com.', '27887277.1075852682323.JavaMail.evans@thyme', '13159369.1075852682350.JavaMail.evans@thyme', '12254887.1075852682374.JavaMail.evans@thyme', 'james.wiltfong@enron.com', '10782814.1075852682397.JavaMail.evans@thyme', 'alrapp@san.rr.com', '32824283.1075852682421.JavaMail.evans@thyme', 'mark.broussard@hyprotech.com', 'Mark.Broussard@hyprotech.com', '9312327.1075852682447.JavaMail.evans@thyme', 'zachary.streight@enron.com', '14419880.1075852682472.JavaMail.evans@thyme', 'randi.howard@enron.com', '24829812.1075852682496.JavaMail.evans@thyme', '31740166.1075852682519.JavaMail.evans@thyme', 'dal.communityaffairs@dal.frb.org', 'Dal.CommunityAffairs@dal.frb.org', 'perspectives-off@mail-list.com', 'perspectives-change@mail-list.com', 'Dal.CommunityAffairs@dal.frb.org.', 'hemery@firstunion1.com', 'HEMERY@firstunion1.com', '18195124.1075852682566.JavaMail.evans@thyme', 'jchukayne@jetlease.com', '23916171.1075852682590.JavaMail.evans@thyme', 'sreichhelm@tagaviation.com', 'SReichhelm@tagaviation.com', 'jross@TAGaviation.com', 'gclow@TAGaviation.com', 'pvanderblom@TAGaviation.com', 'phatch@TAGaviation.com', 'moore@TAGaviation.com', '10558649.1075852682613.JavaMail.evans@thyme', '23381611.1075852682637.JavaMail.evans@thyme', 'jeff.dasovich@enron.com', 'lipsen@cisco.com', '18789410.1075852682661.JavaMail.evans@thyme', 'frigap@bschool.unc.edu', 'ethanr@mindspring.com', '12864706.1075852682685.JavaMail.evans@thyme', 'johndonaldson@harvardgroupintl.com', '25922122.1075852682708.JavaMail.evans@thyme', '2365608.1075852682732.JavaMail.evans@thyme', 'richard.black@enron.com', 'rblack@enron.com', '30341155.1075852682756.JavaMail.evans@thyme', 'steve.roeder@enron.com', '17093157.1075852682783.JavaMail.evans@thyme', 'kuebler.mark@enron.com', 'holthouse.mike@enron.com', 'plank.mike@enron.com', '25207459.1075852682811.JavaMail.evans@thyme', 'paulfriga@unc.edu', '3520672.1075852682834.JavaMail.evans@thyme', '15474654.1075852682861.JavaMail.evans@thyme', '2119021.1075852682980.JavaMail.evans@thyme', 'mark.courtney@enron.com', 'c..bland@enron.com', '13149105.1075852683013.JavaMail.evans@thyme', 's..palmer@enron.com', '7527614.1075852683038.JavaMail.evans@thyme', 'Bryson.Hull@reuters.com', '16410421.1075852683063.JavaMail.evans@thyme', '26073994.1075852683086.JavaMail.evans@thyme', 'tlacy@swbanktx.com', '4742007.1075852683110.JavaMail.evans@thyme', '7140675.1075852683133.JavaMail.evans@thyme', 'ufgatortim@aol.com', 'UFGatorTim@aol.com', '22687503.1075852683159.JavaMail.evans@thyme', 'jlove@lockeliddell.com', 'JLove@lockeliddell.com', '29863837.1075852683184.JavaMail.evans@thyme', 'glenn.sloan@enron.com', 'a..davis@enron.com', '5034650.1075852683259.JavaMail.evans@thyme', '26651597.1075852683282.JavaMail.evans@thyme', 'tpullig@firstunion1.com', 'TPULLIG@firstunion1.com', '15285310.1075852683305.JavaMail.evans@thyme', 'jhavila@firstunion1.com', 'JHAVILA@firstunion1.com', '7474422.1075852683329.JavaMail.evans@thyme', '28385817.1075852683353.JavaMail.evans@thyme', 'mamoyer@pacbell.net', '3518930.1075852683377.JavaMail.evans@thyme', 'database@isda.org', 'isda@isda.org', 'bhanlon@isda.org', '730353.1075852683452.JavaMail.evans@thyme', 'rpicciotto@houston.rr.com', '27680186.1075852683480.JavaMail.evans@thyme', 'ken@kdscommunications.com', 'harry.kingerski@enron.com', 'janel.guerrero@enron.com', 'Susan.J.Mara@enron.com', 'Karen.Denne@enron.com', 'Jeff.Dasovich@enron.com', 'Alan.Comnes@enron.com', 'James.D.Steffes@enron.com', 'Paula.Rieker@enron.com', 'Janel.Guerrero@enron.com', 'Leslie.Lawner@enron.com', 'Robert.Frank@enron.com', 'Greg.Whalley@enron.com', 'Mark.Palmer@enron.com', '22245797.1075852683504.JavaMail.evans@thyme', '21638988.1075852683527.JavaMail.evans@thyme', '23541671.1075852683550.JavaMail.evans@thyme', '24558544.1075852683573.JavaMail.evans@thyme', '2396136.1075852683596.JavaMail.evans@thyme', 'g.j.sharman@tm.tue.nl', 'G.J.Sharman@tm.tue.nl', '6555127.1075852683619.JavaMail.evans@thyme', '12824536.1075852683645.JavaMail.evans@thyme', 'jmd@personix.fiserv.com', 'Jmd@personix.fiserv.com', '21868057.1075852683669.JavaMail.evans@thyme', 'audryn@mindspring.com', '14744675.1075852683693.JavaMail.evans@thyme', '14287489.1075852683717.JavaMail.evans@thyme', '14314443.1075852683740.JavaMail.evans@thyme', '31132159.1075852683763.JavaMail.evans@thyme', '23952298.1075852683787.JavaMail.evans@thyme', 'leland.white@energyspectrum.com', '13767726.1075852683810.JavaMail.evans@thyme', '2808180.1075852683834.JavaMail.evans@thyme', 'curly.baca@enron.com', 'fbaca@pdq.net', '19555929.1075852683859.JavaMail.evans@thyme', 'davidcabello@earthlink.net', 'ihenry@hanoverco.com', 'dcabello@questia.com', '10853960.1075852683882.JavaMail.evans@thyme', '20620806.1075852683905.JavaMail.evans@thyme', '23712907.1075852683930.JavaMail.evans@thyme', '16845573.1075852683954.JavaMail.evans@thyme', 'mmfoss@uh.edu', '24806172.1075852683980.JavaMail.evans@thyme', 'ekorey@hbsp.harvard.edu', '3528003.1075852684006.JavaMail.evans@thyme', '4471669.1075852684030.JavaMail.evans@thyme', 'team.capipeline@enron.com', '26981850.1075852684058.JavaMail.evans@thyme', 'e..rosenberg@enron.com', 'rob.bradley@enron.com', '29374081.1075852684081.JavaMail.evans@thyme', 'tmoffet@amsterdampacific.com', 'TMoffet@amsterdampacific.com', 'jskilling@mba1979.hbs.edu', '3836549.1075852684105.JavaMail.evans@thyme', 'alo@techna.com', 'ben@techna.com', '22825705.1075852684129.JavaMail.evans@thyme', 'dave.perrino@enron.com', '3809622.1075852684154.JavaMail.evans@thyme', '6475433.1075852684177.JavaMail.evans@thyme', 'roy.armitage@enron.com', '15595262.1075852684200.JavaMail.evans@thyme', 'tim@techpacific.com', '15904143.1075852684224.JavaMail.evans@thyme', '6329364.1075852684248.JavaMail.evans@thyme', 'holfati@ispheres.com', '10084488.1075852684271.JavaMail.evans@thyme', 'victor.browner@enron.com', '6553862.1075852684295.JavaMail.evans@thyme', 'francois_glemet@mckinsey.com', 'thierry_miremont@mckinsey.com', 'Francois_Glemet@mckinsey.com', 'Thierry_Miremont@mckinsey.com', '25128355.1075852684319.JavaMail.evans@thyme', 'betty.tauzier@enron.com', '16185468.1075852684342.JavaMail.evans@thyme', '3393971.1075852684366.JavaMail.evans@thyme', 'harold.buchanan@enron.com', 'harold.buchanan@sloan.mit.edu', '33503260.1075852684390.JavaMail.evans@thyme', 'lkao@mail.cox.smu.edu', 'LKao@Mail.Cox.SMU.Edu', 'lkao@mail.cox.smu.eduMessage-ID', 'chadhmuir@yahoo.com', 'whalley@enron.com', '17833972.1075852684438.JavaMail.evans@thyme', '27395363.1075852684462.JavaMail.evans@thyme', 'mbruneau@adventis.com', 'koleary@adventis.com', 'MBruneau@adventis.com', 'KOLeary@adventis.com', '33505996.1075852684486.JavaMail.evans@thyme', 'michelle.hargrave@enron.com', '24804563.1075852684518.JavaMail.evans@thyme', 'KHughes@brennanshouston.com', 'fosheed@nuevoenergy.com', 'pcg@gregorycook.com', 'pregan@ermsw.com', 'texastbell@aol.com', 'lynn77327@netscape.net', 'anewburn@mccoyinc.com', 'vmcarthur@carriageservices.com', 'treace@greystar.com', 'cathy.burns@oceanenergy.com', 'christineg@scaltech.com', 'rhenry@valic.com', 'nbraun@trammellcrow.com', 'vivld@yahoo.com', 'sheryl.pressler@chase.com', 'lhooper@spencerstuart.com', '10032094.1075852684542.JavaMail.evans@thyme', '30947380.1075852684595.JavaMail.evans@thyme', 'mhaidar@dditechnologies.com', '5366258.1075852684618.JavaMail.evans@thyme', 'debbie.doyle@enron.com', '29939989.1075852684644.JavaMail.evans@thyme', 'michael.flanigan@enron.com', 'misha.siegel@enron.com', '19136499.1075852684671.JavaMail.evans@thyme', 'kim.frumkin@enron.com', '7912061.1075852684694.JavaMail.evans@thyme', '1810504.1075852684718.JavaMail.evans@thyme', '28829814.1075852684743.JavaMail.evans@thyme', 'Aggies@Enron', 'communityrelations@enron.com', '16694709.1075852684767.JavaMail.evans@thyme', 'pedro_haas@mckinsey.com', 'Pedro_Haas@mckinsey.com', '6656527.1075861570918.JavaMail.evans@thyme', '5776204.1075861570980.JavaMail.evans@thyme', '2646194.1075861571183.JavaMail.evans@thyme', 'evitenewsletter@news.evite.com', 'EviteNewsletter@news.evite.com', '33533809.1075861574366.JavaMail.evans@thyme', '4849830.1075861574770.JavaMail.evans@thyme', '7384347.1075861574793.JavaMail.evans@thyme', '24443943.1075861574815.JavaMail.evans@thyme', 'judgegyro@yahoo.com', 'Judgegyro@yahoo.com', '22453659.1075861574840.JavaMail.evans@thyme', 'Haedicke.@ENRON', '25518372.1075861574873.JavaMail.evans@thyme', '28089839.1075861574897.JavaMail.evans@thyme', '28629676.1075861574921.JavaMail.evans@thyme', '8412502.1075861574945.JavaMail.evans@thyme', '24101789.1075861574968.JavaMail.evans@thyme', 'sms12289@aol.com', '9680301.1075861574991.JavaMail.evans@thyme', '24942363.1075861575016.JavaMail.evans@thyme', '10781149.1075861575039.JavaMail.evans@thyme', 'samuraimai@aol.com', '4851657.1075861575062.JavaMail.evans@thyme', 'eracheff@wwc.com', '4543657.1075861575086.JavaMail.evans@thyme', 'james.f.hughes@conoco.com', 'dunkindona@hotmail.com', 'James.F.Hughes@conoco.com', 'dmkim@post.harvard.edu.', '28925140.1075861575109.JavaMail.evans@thyme', '8228682.1075861575133.JavaMail.evans@thyme', '21653882.1075861575157.JavaMail.evans@thyme', '5441228.1075861575192.JavaMail.evans@thyme', '14892363.1075861575217.JavaMail.evans@thyme', '13450162.1075861575240.JavaMail.evans@thyme', '674959.1075861575263.JavaMail.evans@thyme', '2648669.1075861575287.JavaMail.evans@thyme', '23007536.1075861575311.JavaMail.evans@thyme', 'A@M', '194691.1075861575358.JavaMail.evans@thyme', '17395673.1075861575385.JavaMail.evans@thyme', 'A434P@4', '-4TA434P@-', '5R86P@0FEL', 'M3E0@8V', 'P@-C', 'P@869F96-T', '4@55', 'F5V96YU92P@9', '4@8V', 'W-T86P@4V5R', 'T@4T', '3E0@8V', 'W4@87', 'I8V4@9F', 'C8@9', 'FET960@4W1A', 'V4@82', '9321260.1075861575409.JavaMail.evans@thyme', '30340659.1075861575434.JavaMail.evans@thyme', '8762663.1075861575471.JavaMail.evans@thyme', 'arobertshaw@eyeforenergy.com', '3675061.1075861575608.JavaMail.evans@thyme', '26605092.1075861575643.JavaMail.evans@thyme', '5425609.1075861575669.JavaMail.evans@thyme', 'r-5-728387-3412887-2-6526-us2-7d3e6e54@xmr3.com', 'R-5-728387-3412887-2-6526-US2-7D3E6E54@xmr3.com', 'Maria_Johnston@ypo.org', '20832154.1075861575697.JavaMail.evans@thyme', '8774937918@skytel.com', '19077881.1075861575732.JavaMail.evans@thyme', '18203956.1075861575783.JavaMail.evans@thyme', '4579496.1075861575817.JavaMail.evans@thyme', '27289074.1075861575853.JavaMail.evans@thyme', '25498233.1075861575876.JavaMail.evans@thyme', 'enews@strategy-business.com', 'eNews@strategy-business.com', '25165339.1075861575901.JavaMail.evans@thyme', '245025.1075861575941.JavaMail.evans@thyme', '24504977.1075861575965.JavaMail.evans@thyme', '8054989.1075861575988.JavaMail.evans@thyme', '21634103.1075861576014.JavaMail.evans@thyme', '8548865.1075861576045.JavaMail.evans@thyme', 'avpg@infoline.wtfe.com', '701024.1075861576178.JavaMail.evans@thyme', '24676390.1075861576230.JavaMail.evans@thyme', '3309504.1075861576263.JavaMail.evans@thyme', '23139929.1075861576287.JavaMail.evans@thyme', '16934972.1075861576310.JavaMail.evans@thyme', 'events@forrester.com', 'forrester-forum1@frstrelay001.forrester.com', 'events@FORRESTER.COM', 'FORRESTER-FORUM1@frstrelay001.forrester.com', '17396230.1075861576333.JavaMail.evans@thyme', 'ccox@businesscouncil.com', '13764347.1075861576379.JavaMail.evans@thyme', 'mgweisblatt@yahoo.com', 'rsvphef@yahoo.com', '13130918.1075861576403.JavaMail.evans@thyme', '3844654.1075861576437.JavaMail.evans@thyme', 'president@weforum.org', '24823985.1075861576461.JavaMail.evans@thyme', 'info@eyeforenergy.com', '916742.1075861576485.JavaMail.evans@thyme', 'sdsl768k@yahoo.com', '6201401.1075861576547.JavaMail.evans@thyme', 'Payroll@ENRON', 'group@ENRON', '6895569.1075861576580.JavaMail.evans@thyme', 'MOSE84@yahoo.com', '30385570.1075861576605.JavaMail.evans@thyme', '25383811.1075861576640.JavaMail.evans@thyme', 'asnyirenda@zesco.co.zm', 'santana@enron.com', 'mmetts@enron.com', 'SantanaVJ@state.gov', '22873699.1075861576686.JavaMail.evans@thyme', 'factset@processrequest.com', 'FactSet@processrequest.com', 'dfrankel@factset.c', '5139988.1075861576730.JavaMail.evans@thyme', '18685619.1075861576754.JavaMail.evans@thyme', '13279045.1075861576778.JavaMail.evans@thyme', '10385075.1075861576803.JavaMail.evans@thyme', 'sales@omnijet.com', '25365278.1075861576830.JavaMail.evans@thyme', '5179751.1075861576866.JavaMail.evans@thyme', 'mmeisler@unterberg.com', '18395876.1075861577014.JavaMail.evans@thyme', 'elrod@pdx.com', '8960819.1075861577037.JavaMail.evans@thyme', '12199176.1075861577060.JavaMail.evans@thyme', '13983424.1075861577082.JavaMail.evans@thyme', '4180518.1075861577109.JavaMail.evans@thyme', '32542771.1075861577142.JavaMail.evans@thyme', 'energyforum@listserv.rice.edu', 'jelyons@ALUMNI.RICE.EDU', 'ENERGYFORUM@listserv.rice.edu', 'jelyons@alumni.rice.eduMessage-ID', '31303441.1075861577188.JavaMail.evans@thyme', 'schwabalerts.emailadmin@schwab.com', 'SchwabAlerts.EmailAdmin@schwab.com', 'markskilling@hotmail.com.', '16994854.1075861577211.JavaMail.evans@thyme', 'health.center@enron.com.', '29191917.1075861577270.JavaMail.evans@thyme', '29202651.1075861577293.JavaMail.evans@thyme', 'BWest@enbc.com', 'tim@SWEETSTREET.com', 'rvail@enbc.com', '8295265.1075861577326.JavaMail.evans@thyme', 'Petroleumworldreaders@hotmail.com', 'aveccs@cantv.ne', '33424148.1075861577470.JavaMail.evans@thyme', '24917463.1075861577515.JavaMail.evans@thyme', '28503919.1075861577560.JavaMail.evans@thyme', '8749858.1075861577584.JavaMail.evans@thyme', '23345601.1075861577608.JavaMail.evans@thyme', '17555944.1075861577631.JavaMail.evans@thyme', '18633258.1075861577654.JavaMail.evans@thyme', '5655071.1075861577678.JavaMail.evans@thyme', '18635058.1075861577714.JavaMail.evans@thyme', '2354027.1075861577740.JavaMail.evans@thyme', '3461994.1075861577774.JavaMail.evans@thyme', '2351773.1075861577797.JavaMail.evans@thyme', '32692869.1075861577820.JavaMail.evans@thyme', 'Net@Home2001_-_Tomorrow_it_might_be_too_late', 'Net-atHome@Sigma-Consultants.fr', '24476817.1075861577869.JavaMail.evans@thyme', '4531917.1075861577892.JavaMail.evans@thyme', '32931775.1075861577919.JavaMail.evans@thyme', '3989731.1075861577955.JavaMail.evans@thyme', '13661165.1075861577980.JavaMail.evans@thyme', '23781244.1075861578008.JavaMail.evans@thyme', '24543248.1075861578035.JavaMail.evans@thyme', 'r-8-728387-3559515-2-6560-us2-5236e5b1@xmr3.com', 'R-8-728387-3559515-2-6560-US2-5236E5B1@xmr3.com', '13740691.1075861578153.JavaMail.evans@thyme', '18196397.1075861578176.JavaMail.evans@thyme', '19920181.1075861578238.JavaMail.evans@thyme', '25928865.1075861578273.JavaMail.evans@thyme', '15026136.1075861578296.JavaMail.evans@thyme', 'hartz@zapmedia.com', '13621566.1075861578334.JavaMail.evans@thyme']\n"
     ]
    }
   ],
   "source": [
    "def findUniqueEmail(filename):\n",
    "    import re\n",
    "    inbox = open(filename, 'r')\n",
    "    assert inbox\n",
    "    emailList = []  #initialize\n",
    "\n",
    "    for line in inbox:\n",
    "        emailPattern = re.compile (\"[\\w.-]+@[\\w.-]+\")\n",
    "        hasEmail = emailPattern.search (line)\n",
    "        if hasEmail:\n",
    "            a = hasEmail.start ()\n",
    "            b = hasEmail.end ()\n",
    "            email = line[a:b]\n",
    "            if email not in emailList:\n",
    "                emailList.append(email)       \n",
    "        else:\n",
    "            pass\n",
    "    inbox.close()\n",
    "\n",
    "    print \"Have \"+ str(len(emailList))+ \" email addresses.\"\n",
    "    print emailList\n",
    "\n",
    "findUniqueEmail('skilling-j.inbox')    "
   ]
  },
  {
   "cell_type": "code",
   "execution_count": null,
   "metadata": {
    "collapsed": true
   },
   "outputs": [],
   "source": []
  }
 ],
 "metadata": {
  "kernelspec": {
   "display_name": "Python 2",
   "language": "python",
   "name": "python2"
  },
  "language_info": {
   "codemirror_mode": {
    "name": "ipython",
    "version": 2
   },
   "file_extension": ".py",
   "mimetype": "text/x-python",
   "name": "python",
   "nbconvert_exporter": "python",
   "pygments_lexer": "ipython2",
   "version": "2.7.10"
  }
 },
 "nbformat": 4,
 "nbformat_minor": 0
}
