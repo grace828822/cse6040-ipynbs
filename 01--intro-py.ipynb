{
 "cells": [
  {
   "cell_type": "markdown",
   "metadata": {},
   "source": [
    "# CSE 6040, Fall 2015 [01]: Intro to Python\n",
    "\n",
    "In this class, you will do most of your programming in the [Python](http://python.org) language. It is great for rapid prototyping, yet robust enough for industrial use -- in fact, Python is also one of the 3 main languages in use at Google!\n",
    "\n",
    "> Q: Can you name the other two?\n",
    "\n",
    "It also has extensive library support, meaning a lot of the code you will need day-to-day already exists -- you just need to find it, download it (if necessary), and start using it in your own programs.\n",
    "\n",
    "If you want to impress your computer science friends at a cocktail party, then try to remember that Python\n",
    "* is _interpreted_, rather than compiled;\n",
    "* is _dynamically typed_, rather than statically typed;\n",
    "* supports _automatic garbage collection_, rather than manual memory allocation;\n",
    "* has _functional_ programming constructs, in addition to imperative programming.\n",
    "\n",
    "Enough CS gobbledygook. Let's write some code!\n",
    "\n",
    "> Note: For a different tutorial, refer to the [one included in the Python documentation](https://docs.python.org/2/tutorial/index.html).\n",
    "\n",
    "\n",
    "## Exercise 1: Hello, world!\n",
    "\n",
    "In CS, the first program you write when learning a language is, for some bizarre reason, the one that outputs the phrase, [\"Hello, world!\"](https://en.wikipedia.org/wiki/%22Hello,_World!%22_program)"
   ]
  },
  {
   "cell_type": "code",
   "execution_count": 2,
   "metadata": {
    "collapsed": false
   },
   "outputs": [
    {
     "name": "stdout",
     "output_type": "stream",
     "text": [
      "Hello, world!\n"
     ]
    }
   ],
   "source": [
    "print \"Hello, world!\""
   ]
  },
  {
   "cell_type": "markdown",
   "metadata": {},
   "source": [
    "## Exercise 2: Lists 101\n",
    "\n",
    "The simplest data structure in Python is the basic [list](https://docs.python.org/2/tutorial/introduction.html#lists), which is simply a sequence of values.\n",
    "\n",
    "Given an integer $n$, create a list `X` containing the sequence, ${1, 2, \\ldots, n}$."
   ]
  },
  {
   "cell_type": "code",
   "execution_count": 8,
   "metadata": {
    "collapsed": false
   },
   "outputs": [
    {
     "name": "stdout",
     "output_type": "stream",
     "text": [
      "[1, 2, 3, 4, 5]\n"
     ]
    }
   ],
   "source": [
    "aList = []\n",
    "n = 5\n",
    "for i in range(1,n+1):\n",
    "     aList.append(i)\n",
    "print aList"
   ]
  },
  {
   "cell_type": "markdown",
   "metadata": {},
   "source": [
    "## Exercise 3: Sum the sequence\n",
    "\n",
    "Compute the sum of the sequence `X` created above."
   ]
  },
  {
   "cell_type": "code",
   "execution_count": 15,
   "metadata": {
    "collapsed": false
   },
   "outputs": [
    {
     "name": "stdout",
     "output_type": "stream",
     "text": [
      "Sum of {1,2, ..., 100000000} = 5000000050000000\n"
     ]
    }
   ],
   "source": [
    "n = 100000000\n",
    "X = range(1, n+1) # note the \"+1\"\n",
    "\n",
    "s_analytical = n* (n+1)/2\n",
    "s_computed = sum(X)\n",
    "assert s_computed == s_analytical\n",
    "print (\"Sum of {1,2, ..., %d} = %d\" % (n, s_computed))"
   ]
  },
  {
   "cell_type": "markdown",
   "metadata": {},
   "source": [
    "By the way, here's a neat trick to output typeset mathematics (via $\\LaTeX$), taken from [this StackOverflow post](http://stackoverflow.com/questions/19470796/ipython-notebook-output-latex-or-mathjax).\n",
    "\n",
    "> Note: This trick only works inside an IPython notebook"
   ]
  },
  {
   "cell_type": "code",
   "execution_count": null,
   "metadata": {
    "collapsed": false
   },
   "outputs": [],
   "source": [
    "from IPython.display import Math\n",
    "Math(\"\\\\sum_{i=1}^{%d} i = %d\" % (n, s_computed))"
   ]
  },
  {
   "cell_type": "markdown",
   "metadata": {
    "collapsed": true
   },
   "source": [
    "## Exercise 4: Correctness and efficiency\n",
    "\n",
    "It's probably obvious that one of your main goals is to write _correct_ programs. But another important goal, especially if you want to scale to large data sets, is _efficiency_.\n",
    "\n",
    "Often, efficiency is possible through the use of the right _idioms_. Just like idioms in natural language, programming language idioms are frequent shortcuts for implementing a particular idea.\n",
    "\n",
    "Consider two different ways to carry out the sum of `n` elements: using the `sum()` function, as above, compared to using an explicit loop. You should observe that one is much faster than the other. Why?"
   ]
  },
  {
   "cell_type": "code",
   "execution_count": 10,
   "metadata": {
    "collapsed": false
   },
   "outputs": [
    {
     "data": {
      "text/plain": [
       "15"
      ]
     },
     "execution_count": 10,
     "metadata": {},
     "output_type": "execute_result"
    }
   ],
   "source": [
    "aList = [1,2,3,4,5]\n",
    "def sum_sol1(ListInput):\n",
    "    sum = 0\n",
    "    for i in aList:\n",
    "        sum = sum+i\n",
    "    return sum\n",
    "sum_sol1(aList)"
   ]
  },
  {
   "cell_type": "code",
   "execution_count": 11,
   "metadata": {
    "collapsed": false
   },
   "outputs": [
    {
     "data": {
      "text/plain": [
       "15"
      ]
     },
     "execution_count": 11,
     "metadata": {},
     "output_type": "execute_result"
    }
   ],
   "source": [
    "aList = [1,2,3,4,5]\n",
    "sum(aList)"
   ]
  },
  {
   "cell_type": "code",
   "execution_count": null,
   "metadata": {
    "collapsed": true
   },
   "outputs": [],
   "source": []
  }
 ],
 "metadata": {
  "kernelspec": {
   "display_name": "Python 2",
   "language": "python",
   "name": "python2"
  },
  "language_info": {
   "codemirror_mode": {
    "name": "ipython",
    "version": 2
   },
   "file_extension": ".py",
   "mimetype": "text/x-python",
   "name": "python",
   "nbconvert_exporter": "python",
   "pygments_lexer": "ipython2",
   "version": "2.7.10"
  }
 },
 "nbformat": 4,
 "nbformat_minor": 0
}
