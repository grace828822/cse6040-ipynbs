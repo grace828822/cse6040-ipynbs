{
 "cells": [
  {
   "cell_type": "markdown",
   "metadata": {},
   "source": [
    "# CSE 6040, Fall 2015 [02]: Processing unstructured text\n",
    "\n",
    "Over the next two classes, we will build toward our first computational data mining problem, called the _association rule mining problem_. The basic task is to identify commonly co-occurring items in a series of transactions.\n",
    "\n",
    "We will apply this problem to a corpus of unstructured text. Consequently, this first class will introduce (or review, for some of you) a few essential useful Python tools for this problem:\n",
    "\n",
    "* [Strings](https://docs.python.org/2/tutorial/introduction.html#strings)\n",
    "* [Sets](https://docs.python.org/2/tutorial/datastructures.html#sets)\n",
    "* [Dictionaries](https://docs.python.org/2/tutorial/datastructures.html#dictionaries)\n",
    "* [Regular expressions](https://docs.python.org/2/library/re.html)\n",
    "* [Files](https://docs.python.org/2/tutorial/inputoutput.html#reading-and-writing-files)"
   ]
  },
  {
   "cell_type": "markdown",
   "metadata": {},
   "source": [
    "## 0: Word count\n",
    "\n",
    "Given a fragment of text, represented by a string (possibly including newlines), how many words does it contain?\n",
    "\n",
    "Consider the following two methods to count words in a string. Look at these with a partner."
   ]
  },
  {
   "cell_type": "code",
   "execution_count": 1,
   "metadata": {
    "collapsed": false,
    "scrolled": true
   },
   "outputs": [
    {
     "name": "stdout",
     "output_type": "stream",
     "text": [
      "I wish you'd stop talking.\n",
      "I wish you'd stop prying and trying to find things out.\n",
      "I wish you were dead. No. That was silly and unkind.\n",
      "But I wish you'd stop talking.\n",
      "\n",
      "Word count: Method 1 says 33 words, and Method 2 says 33.\n"
     ]
    }
   ],
   "source": [
    "quote = \"\"\"I wish you'd stop talking.\n",
    "I wish you'd stop prying and trying to find things out.\n",
    "I wish you were dead. No. That was silly and unkind.\n",
    "But I wish you'd stop talking.\"\"\"\n",
    "print (quote)\n",
    "\n",
    "def countWords1 (s):\n",
    "    \"\"\"Counts the number of words in a given input string.\"\"\"\n",
    "    Lines = s.split ('\\n')\n",
    "    count = 0\n",
    "    for line in Lines:\n",
    "        Words_in_line = line.split ()\n",
    "        count = count + len (Words_in_line)\n",
    "    return count\n",
    "\n",
    "def countWords2 (s):\n",
    "    \"\"\"Counts the number of words in a given input string.\"\"\"\n",
    "    return len (quote.split ())\n",
    "\n",
    "count1 = countWords1 (quote)\n",
    "count2 = countWords2 (quote)\n",
    "print (\"\\nWord count: Method 1 says %d words, and Method 2 says %d.\" % (count1, count2))\n",
    "assert count1 == count2"
   ]
  },
  {
   "cell_type": "markdown",
   "metadata": {},
   "source": [
    "> Q: Which would the two of you predict will be better, and why?"
   ]
  },
  {
   "cell_type": "markdown",
   "metadata": {},
   "source": [
    "(Insert your response to the above question(s) here.)"
   ]
  },
  {
   "cell_type": "markdown",
   "metadata": {},
   "source": [
    "> Q: When might these methods _not_ work as expected? With your partner, come up with one example input and write your own word counter, below, that handles that case."
   ]
  },
  {
   "cell_type": "code",
   "execution_count": 8,
   "metadata": {
    "collapsed": false
   },
   "outputs": [
    {
     "name": "stdout",
     "output_type": "stream",
     "text": [
      "I wish you'd stop talking.\n",
      "I wish you'd stop prying and trying to find things out.\n",
      "I wish you were dead. No. That was silly and unkind.\n",
      "But I wish you'd stop talking.\n"
     ]
    },
    {
     "data": {
      "text/plain": [
       "134"
      ]
     },
     "execution_count": 8,
     "metadata": {},
     "output_type": "execute_result"
    }
   ],
   "source": [
    "quote = \"\"\"I wish you'd stop talking.\n",
    "I wish you'd stop prying and trying to find things out.\n",
    "I wish you were dead. No. That was silly and unkind.\n",
    "But I wish you'd stop talking.\"\"\"\n",
    "print (quote)\n",
    "\n",
    "def yourCountWords (s):\n",
    "    count = 0\n",
    "    for line in s:\n",
    "        words = line.split()\n",
    "        for word in words:\n",
    "            count = count +1\n",
    "    return count\n",
    "\n",
    "yourCountWords(quote)\n",
    "# Write some code to test your implementation here as well."
   ]
  },
  {
   "cell_type": "markdown",
   "metadata": {},
   "source": [
    "## 1: Counting unique strings\n",
    "\n",
    "Suppose you are given a Python list of email addresses. Determine the number of _unique_ addresses."
   ]
  },
  {
   "cell_type": "code",
   "execution_count": 9,
   "metadata": {
    "collapsed": false
   },
   "outputs": [
    {
     "name": "stdout",
     "output_type": "stream",
     "text": [
      "['quigbert@cc.gatech.edu', 'dummy@gatech.edu', 'dummy@vuduc.org', 'dummy@gatech.edu', 'hopeful@gatech.edu', 'overworked@gatech.edu', 'quigbert@cc.gatech.edu']\n",
      "\n",
      "'Emails' has 5 unique addresses.\n"
     ]
    }
   ],
   "source": [
    "Emails = ['quigbert@cc.gatech.edu', 'dummy@gatech.edu', 'dummy@vuduc.org', 'dummy@gatech.edu', 'hopeful@gatech.edu', 'overworked@gatech.edu', 'quigbert@cc.gatech.edu']\n",
    "print (Emails)\n",
    "\n",
    "true_answer = 5\n",
    "print (\"\\n'Emails' has %d unique addresses.\" % true_answer)"
   ]
  },
  {
   "cell_type": "markdown",
   "metadata": {},
   "source": [
    "**Method 1.** Let's use a data structure called a _dictionary_, which stores (key, value) pairs."
   ]
  },
  {
   "cell_type": "code",
   "execution_count": 11,
   "metadata": {
    "collapsed": false
   },
   "outputs": [
    {
     "name": "stdout",
     "output_type": "stream",
     "text": [
      "(Method 1 worked!)\n",
      "{'overworked@gatech.edu': 1, 'dummy@vuduc.org': 1, 'hopeful@gatech.edu': 1, 'dummy@gatech.edu': 1, 'quigbert@cc.gatech.edu': 1}\n"
     ]
    }
   ],
   "source": [
    "Dict = {}\n",
    "for email in Emails:\n",
    "    Dict[email] = 1\n",
    "count = len (Dict)\n",
    "assert count == true_answer\n",
    "print (\"(Method 1 worked!)\")\n",
    "print Dict"
   ]
  },
  {
   "cell_type": "markdown",
   "metadata": {},
   "source": [
    "**Method 2.** Let's use a different data structure, called a _set_. It essentially implements a set in the mathematical sense."
   ]
  },
  {
   "cell_type": "code",
   "execution_count": 12,
   "metadata": {
    "collapsed": false
   },
   "outputs": [
    {
     "name": "stdout",
     "output_type": "stream",
     "text": [
      "Method 2 worked!\n",
      "set(['overworked@gatech.edu', 'dummy@vuduc.org', 'hopeful@gatech.edu', 'dummy@gatech.edu', 'quigbert@cc.gatech.edu'])\n"
     ]
    }
   ],
   "source": [
    "UniqueEmails = set (Emails)\n",
    "count = len (UniqueEmails)\n",
    "assert count == true_answer\n",
    "print (\"Method 2 worked!\")\n",
    "print UniqueEmails"
   ]
  },
  {
   "cell_type": "markdown",
   "metadata": {},
   "source": [
    "> Q: So, which method is better, and why? If you think one method is better than another for this problem, for what kinds of problems would you prefer the other method?"
   ]
  },
  {
   "cell_type": "markdown",
   "metadata": {},
   "source": [
    "(Insert your response to the above question(s) here.)"
   ]
  },
  {
   "cell_type": "markdown",
   "metadata": {},
   "source": [
    "## 2: Regular expressions\n",
    "\n",
    "The preceding exercise hints at a general problem of finding specific patterns in text. A handy tool for this problem is Python's _regular expression library_.\n",
    "\n",
    "A _regular expression_ is specially formatted pattern, written as a string. Matching patterns with regular expressions has 3 steps:\n",
    "\n",
    "1. You come up with a pattern to find\n",
    "2. You compile it into a _pattern object_\n",
    "3. You apply the pattern object to a string, to find instances of the pattern within the string\n",
    "\n",
    "It is easiest to see by example. What follows is just a small sample of what is possible with regular expressions in Python; refer to the [regular expression documentation](https://docs.python.org/2/howto/regex.html) for many more examples and details.\n",
    "\n",
    "**Example 1.** The simplest pattern is text that you wish to match exactly. For instance, suppose you wish to find an instance of the word \"impossible\" in a piece of text. Here is a snippet of Python code to do it.\n",
    "\n",
    "> Run this snippet. Try changing the search string and see what happens."
   ]
  },
  {
   "cell_type": "code",
   "execution_count": 17,
   "metadata": {
    "collapsed": false
   },
   "outputs": [
    {
     "name": "stdout",
     "output_type": "stream",
     "text": [
      "Found pattern at position 16\n"
     ]
    }
   ],
   "source": [
    "import re    # Loads the regular expression library\n",
    "\n",
    "p = re.compile (\"impossible\",re.IGNORECASE) \n",
    "m = p.search (\"This mission is Impossible.\")\n",
    "if m == None:\n",
    "    print (\"Not found.\")\n",
    "else:\n",
    "    print (\"Found pattern at position %d\" % m.start ())"
   ]
  },
  {
   "cell_type": "markdown",
   "metadata": {},
   "source": [
    "The variable `m` in the example contains a _match object_ if the pattern is found. You can perform queries against the match object, such as the one illustrated above."
   ]
  },
  {
   "cell_type": "markdown",
   "metadata": {},
   "source": [
    "Beyond exact text, there is a rich syntax for specifying complex patterns.\n",
    "\n",
    "For instance, you can use _character classes_ to match both \"Impossible\" and \"impossible\" using the pattern, \"`[Ii]mpossible`\". That is, the characters in square brackets represent the set of all characters that may match at the given position. As another example, you could match any digit using the character class, \"`[0123456789]`\", or the more compact _range_ notation, \"`[0-9]`\". Thus, the pattern, \"`cat[xyz][0-9]hole`\" would match \"catx3hole\" but neither \"catX3hole\" nor \"catxzhole\".\n",
    "\n",
    "You can also match the _complement_ of a character class set using a caret, \"`^`\", just after the opening square bracket. \"`^`\", is the except! For instance, \"`cat[a-z][^0-9]hole`\" would match \"catx@hole\" but not \"catx3hole\".\n",
    "\n",
    "There are some common character classes, which have additional shortcuts. For instance, the special _escaped_ `d`, or `\\d`, will match _any_ digit. So, to match a 7-digit phone number, you might use the pattern, \"`\\d\\d\\d-\\d\\d\\d\\d`\".\n",
    "\n",
    "Parentheses actually have a special meaning in a regular expression pattern. Therefore, to match an exact parenthesis, you need to prefix it (or _escape_ it) with a backslash, `\\`."
   ]
  },
  {
   "cell_type": "markdown",
   "metadata": {},
   "source": [
    "**Example 2.** For instance, suppose you wish to match a phone number written in the US standard format, like \"(404) 555-1212\". The pattern is a 3-digit area code, surrounded by parentheses, followed by a space, followed by a 7-digit number separated between the third and fourth digits. This pattern can be encoded as the following regular expression pattern:\n",
    "\n",
    "    \\(\\d\\d\\d\\) \\d\\d\\d-\\d\\d\\d\\d\n",
    "    \n",
    "> Try the following example, which demonstrates the phone number matching pattern."
   ]
  },
  {
   "cell_type": "code",
   "execution_count": 18,
   "metadata": {
    "collapsed": false
   },
   "outputs": [
    {
     "data": {
      "text/plain": [
       "'(404) 555-1212'"
      ]
     },
     "execution_count": 18,
     "metadata": {},
     "output_type": "execute_result"
    }
   ],
   "source": [
    "def findPhone1 (s):\n",
    "    \"\"\"Returns the first instance of a phone number in 's', or 'None'.\"\"\"\n",
    "    phonePattern = re.compile (\"\\(\\d\\d\\d\\) \\d\\d\\d-\\d\\d\\d\\d\")\n",
    "    hasPhone = phonePattern.search (s)\n",
    "    if hasPhone:\n",
    "        a = hasPhone.start ()\n",
    "        b = hasPhone.end ()\n",
    "        phone = s[a:b]\n",
    "    else:\n",
    "        phone = None\n",
    "    return phone\n",
    "    \n",
    "message = \"Hi Betty. Give me a ring at (404) 555-1212 when you get a chance.\"\n",
    "findPhone1 (message)"
   ]
  },
  {
   "cell_type": "markdown",
   "metadata": {},
   "source": [
    "**Example 4.** You can make the phone number pattern more robust by allowing _zero or more_ spaces between the area code and the phone number, using the `*` option:"
   ]
  },
  {
   "cell_type": "code",
   "execution_count": 19,
   "metadata": {
    "collapsed": false
   },
   "outputs": [
    {
     "data": {
      "text/plain": [
       "'(404)555-1212'"
      ]
     },
     "execution_count": 19,
     "metadata": {},
     "output_type": "execute_result"
    }
   ],
   "source": [
    "def findPhone2 (s):\n",
    "    \"\"\"Returns the first instance of a phone number in 's', or 'None'.\"\"\"\n",
    "    phonePattern = re.compile (\"\\(\\d\\d\\d\\) *\\d\\d\\d-\\d\\d\\d\\d\")\n",
    "    hasPhone = phonePattern.search (s)\n",
    "    if hasPhone:\n",
    "        a = hasPhone.start ()\n",
    "        b = hasPhone.end ()\n",
    "        phone = s[a:b]\n",
    "    else:\n",
    "        phone = None\n",
    "    return phone\n",
    "\n",
    "findPhone2 (\"Phone: (404)555-1212\")"
   ]
  },
  {
   "cell_type": "markdown",
   "metadata": {},
   "source": [
    "Beyond \"`*`\", other wildcards include \"`+`\" to match one or more, as well as \"`?`\" to match zero or one instances."
   ]
  },
  {
   "cell_type": "markdown",
   "metadata": {},
   "source": [
    "**Example 5.** It's also possible to match alternatives, using the _or_ symbol, `|`. For instance, suppose you wish to recognize either of the words, \"prefix\" or \"suffix\":"
   ]
  },
  {
   "cell_type": "code",
   "execution_count": 20,
   "metadata": {
    "collapsed": false
   },
   "outputs": [],
   "source": [
    "fixFinder = re.compile (\"(pre|suf)fix\")\n",
    "assert fixFinder.search (\"prefix\")\n",
    "assert fixFinder.search (\"suffix\")\n",
    "assert not fixFinder.search (\"infix\")"
   ]
  },
  {
   "cell_type": "markdown",
   "metadata": {},
   "source": [
    "> Q: Apply these technique to our phone number finder. Define a function that can match phone numbers in any of the following forms:\n",
    "\n",
    "* (404) 555-1212\n",
    "* 404-555-1212\n",
    "* 404-5551212\n",
    "* 404555-1212\n",
    "* 4045551212"
   ]
  },
  {
   "cell_type": "code",
   "execution_count": 27,
   "metadata": {
    "collapsed": false
   },
   "outputs": [
    {
     "name": "stdout",
     "output_type": "stream",
     "text": [
      "(404)555-1212\n",
      "(404) 555-1212\n",
      "404-555-1212\n",
      "4045551212\n"
     ]
    }
   ],
   "source": [
    "def yourPhoneFinder (s):\n",
    "    \"\"\"Returns the first instance of a phone number in 's', or 'None'.\"\"\"\n",
    "    # Fix the pattern:\n",
    "    phonePattern = re.compile (\"(\\(| *)\\d\\d\\d(\\)| * )( *|-)\\d\\d\\d( *|-)\\d\\d\\d\\d\")\n",
    "    phonePattern = re.compile (\"\\D*\\d\\d\\d\\D*\\d\\d\\d\\D*\\d\\d\\d\\d\")\n",
    "    hasPhone = phonePattern.search (s)\n",
    "    if hasPhone:\n",
    "        a = hasPhone.start ()\n",
    "        b = hasPhone.end ()\n",
    "        phone = s[a:b]\n",
    "    else:\n",
    "        phone = None\n",
    "    return phone\n",
    "\n",
    "assert yourPhoneFinder (\"(404)555-1212\")\n",
    "assert yourPhoneFinder (\"(404) 555-1212\")\n",
    "assert yourPhoneFinder (\"404-555-1212\")\n",
    "assert yourPhoneFinder (\"4045551212\")\n",
    "\n",
    "print yourPhoneFinder (\"(404)555-1212\")\n",
    "print yourPhoneFinder (\"(404) 555-1212\")\n",
    "print yourPhoneFinder (\"404-555-1212\")\n",
    "print yourPhoneFinder (\"4045551212\")"
   ]
  },
  {
   "cell_type": "markdown",
   "metadata": {},
   "source": [
    "**Example 6.** Another common use-case is matching a string but extracting just a portion of it. For this purpose, you can use _groups_.\n",
    "\n",
    "Consider the simple form of phone numbers, such as \"(404) 555-1212\". Suppose you wish to match a phone number, but then extract just the digits of the area code from the remainder of the number. For instance, for the above you might produce the list, `['404','555-1212']`.\n",
    "\n",
    "You can identify a group inside the pattern by enclosing the subpattern within parentheses, and then using a special syntax to give it a name. The name allows you to refer to the matched substring later on:"
   ]
  },
  {
   "cell_type": "code",
   "execution_count": 29,
   "metadata": {
    "collapsed": false
   },
   "outputs": [
    {
     "data": {
      "text/plain": [
       "['404', '555-1212']"
      ]
     },
     "execution_count": 29,
     "metadata": {},
     "output_type": "execute_result"
    }
   ],
   "source": [
    "def findPhone3 (s):\n",
    "    \"\"\"Returns a the first instance of a phone number in 's', or 'None'.\"\"\"\n",
    "    phonePattern = re.compile (\"\\((?P<areacode>\\d\\d\\d)\\) (?P<number>\\d\\d\\d-\\d\\d\\d\\d)\")\n",
    "    hasPhone = phonePattern.search (s)\n",
    "    if hasPhone:\n",
    "        areacode = hasPhone.group ('areacode')\n",
    "        number = hasPhone.group ('number')\n",
    "        phone = [areacode, number]\n",
    "    else:\n",
    "        phone = None\n",
    "    return phone\n",
    "\n",
    "findPhone3 (message)"
   ]
  },
  {
   "cell_type": "markdown",
   "metadata": {},
   "source": [
    "In the preceding example, the syntax, `(?P<name>xxx)` defines a group named `name` for the subpattern represented abstractly by `xxx`. The example calls the match object's method, `group(\"name\")`, to extract the matching substring."
   ]
  },
  {
   "cell_type": "markdown",
   "metadata": {},
   "source": [
    "**Example 7.** One pitfall with regular expression patterns is that they get messy quickly. The `re.compile()` function takes a special flag, `re.VERBOSE`, which allows you to write regular expressions in a more structured and hopefully also more readable way. In particular, you can insert arbitrary amounts of whitespace as well as comments."
   ]
  },
  {
   "cell_type": "code",
   "execution_count": 30,
   "metadata": {
    "collapsed": false
   },
   "outputs": [
    {
     "data": {
      "text/plain": [
       "['404', '555-1212']"
      ]
     },
     "execution_count": 30,
     "metadata": {},
     "output_type": "execute_result"
    }
   ],
   "source": [
    "def findPhone4 (s):\n",
    "    \"\"\"Returns a the first instance of a phone number in 's', or 'None'.\"\"\"\n",
    "    phonePattern = re.compile (r\"\"\"\n",
    "          # Area code:\n",
    "          \\(\n",
    "            (?P<areacode>\\d\\d\\d)\n",
    "          \\)\n",
    "          # Optional separator (one or more spaces)\n",
    "          \\s*\n",
    "          # Phone number\n",
    "          (?P<number>\\d\\d\\d-\\d\\d\\d\\d)\n",
    "       \"\"\", re.VERBOSE)\n",
    "    hasPhone = phonePattern.search (s)\n",
    "    if hasPhone:\n",
    "        areacode = hasPhone.group ('areacode')\n",
    "        number = hasPhone.group ('number')\n",
    "        phone = [areacode, number]\n",
    "    else:\n",
    "        phone = None\n",
    "    return phone\n",
    "\n",
    "findPhone4 (message)"
   ]
  },
  {
   "cell_type": "markdown",
   "metadata": {},
   "source": [
    "## 3: File I/O\n",
    "\n",
    "Reading from or writing to a file is accomplished through a _file object_.\n",
    "\n",
    "In this example, the file \"skilling-j.inbox\" is a text file containing a bunch of email messages. You should download it if you haven't done so already: [[download]](https://raw.githubusercontent.com/rvuduc/cse6040-ipynbs/master/skilling-j.inbox). (If you are pulling directly from the class notebooks Github repo, this file is included already.)"
   ]
  },
  {
   "cell_type": "markdown",
   "metadata": {},
   "source": [
    "**Example 1.** You can read the entire file into a string by using `open()` to create a file object, and then reading its contents:"
   ]
  },
  {
   "cell_type": "code",
   "execution_count": 31,
   "metadata": {
    "collapsed": false
   },
   "outputs": [
    {
     "name": "stdout",
     "output_type": "stream",
     "text": [
      "Message-ID: <10617394.1075840149224.JavaMail.evans@thyme>\r\n",
      "Date: Wed, 6 Jun 2001 10:46:14 -0700 (PDT)\r\n",
      "From: dorsey@enron.com\r\n",
      "To: jeremy.blachman@enron.com, a..bibi@enron.com, raymond.bowen@enron.com, \r\n",
      "\tlondon.brown@enron.com, rick.buy@enron.com, richard.causey@enron.com, \r\n",
      "\twade.cline@enron.com, david.cox@enron.com, david.delainey@enron.com, \r\n",
      "\tjames.derrick@enron.com, m..elliott@enron.com, jim.fallon@enron.com, \r\n",
      "\tandrew.fastow@enron.com, mark.frevert@enron.com, \r\n",
      "\tben.glisan@enron.com, kevi\n"
     ]
    }
   ],
   "source": [
    "inbox = open ('skilling-j.inbox', 'r') # 'r' = read mode; use 'w' for writing\n",
    "assert inbox # Makes sure it opened OK\n",
    "\n",
    "all_messages = inbox.read ()\n",
    "inbox.close () # Should close a file when you are done\n",
    "\n",
    "# Print first 500 characters\n",
    "print all_messages[0:500]"
   ]
  },
  {
   "cell_type": "markdown",
   "metadata": {},
   "source": [
    "> Q: Do you anticipate any pitfalls in this approach?"
   ]
  },
  {
   "cell_type": "markdown",
   "metadata": {},
   "source": [
    "(Insert your response to the above question(s) here.)"
   ]
  },
  {
   "cell_type": "markdown",
   "metadata": {},
   "source": [
    "**Example 2.** A more memory-efficient way to read a file is to read chunks at a time. For text files, a particularly convenient way is to read the file one line at a time, using a file object's `readline ()` method, or by looping directly over the object. The following example does so in order to count the number of lines in the file."
   ]
  },
  {
   "cell_type": "code",
   "execution_count": 32,
   "metadata": {
    "collapsed": false
   },
   "outputs": [
    {
     "name": "stdout",
     "output_type": "stream",
     "text": [
      "The file has 78170 lines.\n"
     ]
    }
   ],
   "source": [
    "inbox = open ('skilling-j.inbox', 'r') # 'r' = read mode; use 'w' for writing\n",
    "assert inbox # Makes sure it opened OK\n",
    "\n",
    "count = 0\n",
    "for line in inbox: # reads one line at a time\n",
    "    count = count + 1\n",
    "inbox.close ()\n",
    "\n",
    "print (\"The file has %d lines.\" % count)"
   ]
  },
  {
   "cell_type": "markdown",
   "metadata": {},
   "source": [
    "## 4: Putting it all together: Email counter\n",
    "\n",
    "> Q: Using all of the techniques in this lesson, write a Python program that counts the number of _unique_ email addresses that appear in the \"skilling-j.inbox\" input file."
   ]
  },
  {
   "cell_type": "code",
   "execution_count": 43,
   "metadata": {
    "collapsed": false
   },
   "outputs": [
    {
     "name": "stdout",
     "output_type": "stream",
     "text": [
      "Have 2370 email addresses.\n",
      "['evans@thyme', 'dorsey@enron', 'blachman@enron', 'brown@enron', 'cline@enron', 'derrick@enron', 'fastow@enron', 'glisan@enron', 'horton@enron', 'kitchen@enron', 'lay@enron', 'mccarty@enron', 'mcdonald@enron', 'metts@enron', 'pai@enron', 'scrimshaw@enron', 'sherrick@enron', 'skilling@enron', 'whalley@enron', 'dietrich@enron', 'garcia@enron', 'chapman@enron', 'daw@enron', 'stark@enron', 'williamson@enron', 'wells@enron', 'brelsford@enron', 'fisher@enron', 'dalton@enron', 'grow@enron', 'sera@enron', 'danz@enron', 'schiller@enron', 'paxton@enron', 'schoppe@enron', 'burns@enron', 'dodgen@enron', 'moffett@enron', 'rijo@enron', 'armstrong@enron', 'gadade@enron', 'carter@enron', 'bolen@enron', 'bob@enron', 'shankman@enron', 'mashington@enron', 'Enron@ENRON', 'tomskilljr@enron', 'markskilling@hotmail', 'jskilli@enron', 'guessing@enron', 'chairman@enron', 'hall@enron', 'mson@softbank', 'kohmae@work', 'despain@enron', 'Enron@EnronXGate', 'ypo_international@enron', 'dubin@enron', 'gdubin@houstontech', 'amaniar@houstontech', 'mmarolo@houstontech', 'rakesh@snapstream', 'redmond@enron', 'lemmons@enron', 'jmerrow@hbs', 'alder@enron', '@', 'ebiz@enron', 'worldwide@enron', 'Worldwide@ENRON', '@enron', 'kerr@enron', '@ENRON', 'dottie@kerr', 'emery@enron', 'emery@PaineWebber', 'murphy@enron', 'kean@enron', 'frevert@enron', 'ermakfdy@aol', 'ErmakFdy@aol', 'des883781@aol', 'DES883781@aol', 'thopson@nmsslonestar', 'THOPSON@NMSSLONESTAR', 'aalder@enron', 'rosenberg@enron', 'becker@enron', 'dalexander@weingarten', 'becker@sfx', 'bbown@totalsafetyinc', 'alex@brennanshouston', 'sbunting@mccoyinc', 'jcrane@eagleusa', 'delpapa@delpapabud', 'jdiaz@personix', 'lesliedoggett@hotmail', 'jduncan@chartertitle', 'rfleishman@grupotampico', 'sfordham@netversant', 'barbroy@worldnet', 'kgenssler@aol', 'jgraf@valic', 'swwrceo@aol', 'larry_heard@transwestern', 'pwhobby@hobbycomm', 'mholthouse@holthouseinterests', 'bhowell@lodestarlogistics', 'mkhourie@trammellcrow', 'mekuebler@aol', 'wvlarkin@travisintl', 'tlykos@hearthside', 'rpmark5@hotmail', 'fmcguyer@mhinc', 'waltm@wheatstoneinvestments', 'michaelm@morgangroup', 'dmurph56@aol', 'noteware@kaiseral', 'apetrello@nabors', 'remy@prodigy', 'andrews@boxerproperty', 'dsolomon@redstonecompanies', 'garys@sss', 'taylor@taylorwilson', 'wutt@tractebelusa', 'craigeward@aol', 'kwhalen@mccallgroup', 'jspell@weingarten', 'clary@sfx', 'ggonzales@totalsafetyinc', 'khughes@brennanshouston', 'cmiller@brockgroup', 'jreindl@eagleusa', 'carolynt@demontrond', 'juliam@dmcmgmt', 'dskyler@chartertitle', 'garzad@flash', 'rogersamy@nuevoenergy', 'ceburley@fcinc', 'gedgar@academy', 'tconnor@southwestwirerope', 'tina_rando@transwestern', 'julie_mathis@hines', 'vicky@hoganinvestment', 'susanb@ceconet', 'kjohnson@tqcap', 'mcollier@jpkotts', 'jan_levine@travisintl', 'jvaughn@hearthside', 'dstmary@altivia', 'dhuff@mhinc', 'hopeg@wheatstoneinvestments', 'marykloss@compuserve', 'boyd@kaiseral', 'kmartinez@ermsw', 'barbieh@boxerproperty', 'mbabineaux@mikesmithdirect', 'pball@insync', 'dewey@taylorwilson', 'brutledge@tractebelusa', 'dbcagle@swbell', 'dmusslewhite@mccallgroup', 'ehannah@wilsonfg', 'expertfinder@enron', 'coale@enron', 'jeff_skilling@enron', 'bdonovan@gweiss', 'carol_coale@prusec', 'wmaze@bofasecurities', 'hull@reuters', 'PSI_DO_NOT_EMAIL@', 'mson@enron', 'tedhall@longmeadowranch', 'ron_fisher@softbank', 'TedHall@LongMeadowRanch', 'gardner@enron', 'beth@cockspuroffice', 'georgejr@ix', 'mnlovett@mail', 'robert_duncan@transwestern', 'vidal@martinez', 'edouglas@ghcf', 'Beth@cockspuroffice', 'baxter@enron', 'bowen@enron', 'causey@enron', 'delainey@enron', 'elliott@enron', 'koenig@enron', 'lavorato@enron', 'mcconnell@enron', 'mcmahon@enron', 'muller@enron', 'westbrook@enron', 'harris@enron', 'mccurley@enron', 'dias@enron', 'blackwood@enron', 'hillis@enron', 'dick@enron', 'ferrari@enron', 'adams@enron', 'marshall@enron', 'ECT@ENRON', 'Garcia@Enron', 'pak@enron', 'samuel_pak@enron', 'Skilling@enron', 'corolla@enron', 'thornton@enron', 'pearce@enron', 'Enron@Enron', 'rothenberg@enron', 'jskilli@ei', 'aronoff@enron', 'troach@greylock', 'troach@Greylock', 'kcompton@kpcb', 'ginam@austinventures', 'compton@enron', 'jward@kpcb', 'darnoff@greylock', 'moore@enron', 'administrator@houstontech', 'Administrator@houstontech', 'connell@enron', 'energynews@peach', 'ENERGYNEWS@PEACH', 'moconnell@eyeforenergy', 'melissa@sgpr', 'alkhayat@enron', 'adler@enron', 'ENRON@enronXgate', 'neely@enron', 'rneely@valuescience', 'Rneely@valuescience', 'menchaca@enron', 'bibi@enron', 'john_pinto@enron', 'pinto@reckittbenckiser', 'Pinto@reckittbenckiser', 'hughes@enron', 'hannon@enron', 'Skilling@ENRON', 'Sera@ENRON', 'ECT@ECT', 'stanmarek@enron', 'Horton@enron', 'ENRON@eott', 'ECT@EOTT', 'EES@EOTT', 'Enron_Communications@EOTT', 'Enron@EOTT', 'duncan@enron', 'Transwestern@Transwestern', 'troup@enron', 'phytrpilot@enron', 'farrell@enron', 'FARRELL@enron', 'mani@enron', 'Williamson@enron', 'ward@enron', 'schwarz@enron', 'curry@enron', 'maynard@enron', 'lipshutz@enron', 'simoes@enron', 'EES@EES', 'hayslett@enron', 'morris@enron', 'larimore@enron', 'Larimore@lehman', 'dcmorris@lehman', 'trent@enron', '2001@enron', 'jaisinghani@enron', 'fleming@enron', 'valencia@enron', 'ivers@enron', 'announcement@enron', 'report@enron', 'Report@ENRON', 'action@enron', 'houston@enron', 'Houston@ENRON', 'dsquareb@msn', 'Hoopitup@Texas', 'EIA@enron', 'evite@enron', 'donaldson@enron', 'kobierowski@enron', 'dkobierowski@forrester', 'DKobierowski@Forrester', 'piper@enron', '2001@compaq', '2001@COMPAQ', 'david_k_smith@reliantenergy', 'bertotti@txh', 'David_K_Smith@reliantenergy', 'steinhagen@enron', 'rnstnhgn@earthlink', 'galtney@galtney', 'keith@gammaconst', 'tsimmons@spencerstuart', 'jcoskey@swbell', 'picciotto@enron', 'iyer@enron', 'steve_iyer@enron', 'help@enron', 'madness@enron', 'downtown@enron', 'Downtown@ENRON', 'craig_estes@enron', 'askypo@ypo', 'oxer@enron', 'humphrey@enron', 'lafuze@enron', 'walls@enron', 'aust@enron', 'otis@dicarta', 'scott@enron', 'kevinscott@onlinemailbox', 'diane@enron', 'houston_members@ypo', 'Houston_Members@ypo', 'jones@enron', 'duffey@enron', 'long@enron', 'tilney@enron', 'agapefndg@enron', 'Agapefndg@aol', 'bartlett@enron', 'mwozny@hbs', 'hoffman@ca', 'connolly@enron', 'rcampos@eldoradocorp', 'eximenez@smith', 'shapiro@enron', 'ganjoo@enron', 'leff@enron', 'Williamson@ENRON', 'strong@enron', 'vakharia@enron', 'buy@enron', 'hudson@enron', 'vargas@enron', 'shepperd@enron', 'nicholie@enron', 'savala@enron', 'baker@enron', 'lamb@enron', 'lydecker@enron', 'kopper@enron', 'shannon@enron', 'gorte@enron', 'DeSpain@ECT', 'team@enron', 'ford@enron', 'howes@enron', 'almoina@enron', 'robles@enron', 'legier@enron', 'reese@enron', 'guidry@enron', 'sparks@enron', 'romero@enron', 'smith@enron', 'jernigan@enron', 'rebhorn@enron', 'perez@enron', 'apasu@enron', 'mcgaughy@enron', 'posway@enron', 'mitcham@enron', 'morse@enron', 'stevens@enron', 'le@enron', 'begley@enron', 'willimon@enron', 'pendergrass@enron', 'espey@enron', 'mack@enron', 'wolfe@enron', 'brady@enron', 'straight@enron', 'mendel@enron', 'christiansen@enron', 'evans@enron', 'keepers@enron', 'klide@enron', 'gittelson@enron', 'sharp@enron', '2000@enron', 'failde@enron', 'paul@ati', 'russo1@jsc', 'Eric_Salo@macerich', 'aschwarz@enron', 'Arthur_Coppola@macerich', 'doctoridea@enron', 'tholan@enron', 'Tholan@enron', 'doctoridea@msn', 'krumm@tamu', 'billy@enron', 'jeff_hines@enron', 'ios@usa', 'legal@enron', 'denne@enron', 'palmer@enron', 'mendonsa@enron', 'brian@enron', 'taylor@enron', 'bcabanas@benchmarkmanagement', 'ecockrel@cockrell', 'nelson@healthlink', 'jim@groundzero', 'kkurtzman@ashford', 'llittle@capstarpartners', 'mlicata@lrmlaw', 'mwallace@texaschildrenshospital', 'mquass@earthlink', 'mjhin@sleh', 'plank@speedshore', 'arissal@parkwayinvestments', 'pstone999@hotmail', 'rayc@pointecom', 'rmosbacher@compuserve', 'rodc@insource', 'shicks@capstarpartners', 'wgolinkin@norwoodaustin', 'Taylor@BeAnOrange', 'james@enron', 'terrie_james@enron', 'ciscon@enron', 'Communications@Enron', 'larry_ciscon@enron', 'whipple@enron', 'gwhipple@us', 'gordon@enron', 'rice@enron', 'olson@enron', 'oxley@enron', 'bosien@enron', 'mcvicker@enron', 'owens@enron', 'urquhart@enron', 'guttroff@enron', 'godbold@enron', 'piatigorsky@enron', 'veronicapiatigorsky@economist', 'mauboussin@enron', 'morgan@enron', 'MichaelM@morgangroup', 'Sera@enron', 'mauboussin@csfb', 'bailey@enron', 'mcpherson@enron', 'mail@enron', 'Mail@ENRON', 'cgonzalez@eldoradocorp', 'fitzgerald@enron', 'abre@brecoholdings', 'mclane@enron', 'jeffskilling@enron', 'maronge@enron', 'dauterive@enron', 'sheehan@enron', 'ken_rice@enron', 'willamson@enron', 'Assistantmsheehan@adventis', 'ann_rubin@enron', 'awano@21stenergy', 'hashitani@jp', 'tdecone@worldnet', 'ann_rubin@sonyusa', 'santillan@enron', 'santillan@redherring', 'Bernadette@redherring', 'bernadette@redherring', 'dennison@enron', 'mdennison@sdlintl', 'de@enron', 'dweekley@dwhomes', 'abreco@ix', 'adeleon@lionforce', 'bfaith@greystar', 'doubleoranch@aol', 'tdfriedkin@fcine', 'dmurphy56@aol', 'george@demontrond', 'jackd@dmcmgmt', 'flores@oceanenergy', 'mduffey@carriageservices', 'mawallace@texaschildrenshospital', 'msmith@mikesmithdirect', 'phawk@teamindustrialservices', 'smarnoy@ophouston', 'blake@hoganinvestment', 'bruceh@ceconet', 'craigl_77@yahoo', 'brucesmith@pagenetips', 'alert@msn', 'seeligson@enron', 'cox@enron', 'Fitzgerald@ECT', 'andy@netconversions', 'rodriquez@enron', 'manfredonia@enron', 'manfred@bellatlantic', 'Lay@enron', 'kimberly@enron', 'terraso@enron', 'ghosh@enron', 'Skilling@Enron', 'institute@enron', 'friendsofthemilkeninstitute@milkeninstitute', 'FriendsoftheMilkenInstitute@milkeninstitute', 'info@milkeninstitute', 'christodoulou@enron', 'angirasa@enron', 'weeklecd@enron', 'weekley@vanderbilt', 'giridharadas@enron', 'sgiridha@prismintl', 'semaan@enron', 'Georgette@hawkespeers', 'clark@enron', 'croozin@wireweb', 'pdifonzo@nbutexas', 'devine@usaa', 'jldavis@txi', 'heitkamp@chase', 'cteeter@capitalwest', 'seguinmotorco@email', 'sales@gvtc', 'bhammond@tabcc', 'ctkrier@co', 'kuempel@house', 'dl2329@txmail', 'info@perrymangroup', 'brammer@cpa', 'wentworth@senate', 'zaffirini@senate', 'security@enron', 'SAP_security@enron', 'tonya@tonya', 'camps@kidventurecamp', 'connections@newpower', 'parthasg@enron', 'bkirby@adventis', 'Rice@enron', 'january@enron', 'glidewell@enron', 'pmurphy@swbanktx', 'davis@enron', 'donahue@enron', 'kalmans@enron', 'shanbhogue@enron', 'thode@enron', 'bmoore@enron', 'tmullins@tmanage', 'kriegel@enron', 'EHarris@insightpartners', 'publisher@enron', 'lippinicott_will@strategy', 'weidman@enron', 'w@mindspring', 'mmmmisha@enron', 'customerservice@shutterfly', 'spar@enron', 'sspar@esxengineering', 'marmol@enron', 'gibbons@enron', 'dgibbons@cera', 'info@cera', 'gmarmol@gmarmol', 'parra@enron', 'rose@enron', 'abraham@enron', 'belden@enron', 'bradford@enron', 'cummings@enron', 'diamond@enron', 'fallon@enron', 'forster@enron', 'garner@enron', 'gosalia@enron', 'harbert@enron', 'jafry@enron', 'lewis@enron', 'mcclellan@enron', 'moorer@enron', 'nowlan@enron', 'philipp@enron', 'puthigai@enron', 'raghavan@enron', 'rieker@enron', 'rostant@enron', 'segura@enron', 'shults@enron', 'spiller@enron', 'zipper@enron', 'perfmgmt@enron', 'enquiries@enron', 'gerbert@enron', 'lundstrom@enron', 'gurunath@enron', 'katwala@enron', 'mogal@enron', 'johnston@enron', 'reinartz@enron', 'mulligan@enron', 'wilson@enron', 'hoelscher@enron', 'sommers@enron', 'tyagi@enron', 'zaayman@enron', 'mehta@enron', 'berger@enron', 'Lay@ENRON', 'hosea@enron', 'RonnieM@morgangroup', 'amosconi@enron', 'marc_graubart@enron', 'seidmanconsult@enron', 'Seidmanconsult@aol', '2832c3ce@aol', 'kevin@enron', 'zurbrick@enron', 'gray@enron', 'weithman@enron', 'nethercutt@enron', 'pfrison@houstontech', 'ghancock@houstontech', 'lmoore@houstontech', 'knethercutt@houstontech', 'shwab@enron', 'safety@enron', 'edwards@enron', 'turnipseed@enron', 'hrach@enron', 'parquet@enron', 'mbkuntz@enron', 'judyaspen@aol', 'dcruse@spencerstuart', 'DCruse@SpencerStuart', 'tore_myrholt@mckinsey', 'Tore_Myrholt@mckinsey', 'gbarton@bartona', 'GBarton@Bartona', 'racicot@enron', 'amit_990in@yahoo', 'mcgregor@enron', 'dubin@houstontech', 'info@tie', 'akretz@glasgowmedicalcenter', 'udgegyro@yahoo', 'thompson@chase', 'betas@yahoogroups', 'JRichichi@Christianacare', 'RHess@Christianacare', 'BDahllof@Christianacare', 'LMacDonald@Christianacare', 'BBolton@Christianacare', 'jimrosa@ix', 'unsubscribe@egroups', 'address@enron', 'Relations@ENRON', 'kishkill@enron', 'rkarakay@danonetr', 'rkarakay@DANONETR', 'servat@enron', 'Servat@Enron', 'sherriff@enron', 'Owens@ees', 'ochambe@cisco', 'kdenne@enron', 'maktay@superonline', 'peters@enron', 'postoffice@bluemountain', 'price@enron', 'dyson@enron', 'hodges@enron', 'presto@enron', 'colwell@enron', 'luong@enron', 'apollo@enron', 'clay@dfj', 'starwoodmbrs@spg', 'newsletter@esxengineering', 'newsletter@esxEngineering', 'newsletter@esxen', 'hickey@enron', 'brooks@enron', 'garland@enron', 'meyer@enron', 'arnold@enron', 'Haedicke@ENRON', 'mendez@enron', 'gillette@enron', 'rwsiii@ibpcorp', 'warner@enron', 'campbell@enron', 'Mbkuntz@aol', 'Action@ENRON', 'Wild@Work', 'mpharms@ect', 'lkeys@houstongrandopera', 'jimyang@vergenet', 'cberthelsen@sfchronicle', 'brackett@enron', 'bridges@enron', 'cannon@enron', 'deluca@enron', 'denny@enron', 'eichmann@enron', 'goddard@enron', 'haedicke@enron', 'hermans@enron', 'hirl@enron', 'sweitzer@enron', 'thomas@enron', 'kaminski@enron', 'port@enron', 'eSource@ENRON', 'ethink@enron', 'estrada@enron', 'hawkins@enron', 'johnson@enron', 'phillips@enron', 'Sherriff@ENRON', 'prichard@cal', 'service@sbsubscriber', 'skilli@ei', '982d4478@xmr3', '982D4478@xmr3', 'craigl@hypercon', 'david_Weekley@DWHOMES', 'jpm1@pdq', 'slc1856@sunflower', 'rwebb@bdagov', 'currin@us', 'eckels@enron', 'skilli@enron', 'bruno@eyeforenergy', 'nergynews@peach', 'bruno@EYEFORENERGY', 'NERGYNEWS@PEACH', 'james@hakluyt', 'craig@hakluyt', 'tomskilljr@aol', 'arkskilling@hotmail', 'TOMSKILLJR@aol', 'patrick@enron', 'Patrick@enron', 'Delacey@enron', 'daily@restructuringtoday', 'aily@restructuringtoday', 'cliftonh@summitia', 'CliftonH@SummitIA', 'dministrator@houstontech', 'dmin@houstontech', 'geoffmoore@chasmgroup', '1029@m2', 'butler@enron', 'Investinme@ENRON', 'traylor@enron', 'lockhart@enron', 'cronin@enron', 'magruder@enron', 'wyatt@enron', 'Henderson@ENRON', 'emery@ubspainewebber', 'pullig@ubspainewebber', 'svarga@kudlow', 'varga@kudlow', 'eldorlaw@aol', 'Eldorlaw@aol', 'holmes@enron', 'Mara@ENRON', 'pany@Exchange', 'S@EES', 'T@ECT', '@EES', 'ES@EES', 'y@enron', 'MENT@ENRON_DEVELOPMENT', 'Company@Exchange', 'CT@ECT', 'ENRON_DEVELOPMENT@ENRON_DEVELOPMENT', 'psmith3@enron', 'jontra@ivp', 'tra@ivp', 'msheehan@adventis', 'MSheehan@adventis', 'khuber@hcmwealth', 'kathy@loudcloud', 'eff_skilling@enron', 'June22Luncheon@loudcloud', 'celemi@excelcomm', 'schulmeyer@sc', 'Schulmeyer@sc', 'eric@jensenmotorsport', 'brown@eds', 'tallen@mclarty', 'briggs@enron', 'thorn@enron', 'keene@mac', 'allday@elpaso', 'keene@MAC', 'jelyons@alumni', 'katieh@rice', 'leboe@enron', 'dmusslewhite@sterlingmccalltoyota', 'DMusslewhite@sterlingmccalltoyota', 'breco@ix', 'fran@zembu', 'duran@enron', 'gold@enron', 'sunde@enron', 'pieper@enron', 'inglis@enron', 'petroleumworldnews1@hotmail', 'uscriberspetroleumworld@hotmail', 'editor@petroleumworld', 'List@ENRON', 'abel@enron', 'schultz@enron', 'hudler@enron', 'medcalf@enron', 'skruch@reddotsolutions', 'Skruch@reddotsolutions', 'kogut@dowjones', 'Kogut@dowjones', 'keane@enron', 'Announcement@ENRON', 'jon@jonfriedberg', 'Jon@JonFriedberg', 'heath@idealab', '1746heaths@mail', 'morris@lehman', 'larimore@lehman', 'Morris@lehman', 'fwb@umich', 'robrogowski@yahoo', 'effrey_skilling@enron', 'effrey@enron', 'effrey_Skilling@enron', 'ROBROGOWSKI@YAHOO', 'tblaw@aol', 'ximenez@smith', 'schwartz@enron', 'souza@enron', 'wiggs@enron', 'bailey@veritas', 'Bailey@veritas', 'cbailey@veritas', 'generalinfo@marketing', 'cribe_me@marketing', 'oberg@enron', 'keeble@enron', 'odenthal@enron', 'woods@enron', 'smilenova@enron', 'ginsback@enron', 'rmakfdy@aol', 'rmakFdy@aol', 'Center@ENRON', 'Advise@ENRON', 'hotline@enron', '6ff3b621@xmr3', '6FF3B621@xmr3', 'white@enron', 'heathman@enron', 'aden@enron', 'campos@enron', 'milnthorp@enron', 'lynch@enron', 'barnard@enron', 'yowman@enron', 'ECT@EES', 'Chapman@EES', 'ibuyit@enron', 'kstewart@ctcua', 'hosman@eskridge', 'jdent@mmcable', 'camdenway@aol', 'petroleumworldnews11@hotmail', 'petroleumworldreaders@hotmail', '@leydehidrocarburos', 'japarra@mem', 'eia@enron', 'office@enron', 'fatimapr@softcom', 'coraliegraham@softcom', 'AT@T', 'thibodeaux@enron', 'baumbach@enron', 'hagelmann@enron', 'hayden@enron', 'jordan@enron', 'kelly@enron', 'patton@enron', 'swinney@enron', 'ddelain2@enron', 'jansson@mindspring', 'craig_shackleton@amat', 'Security@ENRON', 'Derrick@ENRON', 'Benefits@ENRON', 'Group@ENRON', 'Wellness@ENRON', 'wellness@enron', 'williamhjordan@mindspring', 'WilliamHJordan@mindspring', 'shackleton@austin', 'bruno@firstconf', 'energynews@fc', 'bruno@FIRSTCONF', 'ENERGYNEWS@FC', 'mquoirin@eyeforenergy', 'request@peach', 'bpaddock@ghcf', 'barry@enron', 'daina@enron', 'william@enron', 'bmorris@ghcf', '1990bpaddock@ghcf', 'bensons3@airmail', 'elvisthompson@aol', 'Chairman@ENRON', 'America@ENRON', 'golden@dowjones', 'Golden@dowjones', 'Board@ENRON', 'fredinvt@juno', 'FredinVt@juno', 'pastorhess@hotmail', 'boethia@hotmail', 'karengoofy@hotmail', 'RhondaKayeM@aol', 'caseybraves@hotmail', 'Ken_Pam@excite', 'dsewell_2000@yahoo', 'Campbell_GSC@hotmail', 'JSCHappyFace@hotmail', 'rainbowstamping@hotmail', 'circe_rowan@yahoo', 'LoveMonkee75@hotmail', 'csleggrich@hotmail', 'Runky_Rae89@hotmail', 'tylerkhukill@hotmail', 'stevens8063@earthlink', 'paul@wiseshops', 'Paul@A', 'jamie@shbc', 'randall@gfsmiami', 'hema@izhuta', 'Hema@Izhuta', 'harvardclub@kerr', '@petroleumworld', 'onagas@', 'zilker@enron', 'bowne@customersat', 'pwm1950@aol', 'handshohl@eudoramail', 'chohl@c21executive', 'jstorthz@swbell', 'jglass@northelginteleport', '_corolla@response', 'justinloweth@yahoo', 'vmcarthur@plainsresources', 'plink@enron', 'mvaughan@forrester', 'john@pgsenergy', 'hbrunette@earthlink', 'joeparks@parksbros', 'paul@rssmb', 'dfullert@nmh', 'sharp@smogobx', 'miller@advlaser', 'steve@enron', 'billw@wedgegroup', 'dmallory@ftenergy', 'electricatlas01@listserv', 'DMallory@FTENERGY', 'ELECTRICATLAS01@LISTSERV', 'custserv@ftenergy', 'info@icansp', 'info@iCanSP', 'wallace@enron', 'Technology@ENRON', 'lastname@enron', 'Administration@enron', 'mweisblatt@yahoo', 'crawford@dfpllc', 'Lwomack@commercesecurities', 'scott@cristventures', 'news@real', 'deanrodgers@kaseco', 'kase@kaseco', 'support@evite', 'georgette@hawkespeers', '@ley', 'nancyperez@canch', 'lgaertner@evansgrp', 'billymont@aol', 'wilson@mpingo', 'jennifersmith@kaseco', 'enron@enron', '9cb39b5d@xmr3', '9CB39B5D@xmr3', 'officeofthechairman2@enron', 'OfficeoftheChairman2@ENRON', 'votaw@enron', '01@ftenergy', 'plattsnews@list1', '01@FTENERGY', 'PLATTSNEWS@LIST1', 'info@votenet', 'mack@votenet', 'ambrocik@enron', 'aucoin@enron', 'balmaceda@enron', 'barschkis@enron', 'beltri@enron', 'bundscho@enron', 'burgess@enron', 'caldwell@enron', 'cassel@enron', 'charania@enron', 'chen@enron', 'conner@enron', 'couch@enron', 'critchfield@enron', 'dahlke@enron', 'dhansinghani@enron', 'diebner@enron', 'engberg@enron', 'farooqi@enron', 'fogherty@enron', 'fortney@enron', 'frihart@enron', 'giddings@enron', 'guerrero@enron', 'hendon@enron', 'hill@enron', 'hull@enron', 'kefalas@enron', 'khanijo@enron', 'kinsella@enron', 'krcha@enron', 'lakes@enron', 'langfeldt@enron', 'larkin@enron', 'lockman@enron', 'majorwitz@enron', 'martin@enron', 'mcculloch@enron', 'mends@enron', 'miles@enron', 'moth@enron', 'oliveira@enron', 'osire@enron', 'pehlivanova@enron', 'petersen@enron', 'pham@enron', 'potter@enron', 'psenda@enron', 'ramakotti@enron', 'santucci@enron', 'shimelis@enron', 'solis@enron', 'tartakovski@enron', 'tudor@enron', 'wong@enron', 'wright@enron', 'flanagan@enron', 'bardal@enron', 'behney@enron', 'breslau@enron', 'bruce@enron', 'chew@enron', 'cisneros@enron', 'cocks@enron', 'daniel@enron', 'dunnett@enron', 'essig@enron', 'figueroa@enron', 'frank@enron', 'funk@enron', 'gaskill@enron', 'germany@enron', 'glaas@enron', 'gramlich@enron', 'henriquez@enron', 'hoang@enron', 'irvin@enron', 'jiang@enron', 'kowdrysh@enron', 'landry@enron', 'reves@enron', 'richter@enron', 'rodriguez@enron', 'rudy@enron', 'sargent@enron', 'snyder@enron', 'steinbrueck@enron', 'tiner@enron', 'vaughan@enron', 'wax@enron', 'wesneske@enron', 'whitman@enron', 'xtrain01@enron', 'xtrain04@enron', 'xtrain07@enron', 'xtrain10@enron', 'aguilar@enron', 'anderson@enron', 'berberian@enron', 'castagnola@enron', 'collins@enron', 'crelin@enron', 'davies@enron', 'delage@enron', 'lebroc@enron', 'lehouillier@enron', 'luttrell@enron', 'mansfield@enron', 'mcmillian@enron', 'mitchell@enron', 'moses@enron', 'muzzy@enron', 'hare@enron', 'paipanandiker@enron', 'reister@enron', 'rondeau@enron', 'seigle@enron', 'slagle@enron', 'sonneborn@enron', 'southard@enron', 'sprowls@enron', 'story@enron', 'supatgiat@enron', 'torres@enron', 'training@enron', 'unger@enron', 'viejou@enron', 'walker@enron', 'watts@enron', 'wilkinson@enron', 'winfrey@enron', 'yoder@enron', 'easterby@enron', 'falcone@enron', 'fraylon@enron', 'furey@enron', 'graham@enron', 'hardy@enron', 'henson@enron', 'hyslop@enron', 'kang@enron', 'kendrick@enron', 'khandker@enron', 'krishnamurthy@enron', 'lisk@enron', 'loosley@enron', 'maxwell@enron', 'mccaffrey@enron', 'mccauley@enron', 'mcnair@enron', 'miller@enron', 'muthucumarana@enron', 'nelson@enron', 'nicholls@enron', 'oliver@enron', 'perlingiere@enron', 'presley@enron', 'quigley@enron', 'ricafrente@enron', 'adamo@enron', 'betzer@enron', 'breen@enron', 'chilkina@enron', 'escobar@enron', 'hernandez@enron', 'howley@enron', 'kanouff@enron', 'lenci@enron', 'mclaughlin@enron', 'metoyer@enron', 'navarro@enron', 'nguyen@enron', 'ray@enron', 'sacks@enron', 'salcido@enron', 'saucier@enron', 'schield@enron', 'scholtes@enron', 'showers@enron', 'stephens@enron', 'sutton@enron', 'teague@enron', 'umbower@enron', 'vitrella@enron', 'wile@enron', 'arana@enron', 'babbar@enron', 'brazaitis@enron', 'bui@enron', 'carlson@enron', 'cernosek@enron', 'chapa@enron', 'dayvault@enron', 'dunbar@enron', 'emesih@enron', 'fortunov@enron', 'george@enron', 'gilbert@enron', 'gonzales@enron', 'grant@enron', 'guo@enron', 'hickerson@enron', 'hoogendoorn@enron', 'huan@enron', 'justice@enron', 'kettenbrink@enron', 'kudhail@enron', 'landau@enron', 'lind@enron', 'mitro@enron', 'prejean@enron', 'qavi@enron', 'shaw@enron', 'simpson@enron', 'tow@enron', 'wallumrod@enron', 'webb@enron', 'willis@enron', 'alon@enron', 'benjelloun@enron', 'uejbe@enron', 'dunton@enron', 'greig@enron', 'hendrickson@enron', 'jathanna@enron', 'kroll@enron', 'lindley@enron', 'loh@enron', 'lynn@enron', 'maltz@enron', 'mccumber@enron', 'mendoza@enron', 'monroy@enron', 'nemec@enron', 'ogunbunmi@enron', 'padavala@enron', 'pentakota@enron', 'rivas@enron', 'saluja@enron', 'schockling@enron', 'shively@enron', 'steagall@enron', 'subramaniam@enron', 'tripp@enron', 'woloszyn@enron', 'yu@enron', 'allison@enron', 'alvar@enron', 'bagwell@enron', 'batist@enron', 'bennett@enron', 'brysch@enron', 'casas@enron', 'chismar@enron', 'choe@enron', 'cobb@enron', 'coyle@enron', 'cutaia@enron', 'day@enron', 'doan@enron', 'espinoza@enron', 'fayett@enron', 'fischer@enron', 'fraser@enron', 'gamblin@enron', 'grass@enron', 'gualy@enron', 'harding@enron', 'heinlen@enron', 'henderlong@enron', 'homco@enron', 'huff@enron', 'hunter@enron', 'husain@enron', 'jacobsen@enron', 'jessop@enron', 'kaniss@enron', 'kilgo@enron', 'kinser@enron', 'kratzer@enron', 'lee@enron', 'leo@enron', 'lieskovsky@enron', 'massey@enron', 'mills@enron', 'munoz@enron', 'nieten@enron', 'parker@enron', 'patterson@enron', 'petri@enron', 'rangel@enron', 'reitmeyer@enron', 'robertson@enron', 'royed@enron', 'sarnowski@enron', 'bhagat@enron', 'croucher@enron', 'goebel@enron', 'morehead@enron', 'rockwell@enron', 'wang@enron', 'Honore@ENRON', 'bill@enron', 'dave@enron', 'jim@enron', 'kathryn@enron', 'paul@enron', 'peter@enron', 'tracy@enron', 'la@enron', 'link@enron', 'malik@enron', 'martinez@enron', 'may@enron', 'mcomber@enron', 'newsome@enron', 'payne@enron', 'pursifull@enron', 'rainbow@enron', 'regan@enron', 'richardson@enron', 'rivera@enron', 'rorschach@enron', 'ruiz@enron', 'santikos@enron', 'sepulveda@enron', 'sheedy@enron', 'stewart@enron', 'teel@enron', 'thatcher@enron', 'uhl@enron', 'vanek@enron', 'vincent@enron', 'wade@enron', 'weir@enron', 'wilhite@enron', 'williams@enron', 'wynn@enron', 'adleman@enron', 'allario@enron', 'alviar@enron', 'atwood@enron', 'avila@enron', 'boals@enron', 'bonner@enron', 'bowes@enron', 'brand@enron', 'bryant@enron', 'buerger@enron', 'calzoncit@enron', 'capasso@enron', 'chavez@enron', 'coleman@enron', 'cornett@enron', 'cutler@enron', 'danielson@enron', 'delacey@enron', 'denetsosie@enron', 'draper@enron', 'farrar@enron', 'fitzsimmons@enron', 'franks@enron', 'fundora@enron', 'garza@enron', 'gibner@enron', 'goodell@enron', 'gramke@enron', 'guillen@enron', 'hachen@enron', 'hearn@enron', 'henderson@enron', 'heuertz@enron', 'hoskins@enron', 'hrgovcic@enron', 'junek@enron', 'klimesh@enron', 'meers@enron', 'metcalf@enron', 'sikes@enron', 'wimberly@enron', 'drrampacek@ev1', 'flywithbill@hotmail', 'hmundy@eyeforenergy', 'srobinson@eyeforenergy', 'brebach@seurat', 'Brebach@seurat', 'burchfield@enron', 'matson@enron', 'Architecture@ENRON', 'Review@ENRON', 'adentiii@houston', 'CHohl@Homelog', 'beck@enron', 'gossett@enron', 'kass@enron', 'Kean@ENRON', 'CorporateSecurity@enron', 'update@barescapital', '@mailman', 'trebits@accenture', 'arabia@accenture', 'countryman@accenture', 'dugger@accenture', 'gelzer@accenture', 'leiser@accenture', 'nilsestuen@accenture', 'sassaman@accenture', 'schaffner@accenture', 'aberry@ucla', 'jescamp@na', 'treychildress@hotmail', 'dirring_stephanie@bah', 'fata@accenture', 'garrard@us', 'rgodfrey@hntb', 'mherder@us', 'mkeyserling@n2bb', 'Akline@manh', 'bmcdonald@sengent', 'ryanmcgraw@hotmail', 'jkm35@hotmail', 'carisa_powell@yahoo', 'suzanne_robinson@stockamp', 'travis_spaulding@HP', 'ntahiliani@hotmail', 'tichelaara@mccalltech', 'vwampler@yahoo', 'kycarolina@hotmail', 'danko@accenture', 'mckibbens@accenture', 'xico@cemex', 'participateinfo@postfuture', 'ParticipateInfo@postfuture', '16239R@lyris', '10816239R@lyris', 'activetrader@schwab', 'news@ibcuk', 'serv@informa', 'database@ibcuk', 'gpereira7@hotmail', 'inquiry@redherring', 'skupien@redherring', 'minatti@redherring', 'redherring@leetravel', 'SKILLING@ENRON', 'abuse@netmarketing', 'alexander@enron', 'farley@enron', 'lack@enron', 'weekley@enron', 'teichgraeber@enron', 'stolle@enron', 'stein@enron', 'segal@enron', 'remy@enron', 'petrello@enron', 'noteware@enron', 'monteleone@enron', 'mclean@enron', 'mcginnis@enron', 'jusbasche@enron', 'linbeck@enron', 'lahourcade@enron', 'kuebler@enron', 'kelley@enron', 'holthouse@enron', 'hobby@enron', 'hildebrand@enron', 'hawk@enron', 'gregory@enron', 'graf@enron', 'genssler@enron', 'friedkin@enron', 'fordham@enron', 'fleishman@enron', 'del@enron', 'brener@enron', 'bunting@enron', 'coskey@enron', 'demontrond@enron', 'doggett@enron', 'rutledge@alsformal', 'musslewhite@enron', 'dettloff@enron', 'bfrobins@texaschildrenshospital', 'conniev@cooperrig', 'ltaylor@familyeats', 'limbocker@enron', 'carmenz@sss', 'sherri_sera@hotmail', 'missas@senterracorp', 'ryan@enron', 'ylreid@speedshore', 'boyd@enron', 'cbadgett@tex', 'brown@chase', 'lade@enron', 'apuckett@ophouston', 'zlas02@sleh', 'noack@enron', 'foshee@enron', 'tmclean@bayhouston', 'braun@enron', 'lbernard@lodestarlogistics', 'pcarmody@holthouseinterests', 'rschrimpf@americaninfosource', 'jcole@hobbycomm', 'wallen@enron', 'asmith@teamindustrialservices', 'jaw@gregorycook', 'henry@enron', 'truett@enron', 'valle@enron', 'eramsey@nps', 'skyler@enron', 'bhogle@personix', 'sluder@delpapabud', 'lconstanzo@lionforce', 'reindl@enron', 'kebrak@pointecom', 'zycha@turnworksinc', 'athomas@brecoholdings', 'whatley@enron', 'layers77327@yahoo', 'horn@enron', 'malinda@nestgroup', 'Jan_Levine@travisintl', 'simpson@trade', 'charbonnet@enron', 'mcauliffe@enron', 'acg@kerr', '40enron@enron', 'Special@ENRON', 'energy_news@ftenergy', 'powermart1@list1', 'Energy_News@FTENERGY', 'POWERMART1@LIST1', 'conferences@ftenergy', 'fparra@swbanktx', 'ELM@ENRON', 'Infrastructure@ENRON', 'gailg@morgangroup', 'GailG@morgangroup', 'Jeff_Hines@hines', 'sql2@netscape', 'Shop@Netscape', '@leydehidrocarbu', 'japarra@m', 'editor@petroleumw', 'CEO@ENRON', 'dalak@hotmail', 'salmanqureshi@hotmail', 'webseminars@blazesoft', 'confadmin@ziffenergy', 'jackson@enron', 'jahnke@enron', 'kaiser@enron', 'khanani@enron', 'kimbrough@enron', 'knoblauh@enron', 'latham@enron', 'lennard@enron', 'lyons@enron', 'mckay@enron', 'molinaro@enron', 'newgard@enron', 'norman@enron', 'paliatsos@enron', 'parks@enron', 'pechersky@enron', 'post@enron', 'resendez@enron', 'riley@enron', 'saladino@enron', 'scarborough@enron', 'syed@enron', 'mccann@nc', 'cwallen@hilcorp', '42G@lyris', '10010942G@lyris', 'enronmessaging@yahoo', 'tgh8976@restructuringtoday', 'harry@enron', 'Union@ENRON', 'wagman@enron', 'narrinator@aol', 'Narrinator@aol', 'golfnbud@aol', 'noidandjen@aol', 'buxelbow@nexet', '8301aed8@k', 'Sp2lips@netrax', 'Johnwho@netrax', '1e1994b7@xmr3', '1E1994B7@xmr3', 'platts1@ftenergy', 'Platts1@FTENERGY', 'es@ftenergy', 'paul@a', 'ksubach@afce', 'kevin_cary@shoneys', 'kellykelly@geocities', 'kgilbert@firstcityfunding', 'ozkaren@yahoo', 'jspatt@world', 'jclarkson@bargo', 'hilife@mindspring', 'baxter2@mindspring', '1107@compuserve', 'jgastin@houlihans', 'jptigerly@mindspring', 'mbbje@cruzio', 'jennifere@austinkelley', 'jkurthdo@yahoo', 'jgoldstein@crww', 'jthompsoniii@benefitconceptsllc', 'jowen9653@aol', 'mgchristoph@hotmail', 'hartwig@fuji', 'grmccror@collins', 'wgander@twa', 'fwcarson@ix', '@Analyst', 'bodyshop@enron', 'quaintance@enron', 'quezada@enron', 'quintana@enron', 'rahn@enron', 'ramirez@enron', 'ramos@enron', 'ramsower@enron', 'randle@enron', 'rathvon@enron', 'ratliff@enron', 'ratner@enron', 'raymond@enron', 'reck@enron', 'reed@enron', 'regalado@enron', 'reimer@enron', 'rekhi@enron', 'reminisetti@enron', 'resendiz@enron', 'revis@enron', 'reyes@enron', 'reyna@enron', 'reynosa@enron', 'rhoden@enron', 'richard@enron', 'ricketts@enron', 'riegler@enron', 'ring@enron', 'rios@enron', 'risch@enron', 'roberts@enron', 'robinson@enron', 'roblee@enron', 'rodon@enron', 'rohatgi@enron', 'roland@enron', 'rosen@enron', 'rossi@enron', 'rozell@enron', 'ruff@enron', 'ruscitti@enron', 'russ@enron', 'saadia@enron', 'saha@enron', 'saldana@enron', 'salinas@enron', 'salvatierra@enron', 'sampson@enron', 'samuel@enron', 'sanchez@enron', 'saucedo@enron', 'saunders@enron', 'scales@enron', 'scheuer@enron', 'schmidt@enron', 'schneider@enron', 'schomer@enron', 'schrab@enron', 'schroeder@enron', 'schwarzbach@enron', 'schweiger@enron', 'lindberg@enron', 'scully@enron', 'seely@enron', 'self@enron', 'setera@enron', 'sewell@enron', 'sexton@enron', 'shackleton@enron', 'shah@enron', 'sheldon@enron', 'shishido@enron', 'shoemaker@enron', 'short@enron', 'shulklapper@enron', 'sides@enron', 'sidler@enron', 'sierra@enron', 'siewert@enron', 'simmons@enron', 'simper@enron', 'sims@enron', 'singh@enron', 'skelton@enron', 'skinner@enron', 'slaughter@enron', 'sloan@enron', 'spann@enron', 'salvagio@enron', 'sandford@enron', 'slone@enron', 'spiegelhauer@enron', 'swain@enron', 'Rahn@ENRON', 'shoaf@enron', 'spencer@enron', 'sutherland@enron', 'teneyck@enron', 'Carter@ENRON', 'vegec@24x7recruiting', 'VegeC@24x7Recruiting', 'VegeC@24x7recruiting', 'mkm@enron', 'MKM@enron', 'Notification@ENRON', 'Operations@ENRON', 'thepetelink@yahoo', 'vege@izhuta', 'Vege@Izhuta', 'vege@Izhuta', 'jpclark@wtn', 'neil@wtn', 'JPClark@wtn', 'Staff@ENRON', 'ypoforumsurvey@ypoforumdiagnosticsurvey', 'gary@cioclub', 'Gary@CIOClub', 'webinar@ventaso', 'gasconference@ziffenergy', 'connelly@enron', 'mcgowan@enron', 'mesquita@enron', 'pickering@enron', 'quilkey@enron', 'rosado@enron', 'Harbert@ENRON', 'michele@mobular', 'Services@ENRON', 'graubart@enron', 'roth@apbenergy', 'roth@APBenergy', 'renaud@enron', 'webtrading@schwab', 'pbrandt@lrci', 'WSGARRAWAY@prodigy', '@pimout4', 'REllis9747@aol', 'ellis@abnamro', 'blevinemd@home', 'com@cn318631a', '5a3f0b41@newcas1', 'ngilluly@houstontech', 'mdburkesa@aol', 'ariel@pdq', 'kbrooks@eyesoftexaspartners', 'emersonb@starlightcapital', 'pwareing@aol', 'PWareing@aol', 'MSandlin@tmh', '5147D82D2EEACF119E650001FA3702F70BF96CF7@exch1', 'KCollie70@AOL', 'seburgher@msn', 'donnadawson@bigplanet', 'athome@sigma', 'Net@Home2001', 'Net@Home', 'Valin@sigma', 'ipayit@enron', 'iPayit@Enron', 'Management@ENRON', 'Controls@ENRON', 'cheek@enron', 'hinojosa@enron', 'joyce@enron', 'lawless@enron', 'slade@enron', 'sullo@enron', 'valdez@enron', 'Elliott@ENRON', 'Dias@ENRON', 'johns@scudderpublishing', 'hreynolds@imiresort', 'asmesch@flash', 'ff34a999@xmr3', 'FF34A999@xmr3', 'YPO@COMDEX', 'meehan@terrapinn', 'dye@terrapinn', 'ftenergy1@ftenergy', 'powermart1@list2', 'ftenergy1@FTENERGY', 'POWERMART1@LIST2', 'ces@ftenergy', 'david_grizzle@yahoo', '@leydehidro', 'rra@mem', '@cancham', 'info@wecoaerospace', 'mbx_chairmansaward@enron', 'service@schwab', '_mehlman@who', '_Mehlman@who', 'suberinsky@ios', 'dandonaldson@att', 'jk@jhavergroup', 'dlong@houstontech', 'adminstrator@houstontech', 'Adminstrator@houstontech', 'season@wizard', 'rcossick@houstontech', 'lee_ahlstrom@mckinsey', 'msimmons@simmonsco', 'chris@enron', 'Lee_Ahlstrom@mckinsey', 'cossick@dynegy', 'lbentsen@swbell', 'MDBurkeSA@aol', 'mburke@entrix', 'Announcements@ENRON', 'jtoland@forrester', 'hopkins@bikebarntexas', 'bikebarn@bikebarntexas', 'newpower@newpower', 'NewPower@newpower', 'unsub_newpower@newpower', 'kweido@questia', 'KWeido@questia', 'ccdickerson@earthlink', 'larryd@delpapabud', 'dougs@senterracorp', 'jan_levin@travisintl', 'dpipkin@swbanktx', 'gloria@gammaconst', 'dougss@senterracorp', 'robin@hoganinvestment', 'michael@enron', 'aworobel@ftenergy', 'geaus@list2', 'AWorobel@FTENERGY', 'GEAUS@LIST2', 'doctoridea@email', 'prince_consultants@yahoo', 'Blake@hoganinvestment', 'ddalton34@aol', 'kaestner@rhargrove', 'Kaestner@RHargrove', 'sam@samumaria', 'acarty@mail', 'clavis@bellsouth', 'tmcgee17@aol', 'jgrumbles76@hotmail', 'info@surveywriter', 'alerts@schwab', 'mckinney@enron', 'bill_meehan@mckinsey', 'Bill_Meehan@mckinsey', 'States@ENRON', 'ready2go@enron', 'Ready2Go@enron', 'ellison@votenet', 'bryanusc@hotmail', 'nc7@columbia', '@Home', 'Excite@Home', 'EESBusinessCenter@enron', 'kumar@dowjones', 'art@heimbachresearch', 'jskilli@ENRON', 'abuse@zoomerang', 'skarness@enron', 'lilu@himalayacapital', 'lilu@HimalayaCapital', 'brice@restructuringtoday', 'season@restructuringtoday', 'sreinar@enron', 'Becker@ENRON', 'tkahn@cmhouston', 'azaremba@fzci', 'milesa@livetechsolutions', 'MilesA@LiveTechSolutions', 'gerosimo@lehman', 'gerosimo@enron', 'gmanning@lehman', 'kelly@amscsearch', 'Kelly@amscsearch', 'Service@schwab', 'master@enron', 'vertical@juno', 'BETAS@yahoogroups', 'mawallac@texaschildrenshospital', 'charles@enron', 'david@enron', 'dennis@enron', 'don@enron', 'emily@enron', 'jack@enron', 'jeffrey@enron', 'joel@enron', 'john@enron', 'larry@enron', 'mike@enron', 'philip@enron', 'rob@enron', 'robin@enron', 'stan@enron', 'ted@enron', 'tony@enron', 'walter@enron', 'mawallac@TexasChildrensHospital', 'challeninv@aol', 'ccassidy@businesscouncil', 'wylie_goodman@mckinsey', 'Wylie_Goodman@mckinsey', 'goldberg@chron', 'Goldberg@chron', 'slc1856@yahoo', 'newell@zilliant', 'skillingj@enron', 'Newell@zilliant', 'mario_muth@bellsouth', 'johnt@austinventures', 'donnancy@rmi', 'alan@enron', 'alfredo@enron', 'blake@enron', 'craig@enron', 'doug@enron', 'eric@enron', 'glenn@enron', 'jeff@enron', 'keith@enron', 'mark@enron', 'matt@enron', 'robert@enron', 'todd@enron', 'astein3183@aol', 'Harris@ca', 'david_weekley@dwhomes', 'David_Weekley@DWHOMES', 'craigd9561@aol', 'ed@nationalfinancepeople', 'Ed@nationalfinancepeople', 'Cgonzalez@eldoradocorp', 'williamk@kroadv', 'jawallace12050@aol', 'JAWallace12050@aol', 'rye@enron', 'ccoburn@kc', 'subscribe@yahoogroups', 'unsubscribe@yahoogroups', 'owner@yahoogroups', 'hackett@oceanenergy', 'Hackett@OceanEnergy', 'myousry1@san', 'underwood@enron', 'jmckay@eventamerica', 'ebarton@eventamerica', 'rusk@enron', 'froby@holmesmurphy', 'lance@shadowpack', 'mdobbs@kpmg', 'jflores@plainsresources', 'greenaviation@aol', 'GreenAviation@aol', 'Aviation@AOL', 'les_silverman@mckinsey', 'Les_Silverman@mckinsey', 'gclement@stewart', 'GCLEMENT@stewart', 'gclements@stewart', 'rzoellick@ustr', 'RZOELLICK@ustr', 'N@ustr', 'max@knowledgecube', 'max@KnowledgeCube', 'aszabo@stonebond', 'ltaylor@heidrick', 'ltaylor@h', 'tskilling@tribune', 'TSkilling@tribune', 'mduffey@brecoholdings', 'MDuffey@brecoholdings', 'norman_stout@inter', 'Norman_Stout@inter', 'jqa@mediaone', 'daronoff@greylock', 'haug@enron', 'gahunia@enron', 'shelby@enron', 'carberry@enron', 'wcarberry@sensecorp', 'ng@enron', 'peckenpaugh@enron', 'bprzyby@evokesoft', 'BPrzyby@evokesoft', 'pruner@enron', 'acarty@post', 'aechristie@aol', 'cjones@cityofnapa', 'gzophy@yahoo', 'mmmmisha@ix', 'robdbogey@aol', 'AEChristie@aol', 'estefanik@home', 'reynolds@enron', 'barcio@enron', 'cassidy@enron', 'faircloth@enron', 'esposito@enron', 'gerona@enron', 'plante@enron', 'gunasekera@enron', 'kumar@enron', 'cooper@enron', 'finger@enron', 'nixon@enron', 'poulson@enron', 'hetzel@enron', 'gandy@enron', 'soares@enron', 'corey@enron', 'flaming@enron', 'donges@enron', 'bao@enron', 'newcombe@enron', 'rabalais@enron', 'lu@enron', 'woodson@enron', 'chow@enron', 'pickett@enron', 'dipersio@enron', 'yarosh@enron', 'durrance@enron', 'hubbard@enron', 'dpr@dsg', 'lciscon@tierastudios', 'johns@inknowvator', 'bob_beauchamp@bmc', 'Bob_Beauchamp@bmc', 'tscott@radstrat', 'daveni@Dartmouth', 'administration@enron', 'kurtzman@katzenbach', 'Kurtzman@katzenbach', 'douglas_allen@agfg', 'wright@katzenbach', 'vegas@enron', 'FISHERD@Darden', 'armando@enron', 'drew@enron', 'fred@enron', 'ho@enron', 'leslyek@yahoo', 'versacci@enron', 'neubauer@enron', 'mendenhall@ubspainewebber', 'trahan@ubspainewebber', 'shine@ubspainewebber', 'rathjen@ubspainewebber', 'soo@enron', 'dgarvin@hsb', 'WHOLESALE@ENRON', 'Cook@nerc', 'cook@nerc', 'kunze@haack', 'haack@haack', 'skean@enron', 'brenner@enron', 'brunerr@darden', 'halloran@enron', 'BRUNERR@Darden', 'Carey@pentagon', 'aaron@enron', 'albert@enron', 'alfred@enron', 'andrew@enron', 'bertram@enron', 'bobby@enron', 'brinton@enron', 'calvin@enron', 'christopher@enron', 'cloyd@enron', 'donald@enron', 'duane@enron', 'edward@enron', 'frances@enron', 'garry@enron', 'greg@enron', 'harrison@enron', 'harvey@enron', 'howard@enron', 'jerry@enron', 'joe@enron', 'jonathan@enron', 'joseph@enron', 'joshua@enron', 'kenneth@enron', 'kipp@enron', 'laurence@enron', 'lawrence@enron', 'leonard@enron', 'ralph@enron', 'randy@enron', 'reagan@enron', 'ronald@enron', 'ross@enron', 'stephen@enron', 'steven@enron', 'timothy@enron', 'tom@enron', 'victor@enron', 'wayland@enron', 'spencer@pizzeriauno', 'jcthomas3399@hotmail', 'tanzaniasun@yahoo', 'Tanzaniasun@yahoo', 'jpavone@infrastructureworld', 'rosa@enron', 'gillian@consensus', 'sera@entron', 'ann@consensus', 'wiltfong@enron', 'alrapp@san', 'broussard@hyprotech', 'Broussard@hyprotech', 'streight@enron', 'communityaffairs@dal', 'CommunityAffairs@dal', 'off@mail', 'change@mail', 'hemery@firstunion1', 'HEMERY@firstunion1', 'jchukayne@jetlease', 'sreichhelm@tagaviation', 'SReichhelm@tagaviation', 'jross@TAGaviation', 'gclow@TAGaviation', 'pvanderblom@TAGaviation', 'phatch@TAGaviation', 'moore@TAGaviation', 'dasovich@enron', 'lipsen@cisco', 'frigap@bschool', 'ethanr@mindspring', 'johndonaldson@harvardgroupintl', 'black@enron', 'rblack@enron', 'roeder@enron', 'paulfriga@unc', 'courtney@enron', 'bland@enron', 'Hull@reuters', 'tlacy@swbanktx', 'ufgatortim@aol', 'UFGatorTim@aol', 'jlove@lockeliddell', 'JLove@lockeliddell', 'tpullig@firstunion1', 'TPULLIG@firstunion1', 'jhavila@firstunion1', 'JHAVILA@firstunion1', 'mamoyer@pacbell', 'database@isda', 'isda@isda', 'bhanlon@isda', 'rpicciotto@houston', 'ken@kdscommunications', 'kingerski@enron', 'Mara@enron', 'Denne@enron', 'Dasovich@enron', 'Comnes@enron', 'Steffes@enron', 'Rieker@enron', 'Guerrero@enron', 'Lawner@enron', 'Frank@enron', 'Whalley@enron', 'Palmer@enron', 'sharman@tm', 'Sharman@tm', 'jmd@personix', 'Jmd@personix', 'audryn@mindspring', 'white@energyspectrum', 'baca@enron', 'fbaca@pdq', 'davidcabello@earthlink', 'ihenry@hanoverco', 'dcabello@questia', 'mmfoss@uh', 'ekorey@hbsp', 'capipeline@enron', 'bradley@enron', 'tmoffet@amsterdampacific', 'TMoffet@amsterdampacific', 'jskilling@mba1979', 'alo@techna', 'ben@techna', 'perrino@enron', 'armitage@enron', 'tim@techpacific', 'holfati@ispheres', 'browner@enron', 'francois_glemet@mckinsey', 'thierry_miremont@mckinsey', 'Francois_Glemet@mckinsey', 'Thierry_Miremont@mckinsey', 'tauzier@enron', 'buchanan@enron', 'buchanan@sloan', 'lkao@mail', 'LKao@Mail', 'chadhmuir@yahoo', 'mbruneau@adventis', 'koleary@adventis', 'MBruneau@adventis', 'KOLeary@adventis', 'hargrave@enron', 'KHughes@brennanshouston', 'fosheed@nuevoenergy', 'pcg@gregorycook', 'pregan@ermsw', 'texastbell@aol', 'lynn77327@netscape', 'anewburn@mccoyinc', 'vmcarthur@carriageservices', 'treace@greystar', 'burns@oceanenergy', 'christineg@scaltech', 'rhenry@valic', 'nbraun@trammellcrow', 'vivld@yahoo', 'pressler@chase', 'lhooper@spencerstuart', 'mhaidar@dditechnologies', 'doyle@enron', 'flanigan@enron', 'siegel@enron', 'frumkin@enron', 'Aggies@Enron', 'communityrelations@enron', 'pedro_haas@mckinsey', 'Pedro_Haas@mckinsey', 'evitenewsletter@news', 'EviteNewsletter@news', 'judgegyro@yahoo', 'Judgegyro@yahoo', 'sms12289@aol', 'samuraimai@aol', 'eracheff@wwc', 'hughes@conoco', 'dunkindona@hotmail', 'Hughes@conoco', 'dmkim@post', 'A@M', 'A434P@4', '@T', '4TA434P@', '5R86P@0FEL', 'M3E0@8V', 'G0@', 'P@869F96', '@9F', '1CX@', 'P87D@', 'RX@', 'G9I8V4@', 'F0@', 'I86P@', '@1D', '3E0@8V', 'W4@87', 'I8V4@9F', 'C8@9', 'W0@', 'W960@', 'FL@', 'FET960@4W1A', '6P@', 'P@', 'L@', 'M1CX@', 'M270@', 'arobertshaw@eyeforenergy', '7d3e6e54@xmr3', '7D3E6E54@xmr3', 'Maria_Johnston@ypo', '8774937918@skytel', 'enews@strategy', 'eNews@strategy', 'avpg@infoline', 'events@forrester', 'forum1@frstrelay001', 'events@FORRESTER', 'FORUM1@frstrelay001', 'ccox@businesscouncil', 'mgweisblatt@yahoo', 'rsvphef@yahoo', '@yahoo', 'president@weforum', 'info@eyeforenergy', 'sdsl768k@yahoo', 'Payroll@ENRON', 'group@ENRON', 'MOSE84@yahoo', 'asnyirenda@zesco', 'santana@enron', 'mmetts@enron', 'SantanaVJ@state', 'factset@processrequest', 'FactSet@processrequest', 'dfrankel@factset', 'sales@omnijet', 'mmeisler@unterberg', 'elrod@pdx', 'energyforum@listserv', 'jelyons@ALUMNI', 'ENERGYFORUM@listserv', 'emailadmin@schwab', 'EmailAdmin@schwab', 'center@enron', 'BWest@enbc', 'tim@SWEETSTREET', 'rvail@enbc', 'Petroleumworldreaders@hotmail', '@canc', 'aveccs@cantv', 'Net@Home2001_', 'atHome@Sigma', '5236e5b1@xmr3', '5236E5B1@xmr3', 'hartz@zapmedia']\n"
     ]
    }
   ],
   "source": [
    "inbox = open('skilling-j.inbox', 'r')\n",
    "assert inbox\n",
    "emailList = []\n",
    "count = 0 \n",
    "\n",
    "for line in inbox:\n",
    "    emailPattern = re.compile (\"\\w*@\\w*\")\n",
    "    hasEmail = emailPattern.search (line)\n",
    "    if hasEmail:\n",
    "        a = hasEmail.start ()\n",
    "        b = hasEmail.end ()\n",
    "        email = line[a:b]\n",
    "        if email not in emailList:\n",
    "            emailList.append(email)\n",
    "            count = count +1\n",
    "    else:\n",
    "        pass\n",
    "    \n",
    "print \"Have \"+ str(count) + \" email addresses.\"\n",
    "print emailList\n",
    "    \n",
    "\n"
   ]
  },
  {
   "cell_type": "code",
   "execution_count": null,
   "metadata": {
    "collapsed": true
   },
   "outputs": [],
   "source": []
  }
 ],
 "metadata": {
  "kernelspec": {
   "display_name": "Python 2",
   "language": "python",
   "name": "python2"
  },
  "language_info": {
   "codemirror_mode": {
    "name": "ipython",
    "version": 2
   },
   "file_extension": ".py",
   "mimetype": "text/x-python",
   "name": "python",
   "nbconvert_exporter": "python",
   "pygments_lexer": "ipython2",
   "version": "2.7.10"
  }
 },
 "nbformat": 4,
 "nbformat_minor": 0
}
