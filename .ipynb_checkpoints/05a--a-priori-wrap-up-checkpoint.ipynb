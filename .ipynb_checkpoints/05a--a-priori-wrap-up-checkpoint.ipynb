{
 "cells": [
  {
   "cell_type": "markdown",
   "metadata": {},
   "source": [
    "# CSE 6040, Fall 2015 [05, Part A]: A-priori algorithm wrap-up\n",
    "\n",
    "The first part of today's class is the following notebook, which continues the last two exercises from [Lab 4](http://nbviewer.ipython.org/github/rvuduc/cse6040-ipynbs/blob/master/04--comps-gens-sparse.ipynb)."
   ]
  },
  {
   "cell_type": "markdown",
   "metadata": {},
   "source": [
    "## Sparse vectors and matrices\n",
    "\n",
    "When we ended Lab 3 in class, we asked you to complete the following exercise, which is a test to see whether you understand how default dictionaries work.\n",
    "\n",
    "First, recall the notion of a sparse (integer) vector."
   ]
  },
  {
   "cell_type": "code",
   "execution_count": 8,
   "metadata": {
    "collapsed": false
   },
   "outputs": [],
   "source": [
    "# === Sparse vector: definition ===\n",
    "from collections import defaultdict\n",
    "\n",
    "def sparse_vector ():\n",
    "    return defaultdict (int)\n",
    "\n",
    "def print_sparse_vector (x):\n",
    "    for key, value in x.items ():\n",
    "        print (\"%s: %d\" % (key, value))"
   ]
  },
  {
   "cell_type": "code",
   "execution_count": 4,
   "metadata": {
    "collapsed": false
   },
   "outputs": [
    {
     "name": "stdout",
     "output_type": "stream",
     "text": [
      "a: 2\n",
      "c: 11\n",
      "d: 6\n",
      "f: 1\n",
      "i: 1\n",
      "h: 6\n",
      "k: 4\n",
      "m: 1\n",
      "l: 2\n",
      "o: 11\n",
      "u: 7\n",
      "w: 5\n",
      "\n",
      "(Passed partial test.)\n"
     ]
    }
   ],
   "source": [
    "# === Sparse vector demo ===\n",
    "def alpha_chars (text):\n",
    "    \"\"\"\n",
    "    (Generator) Yields each of the alphabetic characters in a string.\n",
    "    \"\"\"\n",
    "    for letter in text:\n",
    "        if letter.isalpha ():\n",
    "            yield letter\n",
    "            \n",
    "text = \"\"\"How much wood could a woodchuck chuck\n",
    "if a woodchuck could chuck wood?\"\"\"\n",
    "letter_freqs = sparse_vector ()\n",
    "for letter in alpha_chars (text.lower ()):\n",
    "    letter_freqs[letter] += 1\n",
    "    \n",
    "print_sparse_vector (letter_freqs)\n",
    "\n",
    "assert letter_freqs['o'] == 11 and letter_freqs['h'] == 6\n",
    "print (\"\\n(Passed partial test.)\")"
   ]
  },
  {
   "cell_type": "markdown",
   "metadata": {},
   "source": [
    "**Exercise: Sparse matrices.** Suppose that we instead want to compute how frequently _pairs_ of letters occur within words.\n",
    "\n",
    "Instead of a sparse vector, you might instead maintain a table, or _sparse matrix_, such that the $(i, j)$ entry of the matrix counts the number of times the letters $i$ and $j$ co-occur within a word.\n",
    "\n",
    "> Complete the code below to implement a sparse matrix that counts the number of times that a pair of letters co-occurs in a word. In particular, fill in the code for `sparse_matrix()` and `alpha_chars_pairs()`."
   ]
  },
  {
   "cell_type": "code",
   "execution_count": 11,
   "metadata": {
    "collapsed": false
   },
   "outputs": [
    {
     "name": "stdout",
     "output_type": "stream",
     "text": [
      "Text: 'How much wood could a woodchuck chuck\n",
      "if a woodchuck could chuck wood?'\n",
      "\n",
      "==> Frequencies:\n",
      "[c, c]: 4\n",
      "[c, d]: 6\n",
      "[c, h]: 9\n",
      "[c, k]: 8\n",
      "[c, m]: 1\n",
      "[c, l]: 2\n",
      "[c, o]: 10\n",
      "[c, u]: 11\n",
      "[c, w]: 4\n",
      "[d, h]: 2\n",
      "[d, k]: 2\n",
      "[d, l]: 2\n",
      "[d, o]: 10\n",
      "[d, u]: 4\n",
      "[d, w]: 4\n",
      "[f, i]: 1\n",
      "[h, u]: 5\n",
      "[h, k]: 4\n",
      "[h, m]: 1\n",
      "[h, w]: 3\n",
      "[h, o]: 5\n",
      "[k, u]: 4\n",
      "[k, o]: 4\n",
      "[k, w]: 2\n",
      "[m, u]: 1\n",
      "[l, u]: 2\n",
      "[l, o]: 2\n",
      "[o, u]: 6\n",
      "[o, o]: 4\n",
      "[o, w]: 9\n",
      "[u, w]: 2\n",
      "\n",
      "(Passed partial test.)\n"
     ]
    }
   ],
   "source": [
    "# === COMPLETE THIS FUNCTION ===\n",
    "# Hint: See the definition of `print_sparse_matrix()`\n",
    "# to see the interface to which your sparse matrix object\n",
    "# should conform.\n",
    "def sparse_matrix ():\n",
    "    return defaultdict(sparse_vector) # dict in dict --> is 2 way dict\n",
    "    \"\"\"\n",
    "    Returns an empty sparse matrix that can hold integer counts\n",
    "    of pairs of elements.\n",
    "    \"\"\"\n",
    "    \n",
    "\n",
    "\n",
    "def print_sparse_matrix (x):\n",
    "    for i, row_i in x.items ():\n",
    "        for j, value in row_i.items ():\n",
    "            print (\"[%s, %s]: %d\" % (i, j, value))\n",
    "            \n",
    "            \n",
    "# === COMPLETE THIS FUNCTION ===\n",
    "# Hint: Look at how this function is used, below.\n",
    "def alpha_chars_pairs (text):\n",
    "    \"\"\"\n",
    "    (Generator) Yields every one of the 4-choose-2 pairs of\n",
    "    'positionally distinct' alphabetic characters in a string.\n",
    "    \n",
    "    That is, each position of the string is regarded as distinct,\n",
    "    but the pair of characters coming from positions (i, j),\n",
    "    where i != j, are considered the \"same\" as the paired\n",
    "    positions (j, i). Non-alphabetic characters should be\n",
    "    ignored.\n",
    "    \n",
    "    For instance, `alpha_chars_pairs (\"te3x_t\")` should produce\n",
    "    has just 4 positionally distinct characters, so this routine\n",
    "    should return the 4 choose 2 == 6 pairs:\n",
    "      ('t', 'e')    <-- from positions (0, 1)\n",
    "      ('t', 'x')    <-- from positions (0, 3)\n",
    "      ('t', 't')    <-- from positions (0, 5)\n",
    "      ('e', 'x')    <-- from positions (1, 3)\n",
    "      ('e', 't')    <-- from positions (1, 5)\n",
    "      ('x', 't')    <-- from positions (3, 5)\n",
    "    \"\"\"\n",
    "#     newString = []\n",
    "#     for letter in text:\n",
    "#         if letter.isalpha ():\n",
    "#             newString.append(letter) \n",
    "    \n",
    "    # above is equal to \n",
    "    newString = list (alpha_chars(text.lower()))\n",
    "    for i in range(0,len(newString)):\n",
    "        for j in range(i+1,len(newString)): \n",
    "                yield(newString[i],newString[j])\n",
    "        \n",
    "    #second sol.\n",
    "    #...\n",
    "    \n",
    "    #######stilll have problem, i think maybe it's about the letter_pair_counts do not have the default value of 0\n",
    "            \n",
    "\n",
    "# === Testing code follows ===\n",
    "\n",
    "# Compute frequency of pairs of positionally distinct,\n",
    "# case-insensitive alphabetic characters in a word.\n",
    "letter_pair_counts = sparse_matrix ()\n",
    "words = text.split ()\n",
    "for word in words:\n",
    "    for w_i, w_j in alpha_chars_pairs (word.lower ()):     \n",
    "        w_i, w_j = min (w_i, w_j), max (w_i, w_j)     # Enforce convention: w_i < w_j\n",
    "        letter_pair_counts[w_i][w_j] += 1\n",
    "\n",
    "print (\"Text: '%s'\" % text)\n",
    "print (\"\\n==> Frequencies:\")\n",
    "print_sparse_matrix (letter_pair_counts)\n",
    "\n",
    "assert letter_pair_counts['c']['c'] == 4\n",
    "assert letter_pair_counts['h']['o'] == 5\n",
    "print (\"\\n(Passed partial test.)\")"
   ]
  },
  {
   "cell_type": "markdown",
   "metadata": {},
   "source": [
    "## Putting it all together: The A-Priori algorithm\n",
    "\n",
    "Using all of the preceding material, implement the _A-Priori_ algorithm from the [previous Lab 3 notebook](http://nbviewer.ipython.org/github/rvuduc/cse6040-ipynbs/blob/master/03--assoc-rules.ipynb) to detect frequent email correspondents.\n",
    "\n",
    "But first, here's a little bit of helper code from last time, which you'll find useful."
   ]
  },
  {
   "cell_type": "code",
   "execution_count": null,
   "metadata": {
    "collapsed": false
   },
   "outputs": [],
   "source": [
    "# This code box contains some helper routines needed to implement\n",
    "# the A-Priori algorithm.\n",
    "\n",
    "import re\n",
    "import email.parser\n",
    "import os\n",
    "\n",
    "EMAIL_PATTERN = re.compile (r'[\\w+.]+@[\\w.]+')\n",
    "\n",
    "def messages (maildir_root):\n",
    "    \"\"\"\n",
    "    (Generator) Given a mailbox directory name, yields an\n",
    "    email object for each message therein.\n",
    "    \"\"\"\n",
    "    for base, dirs, files in os.walk (maildir_root):\n",
    "        for filename in files:\n",
    "            filepath = os.path.join (base, filename)\n",
    "            email_file = open (filepath)\n",
    "            msg = email.parser.Parser ().parse (email_file)\n",
    "            email_file.close ()\n",
    "            if len (msg) > 0: # Patch for non-email files?\n",
    "                yield msg"
   ]
  },
  {
   "cell_type": "markdown",
   "metadata": {},
   "source": [
    "**Exercise: The A-Priori algorithm applied to email.** Your task is to implement the _a-priori algorithm_ to generate a list of commonly co-occurring correspondents.\n",
    "\n",
    "You may make the following simplifying assumptions, which may or may not be valid depending on what the true analysis end-goal is.\n",
    "* You need only examine the 'From:' and 'To:' fields of an email message. Ignore all other fields.\n",
    "* You should only \"count\" an email address if _both_ the 'From:' and 'To:' fields are set. Otherwise, you cannot tell from whom the message was sent or who is the recipient, and may therefore ignore the interaction.\n",
    "* Consider pairs that consist of a sender and a recipient. In other words, do not match multiple recipients of a single message as a \"pair.\"\n",
    "* Ignore the direction of the exchange. That is, regard `bob@gatech.edu` sending to `kate@aol.com` as the same pair as `kate@aol.com` sending to `bob@gatech.edu`.\n",
    "\n",
    "> For Jeffrey Skilling's `maildir` and a threshold of 65 or more co-occurrences, our solution finds **10** frequently corresponding pairs. For the full data set, it finds **140** pairs."
   ]
  },
  {
   "cell_type": "code",
   "execution_count": null,
   "metadata": {
    "collapsed": false
   },
   "outputs": [],
   "source": [
    "# Specify maildir location; you may need to update these paths.\n",
    "MAILDIR = 'enron-maildir-subset/skilling-j' # Skilling's mail only\n",
    "#MAILDIR = 'enron-maildir-subset' # Full subset\n",
    "\n",
    "# Specify the minimum number of occurrences to be considered \"frequent\"\n",
    "THRESHOLD = 65\n",
    "\n",
    "# === FILL-IN YOUR IMPLEMENTATION AND TEST CODE BELOW ==\n",
    "addrs = set (EMAIL_PATTERN.findall (email_msg_obj['From:']))\n",
    "addrs.update (EMAIL_PATTERN.findall (email_msg_obj['To:']))\n"
   ]
  },
  {
   "cell_type": "code",
   "execution_count": null,
   "metadata": {
    "collapsed": true
   },
   "outputs": [],
   "source": []
  }
 ],
 "metadata": {
  "kernelspec": {
   "display_name": "Python 2",
   "language": "python",
   "name": "python2"
  },
  "language_info": {
   "codemirror_mode": {
    "name": "ipython",
    "version": 2
   },
   "file_extension": ".py",
   "mimetype": "text/x-python",
   "name": "python",
   "nbconvert_exporter": "python",
   "pygments_lexer": "ipython2",
   "version": "2.7.10"
  }
 },
 "nbformat": 4,
 "nbformat_minor": 0
}
